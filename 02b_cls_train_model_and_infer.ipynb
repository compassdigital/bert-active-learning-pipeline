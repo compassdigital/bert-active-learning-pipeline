{
 "cells": [
  {
   "attachments": {},
   "cell_type": "markdown",
   "id": "4da97167",
   "metadata": {},
   "source": [
    "In this notebook, we're going to train a classification model, evaluate it and generate new training samples for future iterations.\n",
    "\n",
    "Expected input:\n",
    "- Labelled data split into a train/test set\n",
    "- Remaining items (all items not in the train/test set)\n",
    "- Full set of data to run inference on\n",
    "\n",
    "Expected output:\n",
    "- Model files\n",
    "- Additional params- for further training\n",
    "- Labelled full set of data\n",
    "\n",
    "### Section 1\n",
    "Firstly, let's train our model:"
   ]
  },
  {
   "cell_type": "code",
   "execution_count": 103,
   "id": "7439621c-b792-4632-8b4d-848ef3dabf35",
   "metadata": {},
   "outputs": [
    {
     "data": {
      "text/plain": [
       "<module 'utils' from '/home/shared/code/08_protein_attribution/utils.py'>"
      ]
     },
     "execution_count": 103,
     "metadata": {},
     "output_type": "execute_result"
    }
   ],
   "source": [
    "import pandas as pd\n",
    "import numpy as np\n",
    "from transformers import AutoConfig, TFAutoModelForSequenceClassification, TFAutoModel, AutoTokenizer\n",
    "import tensorflow as tf\n",
    "from scipy.special import softmax\n",
    "from keras.callbacks import LearningRateScheduler\n",
    "import utils as ut\n",
    "import pickle\n",
    "import glob\n",
    "import hjson as json\n",
    "from sklearn.metrics import f1_score, confusion_matrix\n",
    "import re\n",
    "import plotly.figure_factory as ff\n",
    "import os\n",
    "from datetime import datetime\n",
    "from pathlib import Path\n",
    "\n",
    "import importlib\n",
    "importlib.reload(ut)\n"
   ]
  },
  {
   "cell_type": "code",
   "execution_count": 104,
   "id": "f565ecec",
   "metadata": {},
   "outputs": [],
   "source": [
    "# Read in our params file\n",
    "f = open('input_params.hjson')\n",
    "params = json.load(f)\n",
    "f.close()\n",
    "\n",
    "# Modelling params\n",
    "model_params = {\n",
    "    'model_type':'classifier',\n",
    "    'model_name':params['core']['cls_model_name'],\n",
    "    'input_cols':params['core']['cls_input_cols'],\n",
    "    'model_path': params['core']['model_path'],\n",
    "    'patience': params['nb_four']['patience'],\n",
    "    'learning_rate': params['nb_four']['learning_rate'],\n",
    "    'batch_size': params['nb_four']['batch_size'],\n",
    "    'model_architecture': params['core']['model_architecture'],\n",
    "    'use_pretrained_model': params['core']['use_pretrained_model']\n",
    "}\n",
    "n_increments = params['nb_four']['n_increments']\n",
    "# itemname_col = params['core']['itemname_col']"
   ]
  },
  {
   "attachments": {},
   "cell_type": "markdown",
   "id": "1eb42b30",
   "metadata": {},
   "source": [
    "#### Section 1\n",
    "Model training"
   ]
  },
  {
   "cell_type": "code",
   "execution_count": 105,
   "id": "23b719e7-3359-4482-a5c5-046159300b67",
   "metadata": {},
   "outputs": [
    {
     "name": "stderr",
     "output_type": "stream",
     "text": [
      "/home/shared/code/08_protein_attribution/utils.py:296: VisibleDeprecationWarning:\n",
      "\n",
      "Creating an ndarray from ragged nested sequences (which is a list-or-tuple of lists-or-tuples-or ndarrays with different lengths or shapes) is deprecated. If you meant to do this, you must specify 'dtype=object' when creating the ndarray.\n",
      "\n",
      "/home/shared/code/08_protein_attribution/utils.py:297: VisibleDeprecationWarning:\n",
      "\n",
      "Creating an ndarray from ragged nested sequences (which is a list-or-tuple of lists-or-tuples-or ndarrays with different lengths or shapes) is deprecated. If you meant to do this, you must specify 'dtype=object' when creating the ndarray.\n",
      "\n",
      "Some layers from the model checkpoint at classifier/protein_attribution/models/2023_02_19-05_23_18_AM/model were not used when initializing TFBertForSequenceClassification: ['dropout_37']\n",
      "- This IS expected if you are initializing TFBertForSequenceClassification from the checkpoint of a model trained on another task or with another architecture (e.g. initializing a BertForSequenceClassification model from a BertForPreTraining model).\n",
      "- This IS NOT expected if you are initializing TFBertForSequenceClassification from the checkpoint of a model that you expect to be exactly identical (initializing a BertForSequenceClassification model from a BertForSequenceClassification model).\n",
      "All the layers of TFBertForSequenceClassification were initialized from the model checkpoint at classifier/protein_attribution/models/2023_02_19-05_23_18_AM/model.\n",
      "If your task is similar to the task the model of the checkpoint was trained on, you can already use TFBertForSequenceClassification for predictions without further training.\n"
     ]
    }
   ],
   "source": [
    "# First, train your model\n",
    "\n",
    "def train_or_load_model(model_params, fine_tune):\n",
    "    # Tokenize\n",
    "    tokenizer = AutoTokenizer.from_pretrained(model_params['model_architecture'])\n",
    "\n",
    "    #load data and preprocess\n",
    "    classify = ut.Classify()\n",
    "    train_df, _ = classify.loadData(model_params['model_name'],model_params['input_cols'],tokenizer)\n",
    "\n",
    "    train_df = train_df.sample(frac = 1).reset_index(drop = True)\n",
    "    train_df,label_dic,conv_dic = classify.get_label_ids_dic(train_df,'label')\n",
    "    train_df['input'] = train_df[model_params['input_cols']].fillna('').apply(lambda x: ' [SEP] '.join(x), axis = 1)\n",
    "\n",
    "    X_train = classify.preprocess_inputs(train_df['input'].tolist(),tokenizer)[0]\n",
    "    Y_train = train_df['label_id'].values\n",
    "    class_wts = classify.get_class_wts(train_df)\n",
    "\n",
    "    if fine_tune:\n",
    "        # Fine tune the model\n",
    "        model = classify.load_model(label_dic, model_params['model_architecture'], model_params['use_pretrained_model'], model_path = model_params['model_path'])\n",
    "        print('training')\n",
    "        history = classify.train_model(model,X_train,Y_train, class_wts, model_params['patience'], model_params['learning_rate'], model_params['batch_size'])\n",
    "        train_results = {\n",
    "            'hparams': model_params,\n",
    "            'label_dic': label_dic,\n",
    "            'conv_dic':conv_dic,\n",
    "            'history': history.history\n",
    "        }\n",
    "        print(history)\n",
    "\n",
    "        # Save this run of the model\n",
    "        current_date_time = datetime.now().strftime('%Y_%m_%d-%I_%M_%S_%p')\n",
    "        if not os.path.exists(f\"classifier/{model_params['model_name']}/models/{current_date_time}\"):\n",
    "            os.makedirs(f\"classifier/{model_params['model_name']}/models/{current_date_time}\")\n",
    "\n",
    "        model.save_pretrained(f\"classifier/{model_params['model_name']}/models/{current_date_time}/model\")\n",
    "        pickle.dump(train_results,open(f\"classifier/{model_params['model_name']}/models/{current_date_time}/train_results.pkl\",'wb'))\n",
    "\n",
    "    else:\n",
    "        # Load the latest model and run inference with it\n",
    "        dirpath=f\"classifier/{model_params['model_name']}/models/\"\n",
    "        paths = sorted(Path(dirpath).iterdir(), key=os.path.getmtime)\n",
    "\n",
    "        latest_model_folder = str(paths[-1])\n",
    "        latest_model_path  = latest_model_folder+\"/model\"\n",
    "        latest_model_params = latest_model_folder+\"/train_results.pkl\"\n",
    "        with open(latest_model_params, 'rb') as f:\n",
    "            train_results = pickle.load(f)\n",
    "\n",
    "        model = TFAutoModelForSequenceClassification.from_pretrained(latest_model_path)\n",
    "        tokenizer = AutoTokenizer.from_pretrained(params['core']['model_architecture'])\n",
    "\n",
    "    return train_results, model, tokenizer, classify\n",
    "\n",
    "fine_tune = 0\n",
    "train_results, model, tokenizer, classify = train_or_load_model(model_params, fine_tune)\n",
    "\n",
    "\n",
    "# #Load in our full catalog to run inference, concat the test df so that any made up examples are included\n",
    "# item_df = pd.read_csv(f\"classifier/{model_params['model_name']}/data/{model_params['model_name']}_full_item_catalog.csv\")\n",
    "\n",
    "# item_df_cols = list(item_df)\n",
    "# item_df = pd.concat([item_df, test_answers_df[item_df_cols]]).drop_duplicates().reset_index(drop=True)\n",
    "\n",
    "# # Run inference and evaluate the quality of predictions\n",
    "# results = classify.model_predictions(item_df,tokenizer,model_params,model,label_dic)\n",
    "# df_ready_for_eval = test_answers_df.merge(results[model_params['input_cols']+['prediction','rounded_confidence']], how='left', on=model_params['input_cols'], indicator=True, suffixes=('','_extra'))\n",
    "\n",
    "# increment_results[str(i)]= {}\n",
    "# increment_results[str(i)]['predictions']=results\n",
    "# increment_results[str(i)]['train_results']=train_results\n",
    "# increment_results[str(i)]['prediction_evaluation']={}\n",
    "# increment_results[str(i)]['prediction_evaluation']['labels'] = df_ready_for_eval['label'].unique()\n",
    "# increment_results[str(i)]['prediction_evaluation']['confusion_matrix']= confusion_matrix(df_ready_for_eval['label'],df_ready_for_eval['prediction'], labels= list(df_ready_for_eval['label'].unique()))\n",
    "# cols= list(df_ready_for_eval['label'].unique())\n",
    "# vals= f1_score(df_ready_for_eval['label'],df_ready_for_eval['prediction'], labels= list(df_ready_for_eval['label'].unique()), average=None)\n",
    "# df_temp = pd.DataFrame(vals.reshape(1,len(cols)), columns = cols)\n",
    "# df_temp['n_samples'] = train_df.shape[0]\n",
    "# increment_results[str(i)]['prediction_evaluation']['performance']=df_temp.copy(deep=True)\n",
    "    \n",
    "# # Concat all our results in one df for future analysis\n",
    "# to_concat = []\n",
    "# for k, v in increment_results.items():\n",
    "#     to_concat.append(v['prediction_evaluation']['performance'])\n",
    "# increment_results['performance'] = pd.concat(to_concat)\n",
    "    \n",
    "# # Write out the test set and full model predictions\n",
    "# results.to_csv(f\"classifier/{model_params['model_name']}/data/{model_params['model_name']}_full_set_predictions.csv\", index=False)\n",
    "# cols_out = list(results)\n",
    "# df_ready_for_eval[cols_out].to_csv(f\"classifier/{model_params['model_name']}/data/{model_params['model_name']}_test_set_predictions.csv\", index=False)\n",
    "    \n",
    "\n"
   ]
  },
  {
   "cell_type": "code",
   "execution_count": 106,
   "id": "5597ab3e",
   "metadata": {},
   "outputs": [
    {
     "data": {
      "text/html": [
       "<div>\n",
       "<style scoped>\n",
       "    .dataframe tbody tr th:only-of-type {\n",
       "        vertical-align: middle;\n",
       "    }\n",
       "\n",
       "    .dataframe tbody tr th {\n",
       "        vertical-align: top;\n",
       "    }\n",
       "\n",
       "    .dataframe thead th {\n",
       "        text-align: right;\n",
       "    }\n",
       "</style>\n",
       "<table border=\"1\" class=\"dataframe\">\n",
       "  <thead>\n",
       "    <tr style=\"text-align: right;\">\n",
       "      <th></th>\n",
       "      <th>tier_1</th>\n",
       "      <th>tier_2</th>\n",
       "      <th>tier_3</th>\n",
       "      <th>tier_4</th>\n",
       "      <th>lineitem_name</th>\n",
       "      <th>sales_amt_gross</th>\n",
       "      <th>label</th>\n",
       "      <th>prediction</th>\n",
       "      <th>rounded_confidence</th>\n",
       "    </tr>\n",
       "  </thead>\n",
       "  <tbody>\n",
       "    <tr>\n",
       "      <th>0</th>\n",
       "      <td>Food</td>\n",
       "      <td>Breakfast</td>\n",
       "      <td>Breakfast Side</td>\n",
       "      <td>Grits</td>\n",
       "      <td>Grits Large</td>\n",
       "      <td>78552.240000</td>\n",
       "      <td>NaN</td>\n",
       "      <td>AO</td>\n",
       "      <td>1.0</td>\n",
       "    </tr>\n",
       "    <tr>\n",
       "      <th>1</th>\n",
       "      <td>Food</td>\n",
       "      <td>Entree</td>\n",
       "      <td>Weighed/Build Your Own</td>\n",
       "      <td>Weighed/Build Your Own</td>\n",
       "      <td>Large Boat</td>\n",
       "      <td>190793.963333</td>\n",
       "      <td>NaN</td>\n",
       "      <td>Supplies</td>\n",
       "      <td>1.0</td>\n",
       "    </tr>\n",
       "    <tr>\n",
       "      <th>2</th>\n",
       "      <td>Food</td>\n",
       "      <td>Entree</td>\n",
       "      <td>Sandwich/Wrap</td>\n",
       "      <td>Sandwich/Wrap</td>\n",
       "      <td>Kitchen Fresh 1137 Italian Focaccia (7.7oz)</td>\n",
       "      <td>84461.820000</td>\n",
       "      <td>NaN</td>\n",
       "      <td>AO</td>\n",
       "      <td>1.0</td>\n",
       "    </tr>\n",
       "    <tr>\n",
       "      <th>3</th>\n",
       "      <td>Food</td>\n",
       "      <td>Entree</td>\n",
       "      <td>Noodle/Grain Bowl</td>\n",
       "      <td>Noodle/Grain Bowl</td>\n",
       "      <td>Adobo Chicken Bowl</td>\n",
       "      <td>236852.690000</td>\n",
       "      <td>NaN</td>\n",
       "      <td>Chicken</td>\n",
       "      <td>1.0</td>\n",
       "    </tr>\n",
       "    <tr>\n",
       "      <th>4</th>\n",
       "      <td>Food</td>\n",
       "      <td>Breakfast</td>\n",
       "      <td>Oatmeal/Cereal</td>\n",
       "      <td>Oatmeal</td>\n",
       "      <td>8oz Steel Cut Oatmeal (1</td>\n",
       "      <td>125298.810000</td>\n",
       "      <td>NaN</td>\n",
       "      <td>AO</td>\n",
       "      <td>1.0</td>\n",
       "    </tr>\n",
       "    <tr>\n",
       "      <th>...</th>\n",
       "      <td>...</td>\n",
       "      <td>...</td>\n",
       "      <td>...</td>\n",
       "      <td>...</td>\n",
       "      <td>...</td>\n",
       "      <td>...</td>\n",
       "      <td>...</td>\n",
       "      <td>...</td>\n",
       "      <td>...</td>\n",
       "    </tr>\n",
       "    <tr>\n",
       "      <th>460910</th>\n",
       "      <td>Food</td>\n",
       "      <td>Entree</td>\n",
       "      <td>Burger</td>\n",
       "      <td>Burger</td>\n",
       "      <td>Spicy Pepperjack Burger</td>\n",
       "      <td>5.490000</td>\n",
       "      <td>NaN</td>\n",
       "      <td>Beef</td>\n",
       "      <td>1.0</td>\n",
       "    </tr>\n",
       "    <tr>\n",
       "      <th>460911</th>\n",
       "      <td>Food</td>\n",
       "      <td>Entree</td>\n",
       "      <td>Other Entree</td>\n",
       "      <td>Other Entree</td>\n",
       "      <td>Charlotte SP White Egg Salad (6oz)</td>\n",
       "      <td>2.990000</td>\n",
       "      <td>NaN</td>\n",
       "      <td>Egg</td>\n",
       "      <td>1.0</td>\n",
       "    </tr>\n",
       "    <tr>\n",
       "      <th>460912</th>\n",
       "      <td>Food</td>\n",
       "      <td>Breakfast</td>\n",
       "      <td>Griddle</td>\n",
       "      <td>Waffles</td>\n",
       "      <td>Crisper and Waffle Combo</td>\n",
       "      <td>11.890000</td>\n",
       "      <td>NaN</td>\n",
       "      <td>AO</td>\n",
       "      <td>1.0</td>\n",
       "    </tr>\n",
       "    <tr>\n",
       "      <th>460913</th>\n",
       "      <td>Food</td>\n",
       "      <td>Breakfast</td>\n",
       "      <td>Breakfast Sandwiches</td>\n",
       "      <td>Breakfast Sandwich/Wrap</td>\n",
       "      <td>BFK - FIT Applewood Bacon Egg &amp; Cheddar Flatbread</td>\n",
       "      <td>0.000000</td>\n",
       "      <td>NaN</td>\n",
       "      <td>Bacon</td>\n",
       "      <td>1.0</td>\n",
       "    </tr>\n",
       "    <tr>\n",
       "      <th>460914</th>\n",
       "      <td>Food</td>\n",
       "      <td>Entree</td>\n",
       "      <td>Salad</td>\n",
       "      <td>Salad</td>\n",
       "      <td>Freekah&amp; Delicata Squash&amp; Pomegranate &amp; Pumpki...</td>\n",
       "      <td>10.250000</td>\n",
       "      <td>NaN</td>\n",
       "      <td>Veggie</td>\n",
       "      <td>1.0</td>\n",
       "    </tr>\n",
       "  </tbody>\n",
       "</table>\n",
       "<p>460915 rows × 9 columns</p>\n",
       "</div>"
      ],
      "text/plain": [
       "       tier_1     tier_2                  tier_3                   tier_4  \\\n",
       "0        Food  Breakfast          Breakfast Side                    Grits   \n",
       "1        Food     Entree  Weighed/Build Your Own   Weighed/Build Your Own   \n",
       "2        Food     Entree           Sandwich/Wrap            Sandwich/Wrap   \n",
       "3        Food     Entree       Noodle/Grain Bowl        Noodle/Grain Bowl   \n",
       "4        Food  Breakfast          Oatmeal/Cereal                  Oatmeal   \n",
       "...       ...        ...                     ...                      ...   \n",
       "460910   Food     Entree                  Burger                   Burger   \n",
       "460911   Food     Entree            Other Entree             Other Entree   \n",
       "460912   Food  Breakfast                 Griddle                  Waffles   \n",
       "460913   Food  Breakfast    Breakfast Sandwiches  Breakfast Sandwich/Wrap   \n",
       "460914   Food     Entree                   Salad                    Salad   \n",
       "\n",
       "                                            lineitem_name  sales_amt_gross  \\\n",
       "0                                             Grits Large     78552.240000   \n",
       "1                                              Large Boat    190793.963333   \n",
       "2             Kitchen Fresh 1137 Italian Focaccia (7.7oz)     84461.820000   \n",
       "3                                      Adobo Chicken Bowl    236852.690000   \n",
       "4                                8oz Steel Cut Oatmeal (1    125298.810000   \n",
       "...                                                   ...              ...   \n",
       "460910                            Spicy Pepperjack Burger         5.490000   \n",
       "460911                 Charlotte SP White Egg Salad (6oz)         2.990000   \n",
       "460912                           Crisper and Waffle Combo        11.890000   \n",
       "460913  BFK - FIT Applewood Bacon Egg & Cheddar Flatbread         0.000000   \n",
       "460914  Freekah& Delicata Squash& Pomegranate & Pumpki...        10.250000   \n",
       "\n",
       "        label prediction  rounded_confidence  \n",
       "0         NaN         AO                 1.0  \n",
       "1         NaN   Supplies                 1.0  \n",
       "2         NaN         AO                 1.0  \n",
       "3         NaN    Chicken                 1.0  \n",
       "4         NaN         AO                 1.0  \n",
       "...       ...        ...                 ...  \n",
       "460910    NaN       Beef                 1.0  \n",
       "460911    NaN        Egg                 1.0  \n",
       "460912    NaN         AO                 1.0  \n",
       "460913    NaN      Bacon                 1.0  \n",
       "460914    NaN     Veggie                 1.0  \n",
       "\n",
       "[460915 rows x 9 columns]"
      ]
     },
     "execution_count": 106,
     "metadata": {},
     "output_type": "execute_result"
    }
   ],
   "source": [
    "# Run inference on the full set\n",
    "skip_full_set_inference = 1\n",
    "\n",
    "if skip_full_set_inference:\n",
    "    results = pd.read_csv(f\"classifier/{model_params['model_name']}/data/{model_params['model_name']}_full_set_predictions.csv\")\n",
    "\n",
    "else:\n",
    "    item_df = pd.read_csv(f\"classifier/{model_params['model_name']}/data/{model_params['model_name']}_full_item_catalog.csv\")\n",
    "    results = classify.model_predictions(item_df,tokenizer,train_results['hparams'],model,train_results['label_dic'])\n",
    "\n",
    "    results.to_csv(f\"classifier/{model_params['model_name']}/data/{model_params['model_name']}_full_set_predictions.csv\", index=False)\n",
    "results"
   ]
  },
  {
   "cell_type": "code",
   "execution_count": 107,
   "id": "490d9a0c",
   "metadata": {},
   "outputs": [
    {
     "name": "stderr",
     "output_type": "stream",
     "text": [
      "/home/shared/code/08_protein_attribution/utils.py:296: VisibleDeprecationWarning:\n",
      "\n",
      "Creating an ndarray from ragged nested sequences (which is a list-or-tuple of lists-or-tuples-or ndarrays with different lengths or shapes) is deprecated. If you meant to do this, you must specify 'dtype=object' when creating the ndarray.\n",
      "\n",
      "/home/shared/code/08_protein_attribution/utils.py:297: VisibleDeprecationWarning:\n",
      "\n",
      "Creating an ndarray from ragged nested sequences (which is a list-or-tuple of lists-or-tuples-or ndarrays with different lengths or shapes) is deprecated. If you meant to do this, you must specify 'dtype=object' when creating the ndarray.\n",
      "\n"
     ]
    },
    {
     "name": "stdout",
     "output_type": "stream",
     "text": [
      "294/294 [==============================] - 18s 49ms/step\n",
      "1.0    9083\n",
      "0.9     135\n",
      "0.8      60\n",
      "0.7      54\n",
      "0.6      42\n",
      "0.5      12\n",
      "0.3       4\n",
      "0.4       1\n",
      "Name: rounded_confidence, dtype: int64\n"
     ]
    }
   ],
   "source": [
    "# Run inference on the test set\n",
    "_, test_df = classify.loadData(model_params['model_name'],model_params['input_cols'],tokenizer)\n",
    "test_results = classify.model_predictions(test_df,tokenizer,train_results['hparams'],model,train_results['label_dic'])\n",
    "\n",
    "test_results.to_csv(f\"classifier/{model_params['model_name']}/data/{model_params['model_name']}_test_set_predictions.csv\", index=False)"
   ]
  },
  {
   "attachments": {},
   "cell_type": "markdown",
   "id": "1cf74713",
   "metadata": {},
   "source": [
    "### Section 2:\n",
    "\n",
    "Visualize our test set results"
   ]
  },
  {
   "cell_type": "code",
   "execution_count": 108,
   "id": "4c338c39",
   "metadata": {},
   "outputs": [
    {
     "data": {
      "application/vnd.plotly.v1+json": {
       "config": {
        "plotlyServerURL": "https://plot.ly"
       },
       "data": [
        {
         "colorscale": [
          [
           0,
           "#0d0887"
          ],
          [
           0.1111111111111111,
           "#46039f"
          ],
          [
           0.2222222222222222,
           "#7201a8"
          ],
          [
           0.3333333333333333,
           "#9c179e"
          ],
          [
           0.4444444444444444,
           "#bd3786"
          ],
          [
           0.5555555555555556,
           "#d8576b"
          ],
          [
           0.6666666666666666,
           "#ed7953"
          ],
          [
           0.7777777777777778,
           "#fb9f3a"
          ],
          [
           0.8888888888888888,
           "#fdca26"
          ],
          [
           1,
           "#f0f921"
          ]
         ],
         "reversescale": false,
         "showscale": false,
         "type": "heatmap",
         "x": [
          "Cheese",
          "AO",
          "Sausage",
          "Seafood",
          "Fish",
          "Meatball",
          "Chicken",
          "Veggie",
          "Lamb",
          "Beef",
          "Ham",
          "Pepperoni",
          "Turkey",
          "Supplies",
          "Bacon",
          "Pork",
          "Egg"
         ],
         "y": [
          "Cheese",
          "AO",
          "Sausage",
          "Seafood",
          "Fish",
          "Meatball",
          "Chicken",
          "Veggie",
          "Lamb",
          "Beef",
          "Ham",
          "Pepperoni",
          "Turkey",
          "Supplies",
          "Bacon",
          "Pork",
          "Egg"
         ],
         "z": [
          [
           287,
           4,
           0,
           0,
           0,
           0,
           0,
           2,
           0,
           3,
           0,
           1,
           0,
           0,
           0,
           0,
           0
          ],
          [
           5,
           3454,
           2,
           7,
           8,
           0,
           16,
           48,
           0,
           17,
           0,
           0,
           0,
           94,
           4,
           11,
           3
          ],
          [
           0,
           1,
           146,
           0,
           0,
           0,
           0,
           2,
           0,
           0,
           0,
           0,
           0,
           0,
           0,
           0,
           0
          ],
          [
           0,
           6,
           0,
           189,
           1,
           0,
           0,
           0,
           0,
           0,
           0,
           0,
           0,
           0,
           0,
           0,
           0
          ],
          [
           0,
           6,
           1,
           2,
           437,
           0,
           0,
           0,
           0,
           1,
           0,
           0,
           0,
           0,
           0,
           0,
           0
          ],
          [
           0,
           1,
           0,
           0,
           0,
           49,
           0,
           0,
           0,
           0,
           0,
           0,
           0,
           0,
           0,
           0,
           0
          ],
          [
           0,
           2,
           1,
           0,
           0,
           0,
           1446,
           1,
           0,
           0,
           0,
           0,
           2,
           0,
           0,
           0,
           0
          ],
          [
           1,
           27,
           0,
           1,
           0,
           0,
           4,
           873,
           0,
           3,
           0,
           0,
           0,
           2,
           0,
           1,
           1
          ],
          [
           0,
           0,
           0,
           0,
           0,
           0,
           0,
           0,
           14,
           0,
           0,
           0,
           0,
           0,
           0,
           0,
           0
          ],
          [
           1,
           11,
           0,
           0,
           0,
           0,
           1,
           6,
           0,
           623,
           0,
           0,
           0,
           0,
           0,
           1,
           1
          ],
          [
           0,
           0,
           0,
           0,
           0,
           0,
           0,
           0,
           0,
           1,
           309,
           0,
           0,
           0,
           0,
           0,
           0
          ],
          [
           0,
           0,
           1,
           0,
           0,
           0,
           0,
           0,
           0,
           0,
           0,
           40,
           0,
           0,
           0,
           0,
           0
          ],
          [
           0,
           0,
           0,
           0,
           0,
           0,
           0,
           0,
           0,
           1,
           0,
           0,
           536,
           0,
           0,
           0,
           0
          ],
          [
           0,
           81,
           0,
           2,
           0,
           0,
           0,
           1,
           0,
           0,
           0,
           0,
           0,
           321,
           0,
           0,
           0
          ],
          [
           2,
           0,
           0,
           1,
           0,
           0,
           0,
           0,
           0,
           1,
           0,
           0,
           0,
           0,
           47,
           0,
           0
          ],
          [
           0,
           2,
           0,
           0,
           0,
           0,
           0,
           0,
           0,
           2,
           0,
           0,
           0,
           0,
           0,
           167,
           0
          ],
          [
           0,
           3,
           0,
           0,
           0,
           0,
           0,
           0,
           0,
           0,
           0,
           0,
           0,
           0,
           0,
           0,
           42
          ]
         ]
        }
       ],
       "layout": {
        "annotations": [
         {
          "font": {
           "color": "#FFFFFF"
          },
          "showarrow": false,
          "text": "287",
          "x": "Cheese",
          "xref": "x",
          "y": "Cheese",
          "yref": "y"
         },
         {
          "font": {
           "color": "#FFFFFF"
          },
          "showarrow": false,
          "text": "4",
          "x": "AO",
          "xref": "x",
          "y": "Cheese",
          "yref": "y"
         },
         {
          "font": {
           "color": "#FFFFFF"
          },
          "showarrow": false,
          "text": "0",
          "x": "Sausage",
          "xref": "x",
          "y": "Cheese",
          "yref": "y"
         },
         {
          "font": {
           "color": "#FFFFFF"
          },
          "showarrow": false,
          "text": "0",
          "x": "Seafood",
          "xref": "x",
          "y": "Cheese",
          "yref": "y"
         },
         {
          "font": {
           "color": "#FFFFFF"
          },
          "showarrow": false,
          "text": "0",
          "x": "Fish",
          "xref": "x",
          "y": "Cheese",
          "yref": "y"
         },
         {
          "font": {
           "color": "#FFFFFF"
          },
          "showarrow": false,
          "text": "0",
          "x": "Meatball",
          "xref": "x",
          "y": "Cheese",
          "yref": "y"
         },
         {
          "font": {
           "color": "#FFFFFF"
          },
          "showarrow": false,
          "text": "0",
          "x": "Chicken",
          "xref": "x",
          "y": "Cheese",
          "yref": "y"
         },
         {
          "font": {
           "color": "#FFFFFF"
          },
          "showarrow": false,
          "text": "2",
          "x": "Veggie",
          "xref": "x",
          "y": "Cheese",
          "yref": "y"
         },
         {
          "font": {
           "color": "#FFFFFF"
          },
          "showarrow": false,
          "text": "0",
          "x": "Lamb",
          "xref": "x",
          "y": "Cheese",
          "yref": "y"
         },
         {
          "font": {
           "color": "#FFFFFF"
          },
          "showarrow": false,
          "text": "3",
          "x": "Beef",
          "xref": "x",
          "y": "Cheese",
          "yref": "y"
         },
         {
          "font": {
           "color": "#FFFFFF"
          },
          "showarrow": false,
          "text": "0",
          "x": "Ham",
          "xref": "x",
          "y": "Cheese",
          "yref": "y"
         },
         {
          "font": {
           "color": "#FFFFFF"
          },
          "showarrow": false,
          "text": "1",
          "x": "Pepperoni",
          "xref": "x",
          "y": "Cheese",
          "yref": "y"
         },
         {
          "font": {
           "color": "#FFFFFF"
          },
          "showarrow": false,
          "text": "0",
          "x": "Turkey",
          "xref": "x",
          "y": "Cheese",
          "yref": "y"
         },
         {
          "font": {
           "color": "#FFFFFF"
          },
          "showarrow": false,
          "text": "0",
          "x": "Supplies",
          "xref": "x",
          "y": "Cheese",
          "yref": "y"
         },
         {
          "font": {
           "color": "#FFFFFF"
          },
          "showarrow": false,
          "text": "0",
          "x": "Bacon",
          "xref": "x",
          "y": "Cheese",
          "yref": "y"
         },
         {
          "font": {
           "color": "#FFFFFF"
          },
          "showarrow": false,
          "text": "0",
          "x": "Pork",
          "xref": "x",
          "y": "Cheese",
          "yref": "y"
         },
         {
          "font": {
           "color": "#FFFFFF"
          },
          "showarrow": false,
          "text": "0",
          "x": "Egg",
          "xref": "x",
          "y": "Cheese",
          "yref": "y"
         },
         {
          "font": {
           "color": "#FFFFFF"
          },
          "showarrow": false,
          "text": "5",
          "x": "Cheese",
          "xref": "x",
          "y": "AO",
          "yref": "y"
         },
         {
          "font": {
           "color": "#000000"
          },
          "showarrow": false,
          "text": "3454",
          "x": "AO",
          "xref": "x",
          "y": "AO",
          "yref": "y"
         },
         {
          "font": {
           "color": "#FFFFFF"
          },
          "showarrow": false,
          "text": "2",
          "x": "Sausage",
          "xref": "x",
          "y": "AO",
          "yref": "y"
         },
         {
          "font": {
           "color": "#FFFFFF"
          },
          "showarrow": false,
          "text": "7",
          "x": "Seafood",
          "xref": "x",
          "y": "AO",
          "yref": "y"
         },
         {
          "font": {
           "color": "#FFFFFF"
          },
          "showarrow": false,
          "text": "8",
          "x": "Fish",
          "xref": "x",
          "y": "AO",
          "yref": "y"
         },
         {
          "font": {
           "color": "#FFFFFF"
          },
          "showarrow": false,
          "text": "0",
          "x": "Meatball",
          "xref": "x",
          "y": "AO",
          "yref": "y"
         },
         {
          "font": {
           "color": "#FFFFFF"
          },
          "showarrow": false,
          "text": "16",
          "x": "Chicken",
          "xref": "x",
          "y": "AO",
          "yref": "y"
         },
         {
          "font": {
           "color": "#FFFFFF"
          },
          "showarrow": false,
          "text": "48",
          "x": "Veggie",
          "xref": "x",
          "y": "AO",
          "yref": "y"
         },
         {
          "font": {
           "color": "#FFFFFF"
          },
          "showarrow": false,
          "text": "0",
          "x": "Lamb",
          "xref": "x",
          "y": "AO",
          "yref": "y"
         },
         {
          "font": {
           "color": "#FFFFFF"
          },
          "showarrow": false,
          "text": "17",
          "x": "Beef",
          "xref": "x",
          "y": "AO",
          "yref": "y"
         },
         {
          "font": {
           "color": "#FFFFFF"
          },
          "showarrow": false,
          "text": "0",
          "x": "Ham",
          "xref": "x",
          "y": "AO",
          "yref": "y"
         },
         {
          "font": {
           "color": "#FFFFFF"
          },
          "showarrow": false,
          "text": "0",
          "x": "Pepperoni",
          "xref": "x",
          "y": "AO",
          "yref": "y"
         },
         {
          "font": {
           "color": "#FFFFFF"
          },
          "showarrow": false,
          "text": "0",
          "x": "Turkey",
          "xref": "x",
          "y": "AO",
          "yref": "y"
         },
         {
          "font": {
           "color": "#FFFFFF"
          },
          "showarrow": false,
          "text": "94",
          "x": "Supplies",
          "xref": "x",
          "y": "AO",
          "yref": "y"
         },
         {
          "font": {
           "color": "#FFFFFF"
          },
          "showarrow": false,
          "text": "4",
          "x": "Bacon",
          "xref": "x",
          "y": "AO",
          "yref": "y"
         },
         {
          "font": {
           "color": "#FFFFFF"
          },
          "showarrow": false,
          "text": "11",
          "x": "Pork",
          "xref": "x",
          "y": "AO",
          "yref": "y"
         },
         {
          "font": {
           "color": "#FFFFFF"
          },
          "showarrow": false,
          "text": "3",
          "x": "Egg",
          "xref": "x",
          "y": "AO",
          "yref": "y"
         },
         {
          "font": {
           "color": "#FFFFFF"
          },
          "showarrow": false,
          "text": "0",
          "x": "Cheese",
          "xref": "x",
          "y": "Sausage",
          "yref": "y"
         },
         {
          "font": {
           "color": "#FFFFFF"
          },
          "showarrow": false,
          "text": "1",
          "x": "AO",
          "xref": "x",
          "y": "Sausage",
          "yref": "y"
         },
         {
          "font": {
           "color": "#FFFFFF"
          },
          "showarrow": false,
          "text": "146",
          "x": "Sausage",
          "xref": "x",
          "y": "Sausage",
          "yref": "y"
         },
         {
          "font": {
           "color": "#FFFFFF"
          },
          "showarrow": false,
          "text": "0",
          "x": "Seafood",
          "xref": "x",
          "y": "Sausage",
          "yref": "y"
         },
         {
          "font": {
           "color": "#FFFFFF"
          },
          "showarrow": false,
          "text": "0",
          "x": "Fish",
          "xref": "x",
          "y": "Sausage",
          "yref": "y"
         },
         {
          "font": {
           "color": "#FFFFFF"
          },
          "showarrow": false,
          "text": "0",
          "x": "Meatball",
          "xref": "x",
          "y": "Sausage",
          "yref": "y"
         },
         {
          "font": {
           "color": "#FFFFFF"
          },
          "showarrow": false,
          "text": "0",
          "x": "Chicken",
          "xref": "x",
          "y": "Sausage",
          "yref": "y"
         },
         {
          "font": {
           "color": "#FFFFFF"
          },
          "showarrow": false,
          "text": "2",
          "x": "Veggie",
          "xref": "x",
          "y": "Sausage",
          "yref": "y"
         },
         {
          "font": {
           "color": "#FFFFFF"
          },
          "showarrow": false,
          "text": "0",
          "x": "Lamb",
          "xref": "x",
          "y": "Sausage",
          "yref": "y"
         },
         {
          "font": {
           "color": "#FFFFFF"
          },
          "showarrow": false,
          "text": "0",
          "x": "Beef",
          "xref": "x",
          "y": "Sausage",
          "yref": "y"
         },
         {
          "font": {
           "color": "#FFFFFF"
          },
          "showarrow": false,
          "text": "0",
          "x": "Ham",
          "xref": "x",
          "y": "Sausage",
          "yref": "y"
         },
         {
          "font": {
           "color": "#FFFFFF"
          },
          "showarrow": false,
          "text": "0",
          "x": "Pepperoni",
          "xref": "x",
          "y": "Sausage",
          "yref": "y"
         },
         {
          "font": {
           "color": "#FFFFFF"
          },
          "showarrow": false,
          "text": "0",
          "x": "Turkey",
          "xref": "x",
          "y": "Sausage",
          "yref": "y"
         },
         {
          "font": {
           "color": "#FFFFFF"
          },
          "showarrow": false,
          "text": "0",
          "x": "Supplies",
          "xref": "x",
          "y": "Sausage",
          "yref": "y"
         },
         {
          "font": {
           "color": "#FFFFFF"
          },
          "showarrow": false,
          "text": "0",
          "x": "Bacon",
          "xref": "x",
          "y": "Sausage",
          "yref": "y"
         },
         {
          "font": {
           "color": "#FFFFFF"
          },
          "showarrow": false,
          "text": "0",
          "x": "Pork",
          "xref": "x",
          "y": "Sausage",
          "yref": "y"
         },
         {
          "font": {
           "color": "#FFFFFF"
          },
          "showarrow": false,
          "text": "0",
          "x": "Egg",
          "xref": "x",
          "y": "Sausage",
          "yref": "y"
         },
         {
          "font": {
           "color": "#FFFFFF"
          },
          "showarrow": false,
          "text": "0",
          "x": "Cheese",
          "xref": "x",
          "y": "Seafood",
          "yref": "y"
         },
         {
          "font": {
           "color": "#FFFFFF"
          },
          "showarrow": false,
          "text": "6",
          "x": "AO",
          "xref": "x",
          "y": "Seafood",
          "yref": "y"
         },
         {
          "font": {
           "color": "#FFFFFF"
          },
          "showarrow": false,
          "text": "0",
          "x": "Sausage",
          "xref": "x",
          "y": "Seafood",
          "yref": "y"
         },
         {
          "font": {
           "color": "#FFFFFF"
          },
          "showarrow": false,
          "text": "189",
          "x": "Seafood",
          "xref": "x",
          "y": "Seafood",
          "yref": "y"
         },
         {
          "font": {
           "color": "#FFFFFF"
          },
          "showarrow": false,
          "text": "1",
          "x": "Fish",
          "xref": "x",
          "y": "Seafood",
          "yref": "y"
         },
         {
          "font": {
           "color": "#FFFFFF"
          },
          "showarrow": false,
          "text": "0",
          "x": "Meatball",
          "xref": "x",
          "y": "Seafood",
          "yref": "y"
         },
         {
          "font": {
           "color": "#FFFFFF"
          },
          "showarrow": false,
          "text": "0",
          "x": "Chicken",
          "xref": "x",
          "y": "Seafood",
          "yref": "y"
         },
         {
          "font": {
           "color": "#FFFFFF"
          },
          "showarrow": false,
          "text": "0",
          "x": "Veggie",
          "xref": "x",
          "y": "Seafood",
          "yref": "y"
         },
         {
          "font": {
           "color": "#FFFFFF"
          },
          "showarrow": false,
          "text": "0",
          "x": "Lamb",
          "xref": "x",
          "y": "Seafood",
          "yref": "y"
         },
         {
          "font": {
           "color": "#FFFFFF"
          },
          "showarrow": false,
          "text": "0",
          "x": "Beef",
          "xref": "x",
          "y": "Seafood",
          "yref": "y"
         },
         {
          "font": {
           "color": "#FFFFFF"
          },
          "showarrow": false,
          "text": "0",
          "x": "Ham",
          "xref": "x",
          "y": "Seafood",
          "yref": "y"
         },
         {
          "font": {
           "color": "#FFFFFF"
          },
          "showarrow": false,
          "text": "0",
          "x": "Pepperoni",
          "xref": "x",
          "y": "Seafood",
          "yref": "y"
         },
         {
          "font": {
           "color": "#FFFFFF"
          },
          "showarrow": false,
          "text": "0",
          "x": "Turkey",
          "xref": "x",
          "y": "Seafood",
          "yref": "y"
         },
         {
          "font": {
           "color": "#FFFFFF"
          },
          "showarrow": false,
          "text": "0",
          "x": "Supplies",
          "xref": "x",
          "y": "Seafood",
          "yref": "y"
         },
         {
          "font": {
           "color": "#FFFFFF"
          },
          "showarrow": false,
          "text": "0",
          "x": "Bacon",
          "xref": "x",
          "y": "Seafood",
          "yref": "y"
         },
         {
          "font": {
           "color": "#FFFFFF"
          },
          "showarrow": false,
          "text": "0",
          "x": "Pork",
          "xref": "x",
          "y": "Seafood",
          "yref": "y"
         },
         {
          "font": {
           "color": "#FFFFFF"
          },
          "showarrow": false,
          "text": "0",
          "x": "Egg",
          "xref": "x",
          "y": "Seafood",
          "yref": "y"
         },
         {
          "font": {
           "color": "#FFFFFF"
          },
          "showarrow": false,
          "text": "0",
          "x": "Cheese",
          "xref": "x",
          "y": "Fish",
          "yref": "y"
         },
         {
          "font": {
           "color": "#FFFFFF"
          },
          "showarrow": false,
          "text": "6",
          "x": "AO",
          "xref": "x",
          "y": "Fish",
          "yref": "y"
         },
         {
          "font": {
           "color": "#FFFFFF"
          },
          "showarrow": false,
          "text": "1",
          "x": "Sausage",
          "xref": "x",
          "y": "Fish",
          "yref": "y"
         },
         {
          "font": {
           "color": "#FFFFFF"
          },
          "showarrow": false,
          "text": "2",
          "x": "Seafood",
          "xref": "x",
          "y": "Fish",
          "yref": "y"
         },
         {
          "font": {
           "color": "#FFFFFF"
          },
          "showarrow": false,
          "text": "437",
          "x": "Fish",
          "xref": "x",
          "y": "Fish",
          "yref": "y"
         },
         {
          "font": {
           "color": "#FFFFFF"
          },
          "showarrow": false,
          "text": "0",
          "x": "Meatball",
          "xref": "x",
          "y": "Fish",
          "yref": "y"
         },
         {
          "font": {
           "color": "#FFFFFF"
          },
          "showarrow": false,
          "text": "0",
          "x": "Chicken",
          "xref": "x",
          "y": "Fish",
          "yref": "y"
         },
         {
          "font": {
           "color": "#FFFFFF"
          },
          "showarrow": false,
          "text": "0",
          "x": "Veggie",
          "xref": "x",
          "y": "Fish",
          "yref": "y"
         },
         {
          "font": {
           "color": "#FFFFFF"
          },
          "showarrow": false,
          "text": "0",
          "x": "Lamb",
          "xref": "x",
          "y": "Fish",
          "yref": "y"
         },
         {
          "font": {
           "color": "#FFFFFF"
          },
          "showarrow": false,
          "text": "1",
          "x": "Beef",
          "xref": "x",
          "y": "Fish",
          "yref": "y"
         },
         {
          "font": {
           "color": "#FFFFFF"
          },
          "showarrow": false,
          "text": "0",
          "x": "Ham",
          "xref": "x",
          "y": "Fish",
          "yref": "y"
         },
         {
          "font": {
           "color": "#FFFFFF"
          },
          "showarrow": false,
          "text": "0",
          "x": "Pepperoni",
          "xref": "x",
          "y": "Fish",
          "yref": "y"
         },
         {
          "font": {
           "color": "#FFFFFF"
          },
          "showarrow": false,
          "text": "0",
          "x": "Turkey",
          "xref": "x",
          "y": "Fish",
          "yref": "y"
         },
         {
          "font": {
           "color": "#FFFFFF"
          },
          "showarrow": false,
          "text": "0",
          "x": "Supplies",
          "xref": "x",
          "y": "Fish",
          "yref": "y"
         },
         {
          "font": {
           "color": "#FFFFFF"
          },
          "showarrow": false,
          "text": "0",
          "x": "Bacon",
          "xref": "x",
          "y": "Fish",
          "yref": "y"
         },
         {
          "font": {
           "color": "#FFFFFF"
          },
          "showarrow": false,
          "text": "0",
          "x": "Pork",
          "xref": "x",
          "y": "Fish",
          "yref": "y"
         },
         {
          "font": {
           "color": "#FFFFFF"
          },
          "showarrow": false,
          "text": "0",
          "x": "Egg",
          "xref": "x",
          "y": "Fish",
          "yref": "y"
         },
         {
          "font": {
           "color": "#FFFFFF"
          },
          "showarrow": false,
          "text": "0",
          "x": "Cheese",
          "xref": "x",
          "y": "Meatball",
          "yref": "y"
         },
         {
          "font": {
           "color": "#FFFFFF"
          },
          "showarrow": false,
          "text": "1",
          "x": "AO",
          "xref": "x",
          "y": "Meatball",
          "yref": "y"
         },
         {
          "font": {
           "color": "#FFFFFF"
          },
          "showarrow": false,
          "text": "0",
          "x": "Sausage",
          "xref": "x",
          "y": "Meatball",
          "yref": "y"
         },
         {
          "font": {
           "color": "#FFFFFF"
          },
          "showarrow": false,
          "text": "0",
          "x": "Seafood",
          "xref": "x",
          "y": "Meatball",
          "yref": "y"
         },
         {
          "font": {
           "color": "#FFFFFF"
          },
          "showarrow": false,
          "text": "0",
          "x": "Fish",
          "xref": "x",
          "y": "Meatball",
          "yref": "y"
         },
         {
          "font": {
           "color": "#FFFFFF"
          },
          "showarrow": false,
          "text": "49",
          "x": "Meatball",
          "xref": "x",
          "y": "Meatball",
          "yref": "y"
         },
         {
          "font": {
           "color": "#FFFFFF"
          },
          "showarrow": false,
          "text": "0",
          "x": "Chicken",
          "xref": "x",
          "y": "Meatball",
          "yref": "y"
         },
         {
          "font": {
           "color": "#FFFFFF"
          },
          "showarrow": false,
          "text": "0",
          "x": "Veggie",
          "xref": "x",
          "y": "Meatball",
          "yref": "y"
         },
         {
          "font": {
           "color": "#FFFFFF"
          },
          "showarrow": false,
          "text": "0",
          "x": "Lamb",
          "xref": "x",
          "y": "Meatball",
          "yref": "y"
         },
         {
          "font": {
           "color": "#FFFFFF"
          },
          "showarrow": false,
          "text": "0",
          "x": "Beef",
          "xref": "x",
          "y": "Meatball",
          "yref": "y"
         },
         {
          "font": {
           "color": "#FFFFFF"
          },
          "showarrow": false,
          "text": "0",
          "x": "Ham",
          "xref": "x",
          "y": "Meatball",
          "yref": "y"
         },
         {
          "font": {
           "color": "#FFFFFF"
          },
          "showarrow": false,
          "text": "0",
          "x": "Pepperoni",
          "xref": "x",
          "y": "Meatball",
          "yref": "y"
         },
         {
          "font": {
           "color": "#FFFFFF"
          },
          "showarrow": false,
          "text": "0",
          "x": "Turkey",
          "xref": "x",
          "y": "Meatball",
          "yref": "y"
         },
         {
          "font": {
           "color": "#FFFFFF"
          },
          "showarrow": false,
          "text": "0",
          "x": "Supplies",
          "xref": "x",
          "y": "Meatball",
          "yref": "y"
         },
         {
          "font": {
           "color": "#FFFFFF"
          },
          "showarrow": false,
          "text": "0",
          "x": "Bacon",
          "xref": "x",
          "y": "Meatball",
          "yref": "y"
         },
         {
          "font": {
           "color": "#FFFFFF"
          },
          "showarrow": false,
          "text": "0",
          "x": "Pork",
          "xref": "x",
          "y": "Meatball",
          "yref": "y"
         },
         {
          "font": {
           "color": "#FFFFFF"
          },
          "showarrow": false,
          "text": "0",
          "x": "Egg",
          "xref": "x",
          "y": "Meatball",
          "yref": "y"
         },
         {
          "font": {
           "color": "#FFFFFF"
          },
          "showarrow": false,
          "text": "0",
          "x": "Cheese",
          "xref": "x",
          "y": "Chicken",
          "yref": "y"
         },
         {
          "font": {
           "color": "#FFFFFF"
          },
          "showarrow": false,
          "text": "2",
          "x": "AO",
          "xref": "x",
          "y": "Chicken",
          "yref": "y"
         },
         {
          "font": {
           "color": "#FFFFFF"
          },
          "showarrow": false,
          "text": "1",
          "x": "Sausage",
          "xref": "x",
          "y": "Chicken",
          "yref": "y"
         },
         {
          "font": {
           "color": "#FFFFFF"
          },
          "showarrow": false,
          "text": "0",
          "x": "Seafood",
          "xref": "x",
          "y": "Chicken",
          "yref": "y"
         },
         {
          "font": {
           "color": "#FFFFFF"
          },
          "showarrow": false,
          "text": "0",
          "x": "Fish",
          "xref": "x",
          "y": "Chicken",
          "yref": "y"
         },
         {
          "font": {
           "color": "#FFFFFF"
          },
          "showarrow": false,
          "text": "0",
          "x": "Meatball",
          "xref": "x",
          "y": "Chicken",
          "yref": "y"
         },
         {
          "font": {
           "color": "#FFFFFF"
          },
          "showarrow": false,
          "text": "1446",
          "x": "Chicken",
          "xref": "x",
          "y": "Chicken",
          "yref": "y"
         },
         {
          "font": {
           "color": "#FFFFFF"
          },
          "showarrow": false,
          "text": "1",
          "x": "Veggie",
          "xref": "x",
          "y": "Chicken",
          "yref": "y"
         },
         {
          "font": {
           "color": "#FFFFFF"
          },
          "showarrow": false,
          "text": "0",
          "x": "Lamb",
          "xref": "x",
          "y": "Chicken",
          "yref": "y"
         },
         {
          "font": {
           "color": "#FFFFFF"
          },
          "showarrow": false,
          "text": "0",
          "x": "Beef",
          "xref": "x",
          "y": "Chicken",
          "yref": "y"
         },
         {
          "font": {
           "color": "#FFFFFF"
          },
          "showarrow": false,
          "text": "0",
          "x": "Ham",
          "xref": "x",
          "y": "Chicken",
          "yref": "y"
         },
         {
          "font": {
           "color": "#FFFFFF"
          },
          "showarrow": false,
          "text": "0",
          "x": "Pepperoni",
          "xref": "x",
          "y": "Chicken",
          "yref": "y"
         },
         {
          "font": {
           "color": "#FFFFFF"
          },
          "showarrow": false,
          "text": "2",
          "x": "Turkey",
          "xref": "x",
          "y": "Chicken",
          "yref": "y"
         },
         {
          "font": {
           "color": "#FFFFFF"
          },
          "showarrow": false,
          "text": "0",
          "x": "Supplies",
          "xref": "x",
          "y": "Chicken",
          "yref": "y"
         },
         {
          "font": {
           "color": "#FFFFFF"
          },
          "showarrow": false,
          "text": "0",
          "x": "Bacon",
          "xref": "x",
          "y": "Chicken",
          "yref": "y"
         },
         {
          "font": {
           "color": "#FFFFFF"
          },
          "showarrow": false,
          "text": "0",
          "x": "Pork",
          "xref": "x",
          "y": "Chicken",
          "yref": "y"
         },
         {
          "font": {
           "color": "#FFFFFF"
          },
          "showarrow": false,
          "text": "0",
          "x": "Egg",
          "xref": "x",
          "y": "Chicken",
          "yref": "y"
         },
         {
          "font": {
           "color": "#FFFFFF"
          },
          "showarrow": false,
          "text": "1",
          "x": "Cheese",
          "xref": "x",
          "y": "Veggie",
          "yref": "y"
         },
         {
          "font": {
           "color": "#FFFFFF"
          },
          "showarrow": false,
          "text": "27",
          "x": "AO",
          "xref": "x",
          "y": "Veggie",
          "yref": "y"
         },
         {
          "font": {
           "color": "#FFFFFF"
          },
          "showarrow": false,
          "text": "0",
          "x": "Sausage",
          "xref": "x",
          "y": "Veggie",
          "yref": "y"
         },
         {
          "font": {
           "color": "#FFFFFF"
          },
          "showarrow": false,
          "text": "1",
          "x": "Seafood",
          "xref": "x",
          "y": "Veggie",
          "yref": "y"
         },
         {
          "font": {
           "color": "#FFFFFF"
          },
          "showarrow": false,
          "text": "0",
          "x": "Fish",
          "xref": "x",
          "y": "Veggie",
          "yref": "y"
         },
         {
          "font": {
           "color": "#FFFFFF"
          },
          "showarrow": false,
          "text": "0",
          "x": "Meatball",
          "xref": "x",
          "y": "Veggie",
          "yref": "y"
         },
         {
          "font": {
           "color": "#FFFFFF"
          },
          "showarrow": false,
          "text": "4",
          "x": "Chicken",
          "xref": "x",
          "y": "Veggie",
          "yref": "y"
         },
         {
          "font": {
           "color": "#FFFFFF"
          },
          "showarrow": false,
          "text": "873",
          "x": "Veggie",
          "xref": "x",
          "y": "Veggie",
          "yref": "y"
         },
         {
          "font": {
           "color": "#FFFFFF"
          },
          "showarrow": false,
          "text": "0",
          "x": "Lamb",
          "xref": "x",
          "y": "Veggie",
          "yref": "y"
         },
         {
          "font": {
           "color": "#FFFFFF"
          },
          "showarrow": false,
          "text": "3",
          "x": "Beef",
          "xref": "x",
          "y": "Veggie",
          "yref": "y"
         },
         {
          "font": {
           "color": "#FFFFFF"
          },
          "showarrow": false,
          "text": "0",
          "x": "Ham",
          "xref": "x",
          "y": "Veggie",
          "yref": "y"
         },
         {
          "font": {
           "color": "#FFFFFF"
          },
          "showarrow": false,
          "text": "0",
          "x": "Pepperoni",
          "xref": "x",
          "y": "Veggie",
          "yref": "y"
         },
         {
          "font": {
           "color": "#FFFFFF"
          },
          "showarrow": false,
          "text": "0",
          "x": "Turkey",
          "xref": "x",
          "y": "Veggie",
          "yref": "y"
         },
         {
          "font": {
           "color": "#FFFFFF"
          },
          "showarrow": false,
          "text": "2",
          "x": "Supplies",
          "xref": "x",
          "y": "Veggie",
          "yref": "y"
         },
         {
          "font": {
           "color": "#FFFFFF"
          },
          "showarrow": false,
          "text": "0",
          "x": "Bacon",
          "xref": "x",
          "y": "Veggie",
          "yref": "y"
         },
         {
          "font": {
           "color": "#FFFFFF"
          },
          "showarrow": false,
          "text": "1",
          "x": "Pork",
          "xref": "x",
          "y": "Veggie",
          "yref": "y"
         },
         {
          "font": {
           "color": "#FFFFFF"
          },
          "showarrow": false,
          "text": "1",
          "x": "Egg",
          "xref": "x",
          "y": "Veggie",
          "yref": "y"
         },
         {
          "font": {
           "color": "#FFFFFF"
          },
          "showarrow": false,
          "text": "0",
          "x": "Cheese",
          "xref": "x",
          "y": "Lamb",
          "yref": "y"
         },
         {
          "font": {
           "color": "#FFFFFF"
          },
          "showarrow": false,
          "text": "0",
          "x": "AO",
          "xref": "x",
          "y": "Lamb",
          "yref": "y"
         },
         {
          "font": {
           "color": "#FFFFFF"
          },
          "showarrow": false,
          "text": "0",
          "x": "Sausage",
          "xref": "x",
          "y": "Lamb",
          "yref": "y"
         },
         {
          "font": {
           "color": "#FFFFFF"
          },
          "showarrow": false,
          "text": "0",
          "x": "Seafood",
          "xref": "x",
          "y": "Lamb",
          "yref": "y"
         },
         {
          "font": {
           "color": "#FFFFFF"
          },
          "showarrow": false,
          "text": "0",
          "x": "Fish",
          "xref": "x",
          "y": "Lamb",
          "yref": "y"
         },
         {
          "font": {
           "color": "#FFFFFF"
          },
          "showarrow": false,
          "text": "0",
          "x": "Meatball",
          "xref": "x",
          "y": "Lamb",
          "yref": "y"
         },
         {
          "font": {
           "color": "#FFFFFF"
          },
          "showarrow": false,
          "text": "0",
          "x": "Chicken",
          "xref": "x",
          "y": "Lamb",
          "yref": "y"
         },
         {
          "font": {
           "color": "#FFFFFF"
          },
          "showarrow": false,
          "text": "0",
          "x": "Veggie",
          "xref": "x",
          "y": "Lamb",
          "yref": "y"
         },
         {
          "font": {
           "color": "#FFFFFF"
          },
          "showarrow": false,
          "text": "14",
          "x": "Lamb",
          "xref": "x",
          "y": "Lamb",
          "yref": "y"
         },
         {
          "font": {
           "color": "#FFFFFF"
          },
          "showarrow": false,
          "text": "0",
          "x": "Beef",
          "xref": "x",
          "y": "Lamb",
          "yref": "y"
         },
         {
          "font": {
           "color": "#FFFFFF"
          },
          "showarrow": false,
          "text": "0",
          "x": "Ham",
          "xref": "x",
          "y": "Lamb",
          "yref": "y"
         },
         {
          "font": {
           "color": "#FFFFFF"
          },
          "showarrow": false,
          "text": "0",
          "x": "Pepperoni",
          "xref": "x",
          "y": "Lamb",
          "yref": "y"
         },
         {
          "font": {
           "color": "#FFFFFF"
          },
          "showarrow": false,
          "text": "0",
          "x": "Turkey",
          "xref": "x",
          "y": "Lamb",
          "yref": "y"
         },
         {
          "font": {
           "color": "#FFFFFF"
          },
          "showarrow": false,
          "text": "0",
          "x": "Supplies",
          "xref": "x",
          "y": "Lamb",
          "yref": "y"
         },
         {
          "font": {
           "color": "#FFFFFF"
          },
          "showarrow": false,
          "text": "0",
          "x": "Bacon",
          "xref": "x",
          "y": "Lamb",
          "yref": "y"
         },
         {
          "font": {
           "color": "#FFFFFF"
          },
          "showarrow": false,
          "text": "0",
          "x": "Pork",
          "xref": "x",
          "y": "Lamb",
          "yref": "y"
         },
         {
          "font": {
           "color": "#FFFFFF"
          },
          "showarrow": false,
          "text": "0",
          "x": "Egg",
          "xref": "x",
          "y": "Lamb",
          "yref": "y"
         },
         {
          "font": {
           "color": "#FFFFFF"
          },
          "showarrow": false,
          "text": "1",
          "x": "Cheese",
          "xref": "x",
          "y": "Beef",
          "yref": "y"
         },
         {
          "font": {
           "color": "#FFFFFF"
          },
          "showarrow": false,
          "text": "11",
          "x": "AO",
          "xref": "x",
          "y": "Beef",
          "yref": "y"
         },
         {
          "font": {
           "color": "#FFFFFF"
          },
          "showarrow": false,
          "text": "0",
          "x": "Sausage",
          "xref": "x",
          "y": "Beef",
          "yref": "y"
         },
         {
          "font": {
           "color": "#FFFFFF"
          },
          "showarrow": false,
          "text": "0",
          "x": "Seafood",
          "xref": "x",
          "y": "Beef",
          "yref": "y"
         },
         {
          "font": {
           "color": "#FFFFFF"
          },
          "showarrow": false,
          "text": "0",
          "x": "Fish",
          "xref": "x",
          "y": "Beef",
          "yref": "y"
         },
         {
          "font": {
           "color": "#FFFFFF"
          },
          "showarrow": false,
          "text": "0",
          "x": "Meatball",
          "xref": "x",
          "y": "Beef",
          "yref": "y"
         },
         {
          "font": {
           "color": "#FFFFFF"
          },
          "showarrow": false,
          "text": "1",
          "x": "Chicken",
          "xref": "x",
          "y": "Beef",
          "yref": "y"
         },
         {
          "font": {
           "color": "#FFFFFF"
          },
          "showarrow": false,
          "text": "6",
          "x": "Veggie",
          "xref": "x",
          "y": "Beef",
          "yref": "y"
         },
         {
          "font": {
           "color": "#FFFFFF"
          },
          "showarrow": false,
          "text": "0",
          "x": "Lamb",
          "xref": "x",
          "y": "Beef",
          "yref": "y"
         },
         {
          "font": {
           "color": "#FFFFFF"
          },
          "showarrow": false,
          "text": "623",
          "x": "Beef",
          "xref": "x",
          "y": "Beef",
          "yref": "y"
         },
         {
          "font": {
           "color": "#FFFFFF"
          },
          "showarrow": false,
          "text": "0",
          "x": "Ham",
          "xref": "x",
          "y": "Beef",
          "yref": "y"
         },
         {
          "font": {
           "color": "#FFFFFF"
          },
          "showarrow": false,
          "text": "0",
          "x": "Pepperoni",
          "xref": "x",
          "y": "Beef",
          "yref": "y"
         },
         {
          "font": {
           "color": "#FFFFFF"
          },
          "showarrow": false,
          "text": "0",
          "x": "Turkey",
          "xref": "x",
          "y": "Beef",
          "yref": "y"
         },
         {
          "font": {
           "color": "#FFFFFF"
          },
          "showarrow": false,
          "text": "0",
          "x": "Supplies",
          "xref": "x",
          "y": "Beef",
          "yref": "y"
         },
         {
          "font": {
           "color": "#FFFFFF"
          },
          "showarrow": false,
          "text": "0",
          "x": "Bacon",
          "xref": "x",
          "y": "Beef",
          "yref": "y"
         },
         {
          "font": {
           "color": "#FFFFFF"
          },
          "showarrow": false,
          "text": "1",
          "x": "Pork",
          "xref": "x",
          "y": "Beef",
          "yref": "y"
         },
         {
          "font": {
           "color": "#FFFFFF"
          },
          "showarrow": false,
          "text": "1",
          "x": "Egg",
          "xref": "x",
          "y": "Beef",
          "yref": "y"
         },
         {
          "font": {
           "color": "#FFFFFF"
          },
          "showarrow": false,
          "text": "0",
          "x": "Cheese",
          "xref": "x",
          "y": "Ham",
          "yref": "y"
         },
         {
          "font": {
           "color": "#FFFFFF"
          },
          "showarrow": false,
          "text": "0",
          "x": "AO",
          "xref": "x",
          "y": "Ham",
          "yref": "y"
         },
         {
          "font": {
           "color": "#FFFFFF"
          },
          "showarrow": false,
          "text": "0",
          "x": "Sausage",
          "xref": "x",
          "y": "Ham",
          "yref": "y"
         },
         {
          "font": {
           "color": "#FFFFFF"
          },
          "showarrow": false,
          "text": "0",
          "x": "Seafood",
          "xref": "x",
          "y": "Ham",
          "yref": "y"
         },
         {
          "font": {
           "color": "#FFFFFF"
          },
          "showarrow": false,
          "text": "0",
          "x": "Fish",
          "xref": "x",
          "y": "Ham",
          "yref": "y"
         },
         {
          "font": {
           "color": "#FFFFFF"
          },
          "showarrow": false,
          "text": "0",
          "x": "Meatball",
          "xref": "x",
          "y": "Ham",
          "yref": "y"
         },
         {
          "font": {
           "color": "#FFFFFF"
          },
          "showarrow": false,
          "text": "0",
          "x": "Chicken",
          "xref": "x",
          "y": "Ham",
          "yref": "y"
         },
         {
          "font": {
           "color": "#FFFFFF"
          },
          "showarrow": false,
          "text": "0",
          "x": "Veggie",
          "xref": "x",
          "y": "Ham",
          "yref": "y"
         },
         {
          "font": {
           "color": "#FFFFFF"
          },
          "showarrow": false,
          "text": "0",
          "x": "Lamb",
          "xref": "x",
          "y": "Ham",
          "yref": "y"
         },
         {
          "font": {
           "color": "#FFFFFF"
          },
          "showarrow": false,
          "text": "1",
          "x": "Beef",
          "xref": "x",
          "y": "Ham",
          "yref": "y"
         },
         {
          "font": {
           "color": "#FFFFFF"
          },
          "showarrow": false,
          "text": "309",
          "x": "Ham",
          "xref": "x",
          "y": "Ham",
          "yref": "y"
         },
         {
          "font": {
           "color": "#FFFFFF"
          },
          "showarrow": false,
          "text": "0",
          "x": "Pepperoni",
          "xref": "x",
          "y": "Ham",
          "yref": "y"
         },
         {
          "font": {
           "color": "#FFFFFF"
          },
          "showarrow": false,
          "text": "0",
          "x": "Turkey",
          "xref": "x",
          "y": "Ham",
          "yref": "y"
         },
         {
          "font": {
           "color": "#FFFFFF"
          },
          "showarrow": false,
          "text": "0",
          "x": "Supplies",
          "xref": "x",
          "y": "Ham",
          "yref": "y"
         },
         {
          "font": {
           "color": "#FFFFFF"
          },
          "showarrow": false,
          "text": "0",
          "x": "Bacon",
          "xref": "x",
          "y": "Ham",
          "yref": "y"
         },
         {
          "font": {
           "color": "#FFFFFF"
          },
          "showarrow": false,
          "text": "0",
          "x": "Pork",
          "xref": "x",
          "y": "Ham",
          "yref": "y"
         },
         {
          "font": {
           "color": "#FFFFFF"
          },
          "showarrow": false,
          "text": "0",
          "x": "Egg",
          "xref": "x",
          "y": "Ham",
          "yref": "y"
         },
         {
          "font": {
           "color": "#FFFFFF"
          },
          "showarrow": false,
          "text": "0",
          "x": "Cheese",
          "xref": "x",
          "y": "Pepperoni",
          "yref": "y"
         },
         {
          "font": {
           "color": "#FFFFFF"
          },
          "showarrow": false,
          "text": "0",
          "x": "AO",
          "xref": "x",
          "y": "Pepperoni",
          "yref": "y"
         },
         {
          "font": {
           "color": "#FFFFFF"
          },
          "showarrow": false,
          "text": "1",
          "x": "Sausage",
          "xref": "x",
          "y": "Pepperoni",
          "yref": "y"
         },
         {
          "font": {
           "color": "#FFFFFF"
          },
          "showarrow": false,
          "text": "0",
          "x": "Seafood",
          "xref": "x",
          "y": "Pepperoni",
          "yref": "y"
         },
         {
          "font": {
           "color": "#FFFFFF"
          },
          "showarrow": false,
          "text": "0",
          "x": "Fish",
          "xref": "x",
          "y": "Pepperoni",
          "yref": "y"
         },
         {
          "font": {
           "color": "#FFFFFF"
          },
          "showarrow": false,
          "text": "0",
          "x": "Meatball",
          "xref": "x",
          "y": "Pepperoni",
          "yref": "y"
         },
         {
          "font": {
           "color": "#FFFFFF"
          },
          "showarrow": false,
          "text": "0",
          "x": "Chicken",
          "xref": "x",
          "y": "Pepperoni",
          "yref": "y"
         },
         {
          "font": {
           "color": "#FFFFFF"
          },
          "showarrow": false,
          "text": "0",
          "x": "Veggie",
          "xref": "x",
          "y": "Pepperoni",
          "yref": "y"
         },
         {
          "font": {
           "color": "#FFFFFF"
          },
          "showarrow": false,
          "text": "0",
          "x": "Lamb",
          "xref": "x",
          "y": "Pepperoni",
          "yref": "y"
         },
         {
          "font": {
           "color": "#FFFFFF"
          },
          "showarrow": false,
          "text": "0",
          "x": "Beef",
          "xref": "x",
          "y": "Pepperoni",
          "yref": "y"
         },
         {
          "font": {
           "color": "#FFFFFF"
          },
          "showarrow": false,
          "text": "0",
          "x": "Ham",
          "xref": "x",
          "y": "Pepperoni",
          "yref": "y"
         },
         {
          "font": {
           "color": "#FFFFFF"
          },
          "showarrow": false,
          "text": "40",
          "x": "Pepperoni",
          "xref": "x",
          "y": "Pepperoni",
          "yref": "y"
         },
         {
          "font": {
           "color": "#FFFFFF"
          },
          "showarrow": false,
          "text": "0",
          "x": "Turkey",
          "xref": "x",
          "y": "Pepperoni",
          "yref": "y"
         },
         {
          "font": {
           "color": "#FFFFFF"
          },
          "showarrow": false,
          "text": "0",
          "x": "Supplies",
          "xref": "x",
          "y": "Pepperoni",
          "yref": "y"
         },
         {
          "font": {
           "color": "#FFFFFF"
          },
          "showarrow": false,
          "text": "0",
          "x": "Bacon",
          "xref": "x",
          "y": "Pepperoni",
          "yref": "y"
         },
         {
          "font": {
           "color": "#FFFFFF"
          },
          "showarrow": false,
          "text": "0",
          "x": "Pork",
          "xref": "x",
          "y": "Pepperoni",
          "yref": "y"
         },
         {
          "font": {
           "color": "#FFFFFF"
          },
          "showarrow": false,
          "text": "0",
          "x": "Egg",
          "xref": "x",
          "y": "Pepperoni",
          "yref": "y"
         },
         {
          "font": {
           "color": "#FFFFFF"
          },
          "showarrow": false,
          "text": "0",
          "x": "Cheese",
          "xref": "x",
          "y": "Turkey",
          "yref": "y"
         },
         {
          "font": {
           "color": "#FFFFFF"
          },
          "showarrow": false,
          "text": "0",
          "x": "AO",
          "xref": "x",
          "y": "Turkey",
          "yref": "y"
         },
         {
          "font": {
           "color": "#FFFFFF"
          },
          "showarrow": false,
          "text": "0",
          "x": "Sausage",
          "xref": "x",
          "y": "Turkey",
          "yref": "y"
         },
         {
          "font": {
           "color": "#FFFFFF"
          },
          "showarrow": false,
          "text": "0",
          "x": "Seafood",
          "xref": "x",
          "y": "Turkey",
          "yref": "y"
         },
         {
          "font": {
           "color": "#FFFFFF"
          },
          "showarrow": false,
          "text": "0",
          "x": "Fish",
          "xref": "x",
          "y": "Turkey",
          "yref": "y"
         },
         {
          "font": {
           "color": "#FFFFFF"
          },
          "showarrow": false,
          "text": "0",
          "x": "Meatball",
          "xref": "x",
          "y": "Turkey",
          "yref": "y"
         },
         {
          "font": {
           "color": "#FFFFFF"
          },
          "showarrow": false,
          "text": "0",
          "x": "Chicken",
          "xref": "x",
          "y": "Turkey",
          "yref": "y"
         },
         {
          "font": {
           "color": "#FFFFFF"
          },
          "showarrow": false,
          "text": "0",
          "x": "Veggie",
          "xref": "x",
          "y": "Turkey",
          "yref": "y"
         },
         {
          "font": {
           "color": "#FFFFFF"
          },
          "showarrow": false,
          "text": "0",
          "x": "Lamb",
          "xref": "x",
          "y": "Turkey",
          "yref": "y"
         },
         {
          "font": {
           "color": "#FFFFFF"
          },
          "showarrow": false,
          "text": "1",
          "x": "Beef",
          "xref": "x",
          "y": "Turkey",
          "yref": "y"
         },
         {
          "font": {
           "color": "#FFFFFF"
          },
          "showarrow": false,
          "text": "0",
          "x": "Ham",
          "xref": "x",
          "y": "Turkey",
          "yref": "y"
         },
         {
          "font": {
           "color": "#FFFFFF"
          },
          "showarrow": false,
          "text": "0",
          "x": "Pepperoni",
          "xref": "x",
          "y": "Turkey",
          "yref": "y"
         },
         {
          "font": {
           "color": "#FFFFFF"
          },
          "showarrow": false,
          "text": "536",
          "x": "Turkey",
          "xref": "x",
          "y": "Turkey",
          "yref": "y"
         },
         {
          "font": {
           "color": "#FFFFFF"
          },
          "showarrow": false,
          "text": "0",
          "x": "Supplies",
          "xref": "x",
          "y": "Turkey",
          "yref": "y"
         },
         {
          "font": {
           "color": "#FFFFFF"
          },
          "showarrow": false,
          "text": "0",
          "x": "Bacon",
          "xref": "x",
          "y": "Turkey",
          "yref": "y"
         },
         {
          "font": {
           "color": "#FFFFFF"
          },
          "showarrow": false,
          "text": "0",
          "x": "Pork",
          "xref": "x",
          "y": "Turkey",
          "yref": "y"
         },
         {
          "font": {
           "color": "#FFFFFF"
          },
          "showarrow": false,
          "text": "0",
          "x": "Egg",
          "xref": "x",
          "y": "Turkey",
          "yref": "y"
         },
         {
          "font": {
           "color": "#FFFFFF"
          },
          "showarrow": false,
          "text": "0",
          "x": "Cheese",
          "xref": "x",
          "y": "Supplies",
          "yref": "y"
         },
         {
          "font": {
           "color": "#FFFFFF"
          },
          "showarrow": false,
          "text": "81",
          "x": "AO",
          "xref": "x",
          "y": "Supplies",
          "yref": "y"
         },
         {
          "font": {
           "color": "#FFFFFF"
          },
          "showarrow": false,
          "text": "0",
          "x": "Sausage",
          "xref": "x",
          "y": "Supplies",
          "yref": "y"
         },
         {
          "font": {
           "color": "#FFFFFF"
          },
          "showarrow": false,
          "text": "2",
          "x": "Seafood",
          "xref": "x",
          "y": "Supplies",
          "yref": "y"
         },
         {
          "font": {
           "color": "#FFFFFF"
          },
          "showarrow": false,
          "text": "0",
          "x": "Fish",
          "xref": "x",
          "y": "Supplies",
          "yref": "y"
         },
         {
          "font": {
           "color": "#FFFFFF"
          },
          "showarrow": false,
          "text": "0",
          "x": "Meatball",
          "xref": "x",
          "y": "Supplies",
          "yref": "y"
         },
         {
          "font": {
           "color": "#FFFFFF"
          },
          "showarrow": false,
          "text": "0",
          "x": "Chicken",
          "xref": "x",
          "y": "Supplies",
          "yref": "y"
         },
         {
          "font": {
           "color": "#FFFFFF"
          },
          "showarrow": false,
          "text": "1",
          "x": "Veggie",
          "xref": "x",
          "y": "Supplies",
          "yref": "y"
         },
         {
          "font": {
           "color": "#FFFFFF"
          },
          "showarrow": false,
          "text": "0",
          "x": "Lamb",
          "xref": "x",
          "y": "Supplies",
          "yref": "y"
         },
         {
          "font": {
           "color": "#FFFFFF"
          },
          "showarrow": false,
          "text": "0",
          "x": "Beef",
          "xref": "x",
          "y": "Supplies",
          "yref": "y"
         },
         {
          "font": {
           "color": "#FFFFFF"
          },
          "showarrow": false,
          "text": "0",
          "x": "Ham",
          "xref": "x",
          "y": "Supplies",
          "yref": "y"
         },
         {
          "font": {
           "color": "#FFFFFF"
          },
          "showarrow": false,
          "text": "0",
          "x": "Pepperoni",
          "xref": "x",
          "y": "Supplies",
          "yref": "y"
         },
         {
          "font": {
           "color": "#FFFFFF"
          },
          "showarrow": false,
          "text": "0",
          "x": "Turkey",
          "xref": "x",
          "y": "Supplies",
          "yref": "y"
         },
         {
          "font": {
           "color": "#FFFFFF"
          },
          "showarrow": false,
          "text": "321",
          "x": "Supplies",
          "xref": "x",
          "y": "Supplies",
          "yref": "y"
         },
         {
          "font": {
           "color": "#FFFFFF"
          },
          "showarrow": false,
          "text": "0",
          "x": "Bacon",
          "xref": "x",
          "y": "Supplies",
          "yref": "y"
         },
         {
          "font": {
           "color": "#FFFFFF"
          },
          "showarrow": false,
          "text": "0",
          "x": "Pork",
          "xref": "x",
          "y": "Supplies",
          "yref": "y"
         },
         {
          "font": {
           "color": "#FFFFFF"
          },
          "showarrow": false,
          "text": "0",
          "x": "Egg",
          "xref": "x",
          "y": "Supplies",
          "yref": "y"
         },
         {
          "font": {
           "color": "#FFFFFF"
          },
          "showarrow": false,
          "text": "2",
          "x": "Cheese",
          "xref": "x",
          "y": "Bacon",
          "yref": "y"
         },
         {
          "font": {
           "color": "#FFFFFF"
          },
          "showarrow": false,
          "text": "0",
          "x": "AO",
          "xref": "x",
          "y": "Bacon",
          "yref": "y"
         },
         {
          "font": {
           "color": "#FFFFFF"
          },
          "showarrow": false,
          "text": "0",
          "x": "Sausage",
          "xref": "x",
          "y": "Bacon",
          "yref": "y"
         },
         {
          "font": {
           "color": "#FFFFFF"
          },
          "showarrow": false,
          "text": "1",
          "x": "Seafood",
          "xref": "x",
          "y": "Bacon",
          "yref": "y"
         },
         {
          "font": {
           "color": "#FFFFFF"
          },
          "showarrow": false,
          "text": "0",
          "x": "Fish",
          "xref": "x",
          "y": "Bacon",
          "yref": "y"
         },
         {
          "font": {
           "color": "#FFFFFF"
          },
          "showarrow": false,
          "text": "0",
          "x": "Meatball",
          "xref": "x",
          "y": "Bacon",
          "yref": "y"
         },
         {
          "font": {
           "color": "#FFFFFF"
          },
          "showarrow": false,
          "text": "0",
          "x": "Chicken",
          "xref": "x",
          "y": "Bacon",
          "yref": "y"
         },
         {
          "font": {
           "color": "#FFFFFF"
          },
          "showarrow": false,
          "text": "0",
          "x": "Veggie",
          "xref": "x",
          "y": "Bacon",
          "yref": "y"
         },
         {
          "font": {
           "color": "#FFFFFF"
          },
          "showarrow": false,
          "text": "0",
          "x": "Lamb",
          "xref": "x",
          "y": "Bacon",
          "yref": "y"
         },
         {
          "font": {
           "color": "#FFFFFF"
          },
          "showarrow": false,
          "text": "1",
          "x": "Beef",
          "xref": "x",
          "y": "Bacon",
          "yref": "y"
         },
         {
          "font": {
           "color": "#FFFFFF"
          },
          "showarrow": false,
          "text": "0",
          "x": "Ham",
          "xref": "x",
          "y": "Bacon",
          "yref": "y"
         },
         {
          "font": {
           "color": "#FFFFFF"
          },
          "showarrow": false,
          "text": "0",
          "x": "Pepperoni",
          "xref": "x",
          "y": "Bacon",
          "yref": "y"
         },
         {
          "font": {
           "color": "#FFFFFF"
          },
          "showarrow": false,
          "text": "0",
          "x": "Turkey",
          "xref": "x",
          "y": "Bacon",
          "yref": "y"
         },
         {
          "font": {
           "color": "#FFFFFF"
          },
          "showarrow": false,
          "text": "0",
          "x": "Supplies",
          "xref": "x",
          "y": "Bacon",
          "yref": "y"
         },
         {
          "font": {
           "color": "#FFFFFF"
          },
          "showarrow": false,
          "text": "47",
          "x": "Bacon",
          "xref": "x",
          "y": "Bacon",
          "yref": "y"
         },
         {
          "font": {
           "color": "#FFFFFF"
          },
          "showarrow": false,
          "text": "0",
          "x": "Pork",
          "xref": "x",
          "y": "Bacon",
          "yref": "y"
         },
         {
          "font": {
           "color": "#FFFFFF"
          },
          "showarrow": false,
          "text": "0",
          "x": "Egg",
          "xref": "x",
          "y": "Bacon",
          "yref": "y"
         },
         {
          "font": {
           "color": "#FFFFFF"
          },
          "showarrow": false,
          "text": "0",
          "x": "Cheese",
          "xref": "x",
          "y": "Pork",
          "yref": "y"
         },
         {
          "font": {
           "color": "#FFFFFF"
          },
          "showarrow": false,
          "text": "2",
          "x": "AO",
          "xref": "x",
          "y": "Pork",
          "yref": "y"
         },
         {
          "font": {
           "color": "#FFFFFF"
          },
          "showarrow": false,
          "text": "0",
          "x": "Sausage",
          "xref": "x",
          "y": "Pork",
          "yref": "y"
         },
         {
          "font": {
           "color": "#FFFFFF"
          },
          "showarrow": false,
          "text": "0",
          "x": "Seafood",
          "xref": "x",
          "y": "Pork",
          "yref": "y"
         },
         {
          "font": {
           "color": "#FFFFFF"
          },
          "showarrow": false,
          "text": "0",
          "x": "Fish",
          "xref": "x",
          "y": "Pork",
          "yref": "y"
         },
         {
          "font": {
           "color": "#FFFFFF"
          },
          "showarrow": false,
          "text": "0",
          "x": "Meatball",
          "xref": "x",
          "y": "Pork",
          "yref": "y"
         },
         {
          "font": {
           "color": "#FFFFFF"
          },
          "showarrow": false,
          "text": "0",
          "x": "Chicken",
          "xref": "x",
          "y": "Pork",
          "yref": "y"
         },
         {
          "font": {
           "color": "#FFFFFF"
          },
          "showarrow": false,
          "text": "0",
          "x": "Veggie",
          "xref": "x",
          "y": "Pork",
          "yref": "y"
         },
         {
          "font": {
           "color": "#FFFFFF"
          },
          "showarrow": false,
          "text": "0",
          "x": "Lamb",
          "xref": "x",
          "y": "Pork",
          "yref": "y"
         },
         {
          "font": {
           "color": "#FFFFFF"
          },
          "showarrow": false,
          "text": "2",
          "x": "Beef",
          "xref": "x",
          "y": "Pork",
          "yref": "y"
         },
         {
          "font": {
           "color": "#FFFFFF"
          },
          "showarrow": false,
          "text": "0",
          "x": "Ham",
          "xref": "x",
          "y": "Pork",
          "yref": "y"
         },
         {
          "font": {
           "color": "#FFFFFF"
          },
          "showarrow": false,
          "text": "0",
          "x": "Pepperoni",
          "xref": "x",
          "y": "Pork",
          "yref": "y"
         },
         {
          "font": {
           "color": "#FFFFFF"
          },
          "showarrow": false,
          "text": "0",
          "x": "Turkey",
          "xref": "x",
          "y": "Pork",
          "yref": "y"
         },
         {
          "font": {
           "color": "#FFFFFF"
          },
          "showarrow": false,
          "text": "0",
          "x": "Supplies",
          "xref": "x",
          "y": "Pork",
          "yref": "y"
         },
         {
          "font": {
           "color": "#FFFFFF"
          },
          "showarrow": false,
          "text": "0",
          "x": "Bacon",
          "xref": "x",
          "y": "Pork",
          "yref": "y"
         },
         {
          "font": {
           "color": "#FFFFFF"
          },
          "showarrow": false,
          "text": "167",
          "x": "Pork",
          "xref": "x",
          "y": "Pork",
          "yref": "y"
         },
         {
          "font": {
           "color": "#FFFFFF"
          },
          "showarrow": false,
          "text": "0",
          "x": "Egg",
          "xref": "x",
          "y": "Pork",
          "yref": "y"
         },
         {
          "font": {
           "color": "#FFFFFF"
          },
          "showarrow": false,
          "text": "0",
          "x": "Cheese",
          "xref": "x",
          "y": "Egg",
          "yref": "y"
         },
         {
          "font": {
           "color": "#FFFFFF"
          },
          "showarrow": false,
          "text": "3",
          "x": "AO",
          "xref": "x",
          "y": "Egg",
          "yref": "y"
         },
         {
          "font": {
           "color": "#FFFFFF"
          },
          "showarrow": false,
          "text": "0",
          "x": "Sausage",
          "xref": "x",
          "y": "Egg",
          "yref": "y"
         },
         {
          "font": {
           "color": "#FFFFFF"
          },
          "showarrow": false,
          "text": "0",
          "x": "Seafood",
          "xref": "x",
          "y": "Egg",
          "yref": "y"
         },
         {
          "font": {
           "color": "#FFFFFF"
          },
          "showarrow": false,
          "text": "0",
          "x": "Fish",
          "xref": "x",
          "y": "Egg",
          "yref": "y"
         },
         {
          "font": {
           "color": "#FFFFFF"
          },
          "showarrow": false,
          "text": "0",
          "x": "Meatball",
          "xref": "x",
          "y": "Egg",
          "yref": "y"
         },
         {
          "font": {
           "color": "#FFFFFF"
          },
          "showarrow": false,
          "text": "0",
          "x": "Chicken",
          "xref": "x",
          "y": "Egg",
          "yref": "y"
         },
         {
          "font": {
           "color": "#FFFFFF"
          },
          "showarrow": false,
          "text": "0",
          "x": "Veggie",
          "xref": "x",
          "y": "Egg",
          "yref": "y"
         },
         {
          "font": {
           "color": "#FFFFFF"
          },
          "showarrow": false,
          "text": "0",
          "x": "Lamb",
          "xref": "x",
          "y": "Egg",
          "yref": "y"
         },
         {
          "font": {
           "color": "#FFFFFF"
          },
          "showarrow": false,
          "text": "0",
          "x": "Beef",
          "xref": "x",
          "y": "Egg",
          "yref": "y"
         },
         {
          "font": {
           "color": "#FFFFFF"
          },
          "showarrow": false,
          "text": "0",
          "x": "Ham",
          "xref": "x",
          "y": "Egg",
          "yref": "y"
         },
         {
          "font": {
           "color": "#FFFFFF"
          },
          "showarrow": false,
          "text": "0",
          "x": "Pepperoni",
          "xref": "x",
          "y": "Egg",
          "yref": "y"
         },
         {
          "font": {
           "color": "#FFFFFF"
          },
          "showarrow": false,
          "text": "0",
          "x": "Turkey",
          "xref": "x",
          "y": "Egg",
          "yref": "y"
         },
         {
          "font": {
           "color": "#FFFFFF"
          },
          "showarrow": false,
          "text": "0",
          "x": "Supplies",
          "xref": "x",
          "y": "Egg",
          "yref": "y"
         },
         {
          "font": {
           "color": "#FFFFFF"
          },
          "showarrow": false,
          "text": "0",
          "x": "Bacon",
          "xref": "x",
          "y": "Egg",
          "yref": "y"
         },
         {
          "font": {
           "color": "#FFFFFF"
          },
          "showarrow": false,
          "text": "0",
          "x": "Pork",
          "xref": "x",
          "y": "Egg",
          "yref": "y"
         },
         {
          "font": {
           "color": "#FFFFFF"
          },
          "showarrow": false,
          "text": "42",
          "x": "Egg",
          "xref": "x",
          "y": "Egg",
          "yref": "y"
         }
        ],
        "template": {
         "data": {
          "bar": [
           {
            "error_x": {
             "color": "#2a3f5f"
            },
            "error_y": {
             "color": "#2a3f5f"
            },
            "marker": {
             "line": {
              "color": "#E5ECF6",
              "width": 0.5
             },
             "pattern": {
              "fillmode": "overlay",
              "size": 10,
              "solidity": 0.2
             }
            },
            "type": "bar"
           }
          ],
          "barpolar": [
           {
            "marker": {
             "line": {
              "color": "#E5ECF6",
              "width": 0.5
             },
             "pattern": {
              "fillmode": "overlay",
              "size": 10,
              "solidity": 0.2
             }
            },
            "type": "barpolar"
           }
          ],
          "carpet": [
           {
            "aaxis": {
             "endlinecolor": "#2a3f5f",
             "gridcolor": "white",
             "linecolor": "white",
             "minorgridcolor": "white",
             "startlinecolor": "#2a3f5f"
            },
            "baxis": {
             "endlinecolor": "#2a3f5f",
             "gridcolor": "white",
             "linecolor": "white",
             "minorgridcolor": "white",
             "startlinecolor": "#2a3f5f"
            },
            "type": "carpet"
           }
          ],
          "choropleth": [
           {
            "colorbar": {
             "outlinewidth": 0,
             "ticks": ""
            },
            "type": "choropleth"
           }
          ],
          "contour": [
           {
            "colorbar": {
             "outlinewidth": 0,
             "ticks": ""
            },
            "colorscale": [
             [
              0,
              "#0d0887"
             ],
             [
              0.1111111111111111,
              "#46039f"
             ],
             [
              0.2222222222222222,
              "#7201a8"
             ],
             [
              0.3333333333333333,
              "#9c179e"
             ],
             [
              0.4444444444444444,
              "#bd3786"
             ],
             [
              0.5555555555555556,
              "#d8576b"
             ],
             [
              0.6666666666666666,
              "#ed7953"
             ],
             [
              0.7777777777777778,
              "#fb9f3a"
             ],
             [
              0.8888888888888888,
              "#fdca26"
             ],
             [
              1,
              "#f0f921"
             ]
            ],
            "type": "contour"
           }
          ],
          "contourcarpet": [
           {
            "colorbar": {
             "outlinewidth": 0,
             "ticks": ""
            },
            "type": "contourcarpet"
           }
          ],
          "heatmap": [
           {
            "colorbar": {
             "outlinewidth": 0,
             "ticks": ""
            },
            "colorscale": [
             [
              0,
              "#0d0887"
             ],
             [
              0.1111111111111111,
              "#46039f"
             ],
             [
              0.2222222222222222,
              "#7201a8"
             ],
             [
              0.3333333333333333,
              "#9c179e"
             ],
             [
              0.4444444444444444,
              "#bd3786"
             ],
             [
              0.5555555555555556,
              "#d8576b"
             ],
             [
              0.6666666666666666,
              "#ed7953"
             ],
             [
              0.7777777777777778,
              "#fb9f3a"
             ],
             [
              0.8888888888888888,
              "#fdca26"
             ],
             [
              1,
              "#f0f921"
             ]
            ],
            "type": "heatmap"
           }
          ],
          "heatmapgl": [
           {
            "colorbar": {
             "outlinewidth": 0,
             "ticks": ""
            },
            "colorscale": [
             [
              0,
              "#0d0887"
             ],
             [
              0.1111111111111111,
              "#46039f"
             ],
             [
              0.2222222222222222,
              "#7201a8"
             ],
             [
              0.3333333333333333,
              "#9c179e"
             ],
             [
              0.4444444444444444,
              "#bd3786"
             ],
             [
              0.5555555555555556,
              "#d8576b"
             ],
             [
              0.6666666666666666,
              "#ed7953"
             ],
             [
              0.7777777777777778,
              "#fb9f3a"
             ],
             [
              0.8888888888888888,
              "#fdca26"
             ],
             [
              1,
              "#f0f921"
             ]
            ],
            "type": "heatmapgl"
           }
          ],
          "histogram": [
           {
            "marker": {
             "pattern": {
              "fillmode": "overlay",
              "size": 10,
              "solidity": 0.2
             }
            },
            "type": "histogram"
           }
          ],
          "histogram2d": [
           {
            "colorbar": {
             "outlinewidth": 0,
             "ticks": ""
            },
            "colorscale": [
             [
              0,
              "#0d0887"
             ],
             [
              0.1111111111111111,
              "#46039f"
             ],
             [
              0.2222222222222222,
              "#7201a8"
             ],
             [
              0.3333333333333333,
              "#9c179e"
             ],
             [
              0.4444444444444444,
              "#bd3786"
             ],
             [
              0.5555555555555556,
              "#d8576b"
             ],
             [
              0.6666666666666666,
              "#ed7953"
             ],
             [
              0.7777777777777778,
              "#fb9f3a"
             ],
             [
              0.8888888888888888,
              "#fdca26"
             ],
             [
              1,
              "#f0f921"
             ]
            ],
            "type": "histogram2d"
           }
          ],
          "histogram2dcontour": [
           {
            "colorbar": {
             "outlinewidth": 0,
             "ticks": ""
            },
            "colorscale": [
             [
              0,
              "#0d0887"
             ],
             [
              0.1111111111111111,
              "#46039f"
             ],
             [
              0.2222222222222222,
              "#7201a8"
             ],
             [
              0.3333333333333333,
              "#9c179e"
             ],
             [
              0.4444444444444444,
              "#bd3786"
             ],
             [
              0.5555555555555556,
              "#d8576b"
             ],
             [
              0.6666666666666666,
              "#ed7953"
             ],
             [
              0.7777777777777778,
              "#fb9f3a"
             ],
             [
              0.8888888888888888,
              "#fdca26"
             ],
             [
              1,
              "#f0f921"
             ]
            ],
            "type": "histogram2dcontour"
           }
          ],
          "mesh3d": [
           {
            "colorbar": {
             "outlinewidth": 0,
             "ticks": ""
            },
            "type": "mesh3d"
           }
          ],
          "parcoords": [
           {
            "line": {
             "colorbar": {
              "outlinewidth": 0,
              "ticks": ""
             }
            },
            "type": "parcoords"
           }
          ],
          "pie": [
           {
            "automargin": true,
            "type": "pie"
           }
          ],
          "scatter": [
           {
            "fillpattern": {
             "fillmode": "overlay",
             "size": 10,
             "solidity": 0.2
            },
            "type": "scatter"
           }
          ],
          "scatter3d": [
           {
            "line": {
             "colorbar": {
              "outlinewidth": 0,
              "ticks": ""
             }
            },
            "marker": {
             "colorbar": {
              "outlinewidth": 0,
              "ticks": ""
             }
            },
            "type": "scatter3d"
           }
          ],
          "scattercarpet": [
           {
            "marker": {
             "colorbar": {
              "outlinewidth": 0,
              "ticks": ""
             }
            },
            "type": "scattercarpet"
           }
          ],
          "scattergeo": [
           {
            "marker": {
             "colorbar": {
              "outlinewidth": 0,
              "ticks": ""
             }
            },
            "type": "scattergeo"
           }
          ],
          "scattergl": [
           {
            "marker": {
             "colorbar": {
              "outlinewidth": 0,
              "ticks": ""
             }
            },
            "type": "scattergl"
           }
          ],
          "scattermapbox": [
           {
            "marker": {
             "colorbar": {
              "outlinewidth": 0,
              "ticks": ""
             }
            },
            "type": "scattermapbox"
           }
          ],
          "scatterpolar": [
           {
            "marker": {
             "colorbar": {
              "outlinewidth": 0,
              "ticks": ""
             }
            },
            "type": "scatterpolar"
           }
          ],
          "scatterpolargl": [
           {
            "marker": {
             "colorbar": {
              "outlinewidth": 0,
              "ticks": ""
             }
            },
            "type": "scatterpolargl"
           }
          ],
          "scatterternary": [
           {
            "marker": {
             "colorbar": {
              "outlinewidth": 0,
              "ticks": ""
             }
            },
            "type": "scatterternary"
           }
          ],
          "surface": [
           {
            "colorbar": {
             "outlinewidth": 0,
             "ticks": ""
            },
            "colorscale": [
             [
              0,
              "#0d0887"
             ],
             [
              0.1111111111111111,
              "#46039f"
             ],
             [
              0.2222222222222222,
              "#7201a8"
             ],
             [
              0.3333333333333333,
              "#9c179e"
             ],
             [
              0.4444444444444444,
              "#bd3786"
             ],
             [
              0.5555555555555556,
              "#d8576b"
             ],
             [
              0.6666666666666666,
              "#ed7953"
             ],
             [
              0.7777777777777778,
              "#fb9f3a"
             ],
             [
              0.8888888888888888,
              "#fdca26"
             ],
             [
              1,
              "#f0f921"
             ]
            ],
            "type": "surface"
           }
          ],
          "table": [
           {
            "cells": {
             "fill": {
              "color": "#EBF0F8"
             },
             "line": {
              "color": "white"
             }
            },
            "header": {
             "fill": {
              "color": "#C8D4E3"
             },
             "line": {
              "color": "white"
             }
            },
            "type": "table"
           }
          ]
         },
         "layout": {
          "annotationdefaults": {
           "arrowcolor": "#2a3f5f",
           "arrowhead": 0,
           "arrowwidth": 1
          },
          "autotypenumbers": "strict",
          "coloraxis": {
           "colorbar": {
            "outlinewidth": 0,
            "ticks": ""
           }
          },
          "colorscale": {
           "diverging": [
            [
             0,
             "#8e0152"
            ],
            [
             0.1,
             "#c51b7d"
            ],
            [
             0.2,
             "#de77ae"
            ],
            [
             0.3,
             "#f1b6da"
            ],
            [
             0.4,
             "#fde0ef"
            ],
            [
             0.5,
             "#f7f7f7"
            ],
            [
             0.6,
             "#e6f5d0"
            ],
            [
             0.7,
             "#b8e186"
            ],
            [
             0.8,
             "#7fbc41"
            ],
            [
             0.9,
             "#4d9221"
            ],
            [
             1,
             "#276419"
            ]
           ],
           "sequential": [
            [
             0,
             "#0d0887"
            ],
            [
             0.1111111111111111,
             "#46039f"
            ],
            [
             0.2222222222222222,
             "#7201a8"
            ],
            [
             0.3333333333333333,
             "#9c179e"
            ],
            [
             0.4444444444444444,
             "#bd3786"
            ],
            [
             0.5555555555555556,
             "#d8576b"
            ],
            [
             0.6666666666666666,
             "#ed7953"
            ],
            [
             0.7777777777777778,
             "#fb9f3a"
            ],
            [
             0.8888888888888888,
             "#fdca26"
            ],
            [
             1,
             "#f0f921"
            ]
           ],
           "sequentialminus": [
            [
             0,
             "#0d0887"
            ],
            [
             0.1111111111111111,
             "#46039f"
            ],
            [
             0.2222222222222222,
             "#7201a8"
            ],
            [
             0.3333333333333333,
             "#9c179e"
            ],
            [
             0.4444444444444444,
             "#bd3786"
            ],
            [
             0.5555555555555556,
             "#d8576b"
            ],
            [
             0.6666666666666666,
             "#ed7953"
            ],
            [
             0.7777777777777778,
             "#fb9f3a"
            ],
            [
             0.8888888888888888,
             "#fdca26"
            ],
            [
             1,
             "#f0f921"
            ]
           ]
          },
          "colorway": [
           "#636efa",
           "#EF553B",
           "#00cc96",
           "#ab63fa",
           "#FFA15A",
           "#19d3f3",
           "#FF6692",
           "#B6E880",
           "#FF97FF",
           "#FECB52"
          ],
          "font": {
           "color": "#2a3f5f"
          },
          "geo": {
           "bgcolor": "white",
           "lakecolor": "white",
           "landcolor": "#E5ECF6",
           "showlakes": true,
           "showland": true,
           "subunitcolor": "white"
          },
          "hoverlabel": {
           "align": "left"
          },
          "hovermode": "closest",
          "mapbox": {
           "style": "light"
          },
          "paper_bgcolor": "white",
          "plot_bgcolor": "#E5ECF6",
          "polar": {
           "angularaxis": {
            "gridcolor": "white",
            "linecolor": "white",
            "ticks": ""
           },
           "bgcolor": "#E5ECF6",
           "radialaxis": {
            "gridcolor": "white",
            "linecolor": "white",
            "ticks": ""
           }
          },
          "scene": {
           "xaxis": {
            "backgroundcolor": "#E5ECF6",
            "gridcolor": "white",
            "gridwidth": 2,
            "linecolor": "white",
            "showbackground": true,
            "ticks": "",
            "zerolinecolor": "white"
           },
           "yaxis": {
            "backgroundcolor": "#E5ECF6",
            "gridcolor": "white",
            "gridwidth": 2,
            "linecolor": "white",
            "showbackground": true,
            "ticks": "",
            "zerolinecolor": "white"
           },
           "zaxis": {
            "backgroundcolor": "#E5ECF6",
            "gridcolor": "white",
            "gridwidth": 2,
            "linecolor": "white",
            "showbackground": true,
            "ticks": "",
            "zerolinecolor": "white"
           }
          },
          "shapedefaults": {
           "line": {
            "color": "#2a3f5f"
           }
          },
          "ternary": {
           "aaxis": {
            "gridcolor": "white",
            "linecolor": "white",
            "ticks": ""
           },
           "baxis": {
            "gridcolor": "white",
            "linecolor": "white",
            "ticks": ""
           },
           "bgcolor": "#E5ECF6",
           "caxis": {
            "gridcolor": "white",
            "linecolor": "white",
            "ticks": ""
           }
          },
          "title": {
           "x": 0.05
          },
          "xaxis": {
           "automargin": true,
           "gridcolor": "white",
           "linecolor": "white",
           "ticks": "",
           "title": {
            "standoff": 15
           },
           "zerolinecolor": "white",
           "zerolinewidth": 2
          },
          "yaxis": {
           "automargin": true,
           "gridcolor": "white",
           "linecolor": "white",
           "ticks": "",
           "title": {
            "standoff": 15
           },
           "zerolinecolor": "white",
           "zerolinewidth": 2
          }
         }
        },
        "xaxis": {
         "categoryorder": "category ascending",
         "dtick": 1,
         "gridcolor": "rgb(0, 0, 0)",
         "side": "top",
         "ticks": ""
        },
        "yaxis": {
         "categoryorder": "category descending",
         "dtick": 1,
         "ticks": "",
         "ticksuffix": "  "
        }
       }
      },
      "text/html": [
       "<div>                            <div id=\"da9ecddb-6ca8-429f-adf3-fdce07e78d59\" class=\"plotly-graph-div\" style=\"height:525px; width:100%;\"></div>            <script type=\"text/javascript\">                require([\"plotly\"], function(Plotly) {                    window.PLOTLYENV=window.PLOTLYENV || {};                                    if (document.getElementById(\"da9ecddb-6ca8-429f-adf3-fdce07e78d59\")) {                    Plotly.newPlot(                        \"da9ecddb-6ca8-429f-adf3-fdce07e78d59\",                        [{\"colorscale\":[[0.0,\"#0d0887\"],[0.1111111111111111,\"#46039f\"],[0.2222222222222222,\"#7201a8\"],[0.3333333333333333,\"#9c179e\"],[0.4444444444444444,\"#bd3786\"],[0.5555555555555556,\"#d8576b\"],[0.6666666666666666,\"#ed7953\"],[0.7777777777777778,\"#fb9f3a\"],[0.8888888888888888,\"#fdca26\"],[1.0,\"#f0f921\"]],\"reversescale\":false,\"showscale\":false,\"x\":[\"Cheese\",\"AO\",\"Sausage\",\"Seafood\",\"Fish\",\"Meatball\",\"Chicken\",\"Veggie\",\"Lamb\",\"Beef\",\"Ham\",\"Pepperoni\",\"Turkey\",\"Supplies\",\"Bacon\",\"Pork\",\"Egg\"],\"y\":[\"Cheese\",\"AO\",\"Sausage\",\"Seafood\",\"Fish\",\"Meatball\",\"Chicken\",\"Veggie\",\"Lamb\",\"Beef\",\"Ham\",\"Pepperoni\",\"Turkey\",\"Supplies\",\"Bacon\",\"Pork\",\"Egg\"],\"z\":[[287,4,0,0,0,0,0,2,0,3,0,1,0,0,0,0,0],[5,3454,2,7,8,0,16,48,0,17,0,0,0,94,4,11,3],[0,1,146,0,0,0,0,2,0,0,0,0,0,0,0,0,0],[0,6,0,189,1,0,0,0,0,0,0,0,0,0,0,0,0],[0,6,1,2,437,0,0,0,0,1,0,0,0,0,0,0,0],[0,1,0,0,0,49,0,0,0,0,0,0,0,0,0,0,0],[0,2,1,0,0,0,1446,1,0,0,0,0,2,0,0,0,0],[1,27,0,1,0,0,4,873,0,3,0,0,0,2,0,1,1],[0,0,0,0,0,0,0,0,14,0,0,0,0,0,0,0,0],[1,11,0,0,0,0,1,6,0,623,0,0,0,0,0,1,1],[0,0,0,0,0,0,0,0,0,1,309,0,0,0,0,0,0],[0,0,1,0,0,0,0,0,0,0,0,40,0,0,0,0,0],[0,0,0,0,0,0,0,0,0,1,0,0,536,0,0,0,0],[0,81,0,2,0,0,0,1,0,0,0,0,0,321,0,0,0],[2,0,0,1,0,0,0,0,0,1,0,0,0,0,47,0,0],[0,2,0,0,0,0,0,0,0,2,0,0,0,0,0,167,0],[0,3,0,0,0,0,0,0,0,0,0,0,0,0,0,0,42]],\"type\":\"heatmap\"}],                        {\"annotations\":[{\"font\":{\"color\":\"#FFFFFF\"},\"showarrow\":false,\"text\":\"287\",\"x\":\"Cheese\",\"xref\":\"x\",\"y\":\"Cheese\",\"yref\":\"y\"},{\"font\":{\"color\":\"#FFFFFF\"},\"showarrow\":false,\"text\":\"4\",\"x\":\"AO\",\"xref\":\"x\",\"y\":\"Cheese\",\"yref\":\"y\"},{\"font\":{\"color\":\"#FFFFFF\"},\"showarrow\":false,\"text\":\"0\",\"x\":\"Sausage\",\"xref\":\"x\",\"y\":\"Cheese\",\"yref\":\"y\"},{\"font\":{\"color\":\"#FFFFFF\"},\"showarrow\":false,\"text\":\"0\",\"x\":\"Seafood\",\"xref\":\"x\",\"y\":\"Cheese\",\"yref\":\"y\"},{\"font\":{\"color\":\"#FFFFFF\"},\"showarrow\":false,\"text\":\"0\",\"x\":\"Fish\",\"xref\":\"x\",\"y\":\"Cheese\",\"yref\":\"y\"},{\"font\":{\"color\":\"#FFFFFF\"},\"showarrow\":false,\"text\":\"0\",\"x\":\"Meatball\",\"xref\":\"x\",\"y\":\"Cheese\",\"yref\":\"y\"},{\"font\":{\"color\":\"#FFFFFF\"},\"showarrow\":false,\"text\":\"0\",\"x\":\"Chicken\",\"xref\":\"x\",\"y\":\"Cheese\",\"yref\":\"y\"},{\"font\":{\"color\":\"#FFFFFF\"},\"showarrow\":false,\"text\":\"2\",\"x\":\"Veggie\",\"xref\":\"x\",\"y\":\"Cheese\",\"yref\":\"y\"},{\"font\":{\"color\":\"#FFFFFF\"},\"showarrow\":false,\"text\":\"0\",\"x\":\"Lamb\",\"xref\":\"x\",\"y\":\"Cheese\",\"yref\":\"y\"},{\"font\":{\"color\":\"#FFFFFF\"},\"showarrow\":false,\"text\":\"3\",\"x\":\"Beef\",\"xref\":\"x\",\"y\":\"Cheese\",\"yref\":\"y\"},{\"font\":{\"color\":\"#FFFFFF\"},\"showarrow\":false,\"text\":\"0\",\"x\":\"Ham\",\"xref\":\"x\",\"y\":\"Cheese\",\"yref\":\"y\"},{\"font\":{\"color\":\"#FFFFFF\"},\"showarrow\":false,\"text\":\"1\",\"x\":\"Pepperoni\",\"xref\":\"x\",\"y\":\"Cheese\",\"yref\":\"y\"},{\"font\":{\"color\":\"#FFFFFF\"},\"showarrow\":false,\"text\":\"0\",\"x\":\"Turkey\",\"xref\":\"x\",\"y\":\"Cheese\",\"yref\":\"y\"},{\"font\":{\"color\":\"#FFFFFF\"},\"showarrow\":false,\"text\":\"0\",\"x\":\"Supplies\",\"xref\":\"x\",\"y\":\"Cheese\",\"yref\":\"y\"},{\"font\":{\"color\":\"#FFFFFF\"},\"showarrow\":false,\"text\":\"0\",\"x\":\"Bacon\",\"xref\":\"x\",\"y\":\"Cheese\",\"yref\":\"y\"},{\"font\":{\"color\":\"#FFFFFF\"},\"showarrow\":false,\"text\":\"0\",\"x\":\"Pork\",\"xref\":\"x\",\"y\":\"Cheese\",\"yref\":\"y\"},{\"font\":{\"color\":\"#FFFFFF\"},\"showarrow\":false,\"text\":\"0\",\"x\":\"Egg\",\"xref\":\"x\",\"y\":\"Cheese\",\"yref\":\"y\"},{\"font\":{\"color\":\"#FFFFFF\"},\"showarrow\":false,\"text\":\"5\",\"x\":\"Cheese\",\"xref\":\"x\",\"y\":\"AO\",\"yref\":\"y\"},{\"font\":{\"color\":\"#000000\"},\"showarrow\":false,\"text\":\"3454\",\"x\":\"AO\",\"xref\":\"x\",\"y\":\"AO\",\"yref\":\"y\"},{\"font\":{\"color\":\"#FFFFFF\"},\"showarrow\":false,\"text\":\"2\",\"x\":\"Sausage\",\"xref\":\"x\",\"y\":\"AO\",\"yref\":\"y\"},{\"font\":{\"color\":\"#FFFFFF\"},\"showarrow\":false,\"text\":\"7\",\"x\":\"Seafood\",\"xref\":\"x\",\"y\":\"AO\",\"yref\":\"y\"},{\"font\":{\"color\":\"#FFFFFF\"},\"showarrow\":false,\"text\":\"8\",\"x\":\"Fish\",\"xref\":\"x\",\"y\":\"AO\",\"yref\":\"y\"},{\"font\":{\"color\":\"#FFFFFF\"},\"showarrow\":false,\"text\":\"0\",\"x\":\"Meatball\",\"xref\":\"x\",\"y\":\"AO\",\"yref\":\"y\"},{\"font\":{\"color\":\"#FFFFFF\"},\"showarrow\":false,\"text\":\"16\",\"x\":\"Chicken\",\"xref\":\"x\",\"y\":\"AO\",\"yref\":\"y\"},{\"font\":{\"color\":\"#FFFFFF\"},\"showarrow\":false,\"text\":\"48\",\"x\":\"Veggie\",\"xref\":\"x\",\"y\":\"AO\",\"yref\":\"y\"},{\"font\":{\"color\":\"#FFFFFF\"},\"showarrow\":false,\"text\":\"0\",\"x\":\"Lamb\",\"xref\":\"x\",\"y\":\"AO\",\"yref\":\"y\"},{\"font\":{\"color\":\"#FFFFFF\"},\"showarrow\":false,\"text\":\"17\",\"x\":\"Beef\",\"xref\":\"x\",\"y\":\"AO\",\"yref\":\"y\"},{\"font\":{\"color\":\"#FFFFFF\"},\"showarrow\":false,\"text\":\"0\",\"x\":\"Ham\",\"xref\":\"x\",\"y\":\"AO\",\"yref\":\"y\"},{\"font\":{\"color\":\"#FFFFFF\"},\"showarrow\":false,\"text\":\"0\",\"x\":\"Pepperoni\",\"xref\":\"x\",\"y\":\"AO\",\"yref\":\"y\"},{\"font\":{\"color\":\"#FFFFFF\"},\"showarrow\":false,\"text\":\"0\",\"x\":\"Turkey\",\"xref\":\"x\",\"y\":\"AO\",\"yref\":\"y\"},{\"font\":{\"color\":\"#FFFFFF\"},\"showarrow\":false,\"text\":\"94\",\"x\":\"Supplies\",\"xref\":\"x\",\"y\":\"AO\",\"yref\":\"y\"},{\"font\":{\"color\":\"#FFFFFF\"},\"showarrow\":false,\"text\":\"4\",\"x\":\"Bacon\",\"xref\":\"x\",\"y\":\"AO\",\"yref\":\"y\"},{\"font\":{\"color\":\"#FFFFFF\"},\"showarrow\":false,\"text\":\"11\",\"x\":\"Pork\",\"xref\":\"x\",\"y\":\"AO\",\"yref\":\"y\"},{\"font\":{\"color\":\"#FFFFFF\"},\"showarrow\":false,\"text\":\"3\",\"x\":\"Egg\",\"xref\":\"x\",\"y\":\"AO\",\"yref\":\"y\"},{\"font\":{\"color\":\"#FFFFFF\"},\"showarrow\":false,\"text\":\"0\",\"x\":\"Cheese\",\"xref\":\"x\",\"y\":\"Sausage\",\"yref\":\"y\"},{\"font\":{\"color\":\"#FFFFFF\"},\"showarrow\":false,\"text\":\"1\",\"x\":\"AO\",\"xref\":\"x\",\"y\":\"Sausage\",\"yref\":\"y\"},{\"font\":{\"color\":\"#FFFFFF\"},\"showarrow\":false,\"text\":\"146\",\"x\":\"Sausage\",\"xref\":\"x\",\"y\":\"Sausage\",\"yref\":\"y\"},{\"font\":{\"color\":\"#FFFFFF\"},\"showarrow\":false,\"text\":\"0\",\"x\":\"Seafood\",\"xref\":\"x\",\"y\":\"Sausage\",\"yref\":\"y\"},{\"font\":{\"color\":\"#FFFFFF\"},\"showarrow\":false,\"text\":\"0\",\"x\":\"Fish\",\"xref\":\"x\",\"y\":\"Sausage\",\"yref\":\"y\"},{\"font\":{\"color\":\"#FFFFFF\"},\"showarrow\":false,\"text\":\"0\",\"x\":\"Meatball\",\"xref\":\"x\",\"y\":\"Sausage\",\"yref\":\"y\"},{\"font\":{\"color\":\"#FFFFFF\"},\"showarrow\":false,\"text\":\"0\",\"x\":\"Chicken\",\"xref\":\"x\",\"y\":\"Sausage\",\"yref\":\"y\"},{\"font\":{\"color\":\"#FFFFFF\"},\"showarrow\":false,\"text\":\"2\",\"x\":\"Veggie\",\"xref\":\"x\",\"y\":\"Sausage\",\"yref\":\"y\"},{\"font\":{\"color\":\"#FFFFFF\"},\"showarrow\":false,\"text\":\"0\",\"x\":\"Lamb\",\"xref\":\"x\",\"y\":\"Sausage\",\"yref\":\"y\"},{\"font\":{\"color\":\"#FFFFFF\"},\"showarrow\":false,\"text\":\"0\",\"x\":\"Beef\",\"xref\":\"x\",\"y\":\"Sausage\",\"yref\":\"y\"},{\"font\":{\"color\":\"#FFFFFF\"},\"showarrow\":false,\"text\":\"0\",\"x\":\"Ham\",\"xref\":\"x\",\"y\":\"Sausage\",\"yref\":\"y\"},{\"font\":{\"color\":\"#FFFFFF\"},\"showarrow\":false,\"text\":\"0\",\"x\":\"Pepperoni\",\"xref\":\"x\",\"y\":\"Sausage\",\"yref\":\"y\"},{\"font\":{\"color\":\"#FFFFFF\"},\"showarrow\":false,\"text\":\"0\",\"x\":\"Turkey\",\"xref\":\"x\",\"y\":\"Sausage\",\"yref\":\"y\"},{\"font\":{\"color\":\"#FFFFFF\"},\"showarrow\":false,\"text\":\"0\",\"x\":\"Supplies\",\"xref\":\"x\",\"y\":\"Sausage\",\"yref\":\"y\"},{\"font\":{\"color\":\"#FFFFFF\"},\"showarrow\":false,\"text\":\"0\",\"x\":\"Bacon\",\"xref\":\"x\",\"y\":\"Sausage\",\"yref\":\"y\"},{\"font\":{\"color\":\"#FFFFFF\"},\"showarrow\":false,\"text\":\"0\",\"x\":\"Pork\",\"xref\":\"x\",\"y\":\"Sausage\",\"yref\":\"y\"},{\"font\":{\"color\":\"#FFFFFF\"},\"showarrow\":false,\"text\":\"0\",\"x\":\"Egg\",\"xref\":\"x\",\"y\":\"Sausage\",\"yref\":\"y\"},{\"font\":{\"color\":\"#FFFFFF\"},\"showarrow\":false,\"text\":\"0\",\"x\":\"Cheese\",\"xref\":\"x\",\"y\":\"Seafood\",\"yref\":\"y\"},{\"font\":{\"color\":\"#FFFFFF\"},\"showarrow\":false,\"text\":\"6\",\"x\":\"AO\",\"xref\":\"x\",\"y\":\"Seafood\",\"yref\":\"y\"},{\"font\":{\"color\":\"#FFFFFF\"},\"showarrow\":false,\"text\":\"0\",\"x\":\"Sausage\",\"xref\":\"x\",\"y\":\"Seafood\",\"yref\":\"y\"},{\"font\":{\"color\":\"#FFFFFF\"},\"showarrow\":false,\"text\":\"189\",\"x\":\"Seafood\",\"xref\":\"x\",\"y\":\"Seafood\",\"yref\":\"y\"},{\"font\":{\"color\":\"#FFFFFF\"},\"showarrow\":false,\"text\":\"1\",\"x\":\"Fish\",\"xref\":\"x\",\"y\":\"Seafood\",\"yref\":\"y\"},{\"font\":{\"color\":\"#FFFFFF\"},\"showarrow\":false,\"text\":\"0\",\"x\":\"Meatball\",\"xref\":\"x\",\"y\":\"Seafood\",\"yref\":\"y\"},{\"font\":{\"color\":\"#FFFFFF\"},\"showarrow\":false,\"text\":\"0\",\"x\":\"Chicken\",\"xref\":\"x\",\"y\":\"Seafood\",\"yref\":\"y\"},{\"font\":{\"color\":\"#FFFFFF\"},\"showarrow\":false,\"text\":\"0\",\"x\":\"Veggie\",\"xref\":\"x\",\"y\":\"Seafood\",\"yref\":\"y\"},{\"font\":{\"color\":\"#FFFFFF\"},\"showarrow\":false,\"text\":\"0\",\"x\":\"Lamb\",\"xref\":\"x\",\"y\":\"Seafood\",\"yref\":\"y\"},{\"font\":{\"color\":\"#FFFFFF\"},\"showarrow\":false,\"text\":\"0\",\"x\":\"Beef\",\"xref\":\"x\",\"y\":\"Seafood\",\"yref\":\"y\"},{\"font\":{\"color\":\"#FFFFFF\"},\"showarrow\":false,\"text\":\"0\",\"x\":\"Ham\",\"xref\":\"x\",\"y\":\"Seafood\",\"yref\":\"y\"},{\"font\":{\"color\":\"#FFFFFF\"},\"showarrow\":false,\"text\":\"0\",\"x\":\"Pepperoni\",\"xref\":\"x\",\"y\":\"Seafood\",\"yref\":\"y\"},{\"font\":{\"color\":\"#FFFFFF\"},\"showarrow\":false,\"text\":\"0\",\"x\":\"Turkey\",\"xref\":\"x\",\"y\":\"Seafood\",\"yref\":\"y\"},{\"font\":{\"color\":\"#FFFFFF\"},\"showarrow\":false,\"text\":\"0\",\"x\":\"Supplies\",\"xref\":\"x\",\"y\":\"Seafood\",\"yref\":\"y\"},{\"font\":{\"color\":\"#FFFFFF\"},\"showarrow\":false,\"text\":\"0\",\"x\":\"Bacon\",\"xref\":\"x\",\"y\":\"Seafood\",\"yref\":\"y\"},{\"font\":{\"color\":\"#FFFFFF\"},\"showarrow\":false,\"text\":\"0\",\"x\":\"Pork\",\"xref\":\"x\",\"y\":\"Seafood\",\"yref\":\"y\"},{\"font\":{\"color\":\"#FFFFFF\"},\"showarrow\":false,\"text\":\"0\",\"x\":\"Egg\",\"xref\":\"x\",\"y\":\"Seafood\",\"yref\":\"y\"},{\"font\":{\"color\":\"#FFFFFF\"},\"showarrow\":false,\"text\":\"0\",\"x\":\"Cheese\",\"xref\":\"x\",\"y\":\"Fish\",\"yref\":\"y\"},{\"font\":{\"color\":\"#FFFFFF\"},\"showarrow\":false,\"text\":\"6\",\"x\":\"AO\",\"xref\":\"x\",\"y\":\"Fish\",\"yref\":\"y\"},{\"font\":{\"color\":\"#FFFFFF\"},\"showarrow\":false,\"text\":\"1\",\"x\":\"Sausage\",\"xref\":\"x\",\"y\":\"Fish\",\"yref\":\"y\"},{\"font\":{\"color\":\"#FFFFFF\"},\"showarrow\":false,\"text\":\"2\",\"x\":\"Seafood\",\"xref\":\"x\",\"y\":\"Fish\",\"yref\":\"y\"},{\"font\":{\"color\":\"#FFFFFF\"},\"showarrow\":false,\"text\":\"437\",\"x\":\"Fish\",\"xref\":\"x\",\"y\":\"Fish\",\"yref\":\"y\"},{\"font\":{\"color\":\"#FFFFFF\"},\"showarrow\":false,\"text\":\"0\",\"x\":\"Meatball\",\"xref\":\"x\",\"y\":\"Fish\",\"yref\":\"y\"},{\"font\":{\"color\":\"#FFFFFF\"},\"showarrow\":false,\"text\":\"0\",\"x\":\"Chicken\",\"xref\":\"x\",\"y\":\"Fish\",\"yref\":\"y\"},{\"font\":{\"color\":\"#FFFFFF\"},\"showarrow\":false,\"text\":\"0\",\"x\":\"Veggie\",\"xref\":\"x\",\"y\":\"Fish\",\"yref\":\"y\"},{\"font\":{\"color\":\"#FFFFFF\"},\"showarrow\":false,\"text\":\"0\",\"x\":\"Lamb\",\"xref\":\"x\",\"y\":\"Fish\",\"yref\":\"y\"},{\"font\":{\"color\":\"#FFFFFF\"},\"showarrow\":false,\"text\":\"1\",\"x\":\"Beef\",\"xref\":\"x\",\"y\":\"Fish\",\"yref\":\"y\"},{\"font\":{\"color\":\"#FFFFFF\"},\"showarrow\":false,\"text\":\"0\",\"x\":\"Ham\",\"xref\":\"x\",\"y\":\"Fish\",\"yref\":\"y\"},{\"font\":{\"color\":\"#FFFFFF\"},\"showarrow\":false,\"text\":\"0\",\"x\":\"Pepperoni\",\"xref\":\"x\",\"y\":\"Fish\",\"yref\":\"y\"},{\"font\":{\"color\":\"#FFFFFF\"},\"showarrow\":false,\"text\":\"0\",\"x\":\"Turkey\",\"xref\":\"x\",\"y\":\"Fish\",\"yref\":\"y\"},{\"font\":{\"color\":\"#FFFFFF\"},\"showarrow\":false,\"text\":\"0\",\"x\":\"Supplies\",\"xref\":\"x\",\"y\":\"Fish\",\"yref\":\"y\"},{\"font\":{\"color\":\"#FFFFFF\"},\"showarrow\":false,\"text\":\"0\",\"x\":\"Bacon\",\"xref\":\"x\",\"y\":\"Fish\",\"yref\":\"y\"},{\"font\":{\"color\":\"#FFFFFF\"},\"showarrow\":false,\"text\":\"0\",\"x\":\"Pork\",\"xref\":\"x\",\"y\":\"Fish\",\"yref\":\"y\"},{\"font\":{\"color\":\"#FFFFFF\"},\"showarrow\":false,\"text\":\"0\",\"x\":\"Egg\",\"xref\":\"x\",\"y\":\"Fish\",\"yref\":\"y\"},{\"font\":{\"color\":\"#FFFFFF\"},\"showarrow\":false,\"text\":\"0\",\"x\":\"Cheese\",\"xref\":\"x\",\"y\":\"Meatball\",\"yref\":\"y\"},{\"font\":{\"color\":\"#FFFFFF\"},\"showarrow\":false,\"text\":\"1\",\"x\":\"AO\",\"xref\":\"x\",\"y\":\"Meatball\",\"yref\":\"y\"},{\"font\":{\"color\":\"#FFFFFF\"},\"showarrow\":false,\"text\":\"0\",\"x\":\"Sausage\",\"xref\":\"x\",\"y\":\"Meatball\",\"yref\":\"y\"},{\"font\":{\"color\":\"#FFFFFF\"},\"showarrow\":false,\"text\":\"0\",\"x\":\"Seafood\",\"xref\":\"x\",\"y\":\"Meatball\",\"yref\":\"y\"},{\"font\":{\"color\":\"#FFFFFF\"},\"showarrow\":false,\"text\":\"0\",\"x\":\"Fish\",\"xref\":\"x\",\"y\":\"Meatball\",\"yref\":\"y\"},{\"font\":{\"color\":\"#FFFFFF\"},\"showarrow\":false,\"text\":\"49\",\"x\":\"Meatball\",\"xref\":\"x\",\"y\":\"Meatball\",\"yref\":\"y\"},{\"font\":{\"color\":\"#FFFFFF\"},\"showarrow\":false,\"text\":\"0\",\"x\":\"Chicken\",\"xref\":\"x\",\"y\":\"Meatball\",\"yref\":\"y\"},{\"font\":{\"color\":\"#FFFFFF\"},\"showarrow\":false,\"text\":\"0\",\"x\":\"Veggie\",\"xref\":\"x\",\"y\":\"Meatball\",\"yref\":\"y\"},{\"font\":{\"color\":\"#FFFFFF\"},\"showarrow\":false,\"text\":\"0\",\"x\":\"Lamb\",\"xref\":\"x\",\"y\":\"Meatball\",\"yref\":\"y\"},{\"font\":{\"color\":\"#FFFFFF\"},\"showarrow\":false,\"text\":\"0\",\"x\":\"Beef\",\"xref\":\"x\",\"y\":\"Meatball\",\"yref\":\"y\"},{\"font\":{\"color\":\"#FFFFFF\"},\"showarrow\":false,\"text\":\"0\",\"x\":\"Ham\",\"xref\":\"x\",\"y\":\"Meatball\",\"yref\":\"y\"},{\"font\":{\"color\":\"#FFFFFF\"},\"showarrow\":false,\"text\":\"0\",\"x\":\"Pepperoni\",\"xref\":\"x\",\"y\":\"Meatball\",\"yref\":\"y\"},{\"font\":{\"color\":\"#FFFFFF\"},\"showarrow\":false,\"text\":\"0\",\"x\":\"Turkey\",\"xref\":\"x\",\"y\":\"Meatball\",\"yref\":\"y\"},{\"font\":{\"color\":\"#FFFFFF\"},\"showarrow\":false,\"text\":\"0\",\"x\":\"Supplies\",\"xref\":\"x\",\"y\":\"Meatball\",\"yref\":\"y\"},{\"font\":{\"color\":\"#FFFFFF\"},\"showarrow\":false,\"text\":\"0\",\"x\":\"Bacon\",\"xref\":\"x\",\"y\":\"Meatball\",\"yref\":\"y\"},{\"font\":{\"color\":\"#FFFFFF\"},\"showarrow\":false,\"text\":\"0\",\"x\":\"Pork\",\"xref\":\"x\",\"y\":\"Meatball\",\"yref\":\"y\"},{\"font\":{\"color\":\"#FFFFFF\"},\"showarrow\":false,\"text\":\"0\",\"x\":\"Egg\",\"xref\":\"x\",\"y\":\"Meatball\",\"yref\":\"y\"},{\"font\":{\"color\":\"#FFFFFF\"},\"showarrow\":false,\"text\":\"0\",\"x\":\"Cheese\",\"xref\":\"x\",\"y\":\"Chicken\",\"yref\":\"y\"},{\"font\":{\"color\":\"#FFFFFF\"},\"showarrow\":false,\"text\":\"2\",\"x\":\"AO\",\"xref\":\"x\",\"y\":\"Chicken\",\"yref\":\"y\"},{\"font\":{\"color\":\"#FFFFFF\"},\"showarrow\":false,\"text\":\"1\",\"x\":\"Sausage\",\"xref\":\"x\",\"y\":\"Chicken\",\"yref\":\"y\"},{\"font\":{\"color\":\"#FFFFFF\"},\"showarrow\":false,\"text\":\"0\",\"x\":\"Seafood\",\"xref\":\"x\",\"y\":\"Chicken\",\"yref\":\"y\"},{\"font\":{\"color\":\"#FFFFFF\"},\"showarrow\":false,\"text\":\"0\",\"x\":\"Fish\",\"xref\":\"x\",\"y\":\"Chicken\",\"yref\":\"y\"},{\"font\":{\"color\":\"#FFFFFF\"},\"showarrow\":false,\"text\":\"0\",\"x\":\"Meatball\",\"xref\":\"x\",\"y\":\"Chicken\",\"yref\":\"y\"},{\"font\":{\"color\":\"#FFFFFF\"},\"showarrow\":false,\"text\":\"1446\",\"x\":\"Chicken\",\"xref\":\"x\",\"y\":\"Chicken\",\"yref\":\"y\"},{\"font\":{\"color\":\"#FFFFFF\"},\"showarrow\":false,\"text\":\"1\",\"x\":\"Veggie\",\"xref\":\"x\",\"y\":\"Chicken\",\"yref\":\"y\"},{\"font\":{\"color\":\"#FFFFFF\"},\"showarrow\":false,\"text\":\"0\",\"x\":\"Lamb\",\"xref\":\"x\",\"y\":\"Chicken\",\"yref\":\"y\"},{\"font\":{\"color\":\"#FFFFFF\"},\"showarrow\":false,\"text\":\"0\",\"x\":\"Beef\",\"xref\":\"x\",\"y\":\"Chicken\",\"yref\":\"y\"},{\"font\":{\"color\":\"#FFFFFF\"},\"showarrow\":false,\"text\":\"0\",\"x\":\"Ham\",\"xref\":\"x\",\"y\":\"Chicken\",\"yref\":\"y\"},{\"font\":{\"color\":\"#FFFFFF\"},\"showarrow\":false,\"text\":\"0\",\"x\":\"Pepperoni\",\"xref\":\"x\",\"y\":\"Chicken\",\"yref\":\"y\"},{\"font\":{\"color\":\"#FFFFFF\"},\"showarrow\":false,\"text\":\"2\",\"x\":\"Turkey\",\"xref\":\"x\",\"y\":\"Chicken\",\"yref\":\"y\"},{\"font\":{\"color\":\"#FFFFFF\"},\"showarrow\":false,\"text\":\"0\",\"x\":\"Supplies\",\"xref\":\"x\",\"y\":\"Chicken\",\"yref\":\"y\"},{\"font\":{\"color\":\"#FFFFFF\"},\"showarrow\":false,\"text\":\"0\",\"x\":\"Bacon\",\"xref\":\"x\",\"y\":\"Chicken\",\"yref\":\"y\"},{\"font\":{\"color\":\"#FFFFFF\"},\"showarrow\":false,\"text\":\"0\",\"x\":\"Pork\",\"xref\":\"x\",\"y\":\"Chicken\",\"yref\":\"y\"},{\"font\":{\"color\":\"#FFFFFF\"},\"showarrow\":false,\"text\":\"0\",\"x\":\"Egg\",\"xref\":\"x\",\"y\":\"Chicken\",\"yref\":\"y\"},{\"font\":{\"color\":\"#FFFFFF\"},\"showarrow\":false,\"text\":\"1\",\"x\":\"Cheese\",\"xref\":\"x\",\"y\":\"Veggie\",\"yref\":\"y\"},{\"font\":{\"color\":\"#FFFFFF\"},\"showarrow\":false,\"text\":\"27\",\"x\":\"AO\",\"xref\":\"x\",\"y\":\"Veggie\",\"yref\":\"y\"},{\"font\":{\"color\":\"#FFFFFF\"},\"showarrow\":false,\"text\":\"0\",\"x\":\"Sausage\",\"xref\":\"x\",\"y\":\"Veggie\",\"yref\":\"y\"},{\"font\":{\"color\":\"#FFFFFF\"},\"showarrow\":false,\"text\":\"1\",\"x\":\"Seafood\",\"xref\":\"x\",\"y\":\"Veggie\",\"yref\":\"y\"},{\"font\":{\"color\":\"#FFFFFF\"},\"showarrow\":false,\"text\":\"0\",\"x\":\"Fish\",\"xref\":\"x\",\"y\":\"Veggie\",\"yref\":\"y\"},{\"font\":{\"color\":\"#FFFFFF\"},\"showarrow\":false,\"text\":\"0\",\"x\":\"Meatball\",\"xref\":\"x\",\"y\":\"Veggie\",\"yref\":\"y\"},{\"font\":{\"color\":\"#FFFFFF\"},\"showarrow\":false,\"text\":\"4\",\"x\":\"Chicken\",\"xref\":\"x\",\"y\":\"Veggie\",\"yref\":\"y\"},{\"font\":{\"color\":\"#FFFFFF\"},\"showarrow\":false,\"text\":\"873\",\"x\":\"Veggie\",\"xref\":\"x\",\"y\":\"Veggie\",\"yref\":\"y\"},{\"font\":{\"color\":\"#FFFFFF\"},\"showarrow\":false,\"text\":\"0\",\"x\":\"Lamb\",\"xref\":\"x\",\"y\":\"Veggie\",\"yref\":\"y\"},{\"font\":{\"color\":\"#FFFFFF\"},\"showarrow\":false,\"text\":\"3\",\"x\":\"Beef\",\"xref\":\"x\",\"y\":\"Veggie\",\"yref\":\"y\"},{\"font\":{\"color\":\"#FFFFFF\"},\"showarrow\":false,\"text\":\"0\",\"x\":\"Ham\",\"xref\":\"x\",\"y\":\"Veggie\",\"yref\":\"y\"},{\"font\":{\"color\":\"#FFFFFF\"},\"showarrow\":false,\"text\":\"0\",\"x\":\"Pepperoni\",\"xref\":\"x\",\"y\":\"Veggie\",\"yref\":\"y\"},{\"font\":{\"color\":\"#FFFFFF\"},\"showarrow\":false,\"text\":\"0\",\"x\":\"Turkey\",\"xref\":\"x\",\"y\":\"Veggie\",\"yref\":\"y\"},{\"font\":{\"color\":\"#FFFFFF\"},\"showarrow\":false,\"text\":\"2\",\"x\":\"Supplies\",\"xref\":\"x\",\"y\":\"Veggie\",\"yref\":\"y\"},{\"font\":{\"color\":\"#FFFFFF\"},\"showarrow\":false,\"text\":\"0\",\"x\":\"Bacon\",\"xref\":\"x\",\"y\":\"Veggie\",\"yref\":\"y\"},{\"font\":{\"color\":\"#FFFFFF\"},\"showarrow\":false,\"text\":\"1\",\"x\":\"Pork\",\"xref\":\"x\",\"y\":\"Veggie\",\"yref\":\"y\"},{\"font\":{\"color\":\"#FFFFFF\"},\"showarrow\":false,\"text\":\"1\",\"x\":\"Egg\",\"xref\":\"x\",\"y\":\"Veggie\",\"yref\":\"y\"},{\"font\":{\"color\":\"#FFFFFF\"},\"showarrow\":false,\"text\":\"0\",\"x\":\"Cheese\",\"xref\":\"x\",\"y\":\"Lamb\",\"yref\":\"y\"},{\"font\":{\"color\":\"#FFFFFF\"},\"showarrow\":false,\"text\":\"0\",\"x\":\"AO\",\"xref\":\"x\",\"y\":\"Lamb\",\"yref\":\"y\"},{\"font\":{\"color\":\"#FFFFFF\"},\"showarrow\":false,\"text\":\"0\",\"x\":\"Sausage\",\"xref\":\"x\",\"y\":\"Lamb\",\"yref\":\"y\"},{\"font\":{\"color\":\"#FFFFFF\"},\"showarrow\":false,\"text\":\"0\",\"x\":\"Seafood\",\"xref\":\"x\",\"y\":\"Lamb\",\"yref\":\"y\"},{\"font\":{\"color\":\"#FFFFFF\"},\"showarrow\":false,\"text\":\"0\",\"x\":\"Fish\",\"xref\":\"x\",\"y\":\"Lamb\",\"yref\":\"y\"},{\"font\":{\"color\":\"#FFFFFF\"},\"showarrow\":false,\"text\":\"0\",\"x\":\"Meatball\",\"xref\":\"x\",\"y\":\"Lamb\",\"yref\":\"y\"},{\"font\":{\"color\":\"#FFFFFF\"},\"showarrow\":false,\"text\":\"0\",\"x\":\"Chicken\",\"xref\":\"x\",\"y\":\"Lamb\",\"yref\":\"y\"},{\"font\":{\"color\":\"#FFFFFF\"},\"showarrow\":false,\"text\":\"0\",\"x\":\"Veggie\",\"xref\":\"x\",\"y\":\"Lamb\",\"yref\":\"y\"},{\"font\":{\"color\":\"#FFFFFF\"},\"showarrow\":false,\"text\":\"14\",\"x\":\"Lamb\",\"xref\":\"x\",\"y\":\"Lamb\",\"yref\":\"y\"},{\"font\":{\"color\":\"#FFFFFF\"},\"showarrow\":false,\"text\":\"0\",\"x\":\"Beef\",\"xref\":\"x\",\"y\":\"Lamb\",\"yref\":\"y\"},{\"font\":{\"color\":\"#FFFFFF\"},\"showarrow\":false,\"text\":\"0\",\"x\":\"Ham\",\"xref\":\"x\",\"y\":\"Lamb\",\"yref\":\"y\"},{\"font\":{\"color\":\"#FFFFFF\"},\"showarrow\":false,\"text\":\"0\",\"x\":\"Pepperoni\",\"xref\":\"x\",\"y\":\"Lamb\",\"yref\":\"y\"},{\"font\":{\"color\":\"#FFFFFF\"},\"showarrow\":false,\"text\":\"0\",\"x\":\"Turkey\",\"xref\":\"x\",\"y\":\"Lamb\",\"yref\":\"y\"},{\"font\":{\"color\":\"#FFFFFF\"},\"showarrow\":false,\"text\":\"0\",\"x\":\"Supplies\",\"xref\":\"x\",\"y\":\"Lamb\",\"yref\":\"y\"},{\"font\":{\"color\":\"#FFFFFF\"},\"showarrow\":false,\"text\":\"0\",\"x\":\"Bacon\",\"xref\":\"x\",\"y\":\"Lamb\",\"yref\":\"y\"},{\"font\":{\"color\":\"#FFFFFF\"},\"showarrow\":false,\"text\":\"0\",\"x\":\"Pork\",\"xref\":\"x\",\"y\":\"Lamb\",\"yref\":\"y\"},{\"font\":{\"color\":\"#FFFFFF\"},\"showarrow\":false,\"text\":\"0\",\"x\":\"Egg\",\"xref\":\"x\",\"y\":\"Lamb\",\"yref\":\"y\"},{\"font\":{\"color\":\"#FFFFFF\"},\"showarrow\":false,\"text\":\"1\",\"x\":\"Cheese\",\"xref\":\"x\",\"y\":\"Beef\",\"yref\":\"y\"},{\"font\":{\"color\":\"#FFFFFF\"},\"showarrow\":false,\"text\":\"11\",\"x\":\"AO\",\"xref\":\"x\",\"y\":\"Beef\",\"yref\":\"y\"},{\"font\":{\"color\":\"#FFFFFF\"},\"showarrow\":false,\"text\":\"0\",\"x\":\"Sausage\",\"xref\":\"x\",\"y\":\"Beef\",\"yref\":\"y\"},{\"font\":{\"color\":\"#FFFFFF\"},\"showarrow\":false,\"text\":\"0\",\"x\":\"Seafood\",\"xref\":\"x\",\"y\":\"Beef\",\"yref\":\"y\"},{\"font\":{\"color\":\"#FFFFFF\"},\"showarrow\":false,\"text\":\"0\",\"x\":\"Fish\",\"xref\":\"x\",\"y\":\"Beef\",\"yref\":\"y\"},{\"font\":{\"color\":\"#FFFFFF\"},\"showarrow\":false,\"text\":\"0\",\"x\":\"Meatball\",\"xref\":\"x\",\"y\":\"Beef\",\"yref\":\"y\"},{\"font\":{\"color\":\"#FFFFFF\"},\"showarrow\":false,\"text\":\"1\",\"x\":\"Chicken\",\"xref\":\"x\",\"y\":\"Beef\",\"yref\":\"y\"},{\"font\":{\"color\":\"#FFFFFF\"},\"showarrow\":false,\"text\":\"6\",\"x\":\"Veggie\",\"xref\":\"x\",\"y\":\"Beef\",\"yref\":\"y\"},{\"font\":{\"color\":\"#FFFFFF\"},\"showarrow\":false,\"text\":\"0\",\"x\":\"Lamb\",\"xref\":\"x\",\"y\":\"Beef\",\"yref\":\"y\"},{\"font\":{\"color\":\"#FFFFFF\"},\"showarrow\":false,\"text\":\"623\",\"x\":\"Beef\",\"xref\":\"x\",\"y\":\"Beef\",\"yref\":\"y\"},{\"font\":{\"color\":\"#FFFFFF\"},\"showarrow\":false,\"text\":\"0\",\"x\":\"Ham\",\"xref\":\"x\",\"y\":\"Beef\",\"yref\":\"y\"},{\"font\":{\"color\":\"#FFFFFF\"},\"showarrow\":false,\"text\":\"0\",\"x\":\"Pepperoni\",\"xref\":\"x\",\"y\":\"Beef\",\"yref\":\"y\"},{\"font\":{\"color\":\"#FFFFFF\"},\"showarrow\":false,\"text\":\"0\",\"x\":\"Turkey\",\"xref\":\"x\",\"y\":\"Beef\",\"yref\":\"y\"},{\"font\":{\"color\":\"#FFFFFF\"},\"showarrow\":false,\"text\":\"0\",\"x\":\"Supplies\",\"xref\":\"x\",\"y\":\"Beef\",\"yref\":\"y\"},{\"font\":{\"color\":\"#FFFFFF\"},\"showarrow\":false,\"text\":\"0\",\"x\":\"Bacon\",\"xref\":\"x\",\"y\":\"Beef\",\"yref\":\"y\"},{\"font\":{\"color\":\"#FFFFFF\"},\"showarrow\":false,\"text\":\"1\",\"x\":\"Pork\",\"xref\":\"x\",\"y\":\"Beef\",\"yref\":\"y\"},{\"font\":{\"color\":\"#FFFFFF\"},\"showarrow\":false,\"text\":\"1\",\"x\":\"Egg\",\"xref\":\"x\",\"y\":\"Beef\",\"yref\":\"y\"},{\"font\":{\"color\":\"#FFFFFF\"},\"showarrow\":false,\"text\":\"0\",\"x\":\"Cheese\",\"xref\":\"x\",\"y\":\"Ham\",\"yref\":\"y\"},{\"font\":{\"color\":\"#FFFFFF\"},\"showarrow\":false,\"text\":\"0\",\"x\":\"AO\",\"xref\":\"x\",\"y\":\"Ham\",\"yref\":\"y\"},{\"font\":{\"color\":\"#FFFFFF\"},\"showarrow\":false,\"text\":\"0\",\"x\":\"Sausage\",\"xref\":\"x\",\"y\":\"Ham\",\"yref\":\"y\"},{\"font\":{\"color\":\"#FFFFFF\"},\"showarrow\":false,\"text\":\"0\",\"x\":\"Seafood\",\"xref\":\"x\",\"y\":\"Ham\",\"yref\":\"y\"},{\"font\":{\"color\":\"#FFFFFF\"},\"showarrow\":false,\"text\":\"0\",\"x\":\"Fish\",\"xref\":\"x\",\"y\":\"Ham\",\"yref\":\"y\"},{\"font\":{\"color\":\"#FFFFFF\"},\"showarrow\":false,\"text\":\"0\",\"x\":\"Meatball\",\"xref\":\"x\",\"y\":\"Ham\",\"yref\":\"y\"},{\"font\":{\"color\":\"#FFFFFF\"},\"showarrow\":false,\"text\":\"0\",\"x\":\"Chicken\",\"xref\":\"x\",\"y\":\"Ham\",\"yref\":\"y\"},{\"font\":{\"color\":\"#FFFFFF\"},\"showarrow\":false,\"text\":\"0\",\"x\":\"Veggie\",\"xref\":\"x\",\"y\":\"Ham\",\"yref\":\"y\"},{\"font\":{\"color\":\"#FFFFFF\"},\"showarrow\":false,\"text\":\"0\",\"x\":\"Lamb\",\"xref\":\"x\",\"y\":\"Ham\",\"yref\":\"y\"},{\"font\":{\"color\":\"#FFFFFF\"},\"showarrow\":false,\"text\":\"1\",\"x\":\"Beef\",\"xref\":\"x\",\"y\":\"Ham\",\"yref\":\"y\"},{\"font\":{\"color\":\"#FFFFFF\"},\"showarrow\":false,\"text\":\"309\",\"x\":\"Ham\",\"xref\":\"x\",\"y\":\"Ham\",\"yref\":\"y\"},{\"font\":{\"color\":\"#FFFFFF\"},\"showarrow\":false,\"text\":\"0\",\"x\":\"Pepperoni\",\"xref\":\"x\",\"y\":\"Ham\",\"yref\":\"y\"},{\"font\":{\"color\":\"#FFFFFF\"},\"showarrow\":false,\"text\":\"0\",\"x\":\"Turkey\",\"xref\":\"x\",\"y\":\"Ham\",\"yref\":\"y\"},{\"font\":{\"color\":\"#FFFFFF\"},\"showarrow\":false,\"text\":\"0\",\"x\":\"Supplies\",\"xref\":\"x\",\"y\":\"Ham\",\"yref\":\"y\"},{\"font\":{\"color\":\"#FFFFFF\"},\"showarrow\":false,\"text\":\"0\",\"x\":\"Bacon\",\"xref\":\"x\",\"y\":\"Ham\",\"yref\":\"y\"},{\"font\":{\"color\":\"#FFFFFF\"},\"showarrow\":false,\"text\":\"0\",\"x\":\"Pork\",\"xref\":\"x\",\"y\":\"Ham\",\"yref\":\"y\"},{\"font\":{\"color\":\"#FFFFFF\"},\"showarrow\":false,\"text\":\"0\",\"x\":\"Egg\",\"xref\":\"x\",\"y\":\"Ham\",\"yref\":\"y\"},{\"font\":{\"color\":\"#FFFFFF\"},\"showarrow\":false,\"text\":\"0\",\"x\":\"Cheese\",\"xref\":\"x\",\"y\":\"Pepperoni\",\"yref\":\"y\"},{\"font\":{\"color\":\"#FFFFFF\"},\"showarrow\":false,\"text\":\"0\",\"x\":\"AO\",\"xref\":\"x\",\"y\":\"Pepperoni\",\"yref\":\"y\"},{\"font\":{\"color\":\"#FFFFFF\"},\"showarrow\":false,\"text\":\"1\",\"x\":\"Sausage\",\"xref\":\"x\",\"y\":\"Pepperoni\",\"yref\":\"y\"},{\"font\":{\"color\":\"#FFFFFF\"},\"showarrow\":false,\"text\":\"0\",\"x\":\"Seafood\",\"xref\":\"x\",\"y\":\"Pepperoni\",\"yref\":\"y\"},{\"font\":{\"color\":\"#FFFFFF\"},\"showarrow\":false,\"text\":\"0\",\"x\":\"Fish\",\"xref\":\"x\",\"y\":\"Pepperoni\",\"yref\":\"y\"},{\"font\":{\"color\":\"#FFFFFF\"},\"showarrow\":false,\"text\":\"0\",\"x\":\"Meatball\",\"xref\":\"x\",\"y\":\"Pepperoni\",\"yref\":\"y\"},{\"font\":{\"color\":\"#FFFFFF\"},\"showarrow\":false,\"text\":\"0\",\"x\":\"Chicken\",\"xref\":\"x\",\"y\":\"Pepperoni\",\"yref\":\"y\"},{\"font\":{\"color\":\"#FFFFFF\"},\"showarrow\":false,\"text\":\"0\",\"x\":\"Veggie\",\"xref\":\"x\",\"y\":\"Pepperoni\",\"yref\":\"y\"},{\"font\":{\"color\":\"#FFFFFF\"},\"showarrow\":false,\"text\":\"0\",\"x\":\"Lamb\",\"xref\":\"x\",\"y\":\"Pepperoni\",\"yref\":\"y\"},{\"font\":{\"color\":\"#FFFFFF\"},\"showarrow\":false,\"text\":\"0\",\"x\":\"Beef\",\"xref\":\"x\",\"y\":\"Pepperoni\",\"yref\":\"y\"},{\"font\":{\"color\":\"#FFFFFF\"},\"showarrow\":false,\"text\":\"0\",\"x\":\"Ham\",\"xref\":\"x\",\"y\":\"Pepperoni\",\"yref\":\"y\"},{\"font\":{\"color\":\"#FFFFFF\"},\"showarrow\":false,\"text\":\"40\",\"x\":\"Pepperoni\",\"xref\":\"x\",\"y\":\"Pepperoni\",\"yref\":\"y\"},{\"font\":{\"color\":\"#FFFFFF\"},\"showarrow\":false,\"text\":\"0\",\"x\":\"Turkey\",\"xref\":\"x\",\"y\":\"Pepperoni\",\"yref\":\"y\"},{\"font\":{\"color\":\"#FFFFFF\"},\"showarrow\":false,\"text\":\"0\",\"x\":\"Supplies\",\"xref\":\"x\",\"y\":\"Pepperoni\",\"yref\":\"y\"},{\"font\":{\"color\":\"#FFFFFF\"},\"showarrow\":false,\"text\":\"0\",\"x\":\"Bacon\",\"xref\":\"x\",\"y\":\"Pepperoni\",\"yref\":\"y\"},{\"font\":{\"color\":\"#FFFFFF\"},\"showarrow\":false,\"text\":\"0\",\"x\":\"Pork\",\"xref\":\"x\",\"y\":\"Pepperoni\",\"yref\":\"y\"},{\"font\":{\"color\":\"#FFFFFF\"},\"showarrow\":false,\"text\":\"0\",\"x\":\"Egg\",\"xref\":\"x\",\"y\":\"Pepperoni\",\"yref\":\"y\"},{\"font\":{\"color\":\"#FFFFFF\"},\"showarrow\":false,\"text\":\"0\",\"x\":\"Cheese\",\"xref\":\"x\",\"y\":\"Turkey\",\"yref\":\"y\"},{\"font\":{\"color\":\"#FFFFFF\"},\"showarrow\":false,\"text\":\"0\",\"x\":\"AO\",\"xref\":\"x\",\"y\":\"Turkey\",\"yref\":\"y\"},{\"font\":{\"color\":\"#FFFFFF\"},\"showarrow\":false,\"text\":\"0\",\"x\":\"Sausage\",\"xref\":\"x\",\"y\":\"Turkey\",\"yref\":\"y\"},{\"font\":{\"color\":\"#FFFFFF\"},\"showarrow\":false,\"text\":\"0\",\"x\":\"Seafood\",\"xref\":\"x\",\"y\":\"Turkey\",\"yref\":\"y\"},{\"font\":{\"color\":\"#FFFFFF\"},\"showarrow\":false,\"text\":\"0\",\"x\":\"Fish\",\"xref\":\"x\",\"y\":\"Turkey\",\"yref\":\"y\"},{\"font\":{\"color\":\"#FFFFFF\"},\"showarrow\":false,\"text\":\"0\",\"x\":\"Meatball\",\"xref\":\"x\",\"y\":\"Turkey\",\"yref\":\"y\"},{\"font\":{\"color\":\"#FFFFFF\"},\"showarrow\":false,\"text\":\"0\",\"x\":\"Chicken\",\"xref\":\"x\",\"y\":\"Turkey\",\"yref\":\"y\"},{\"font\":{\"color\":\"#FFFFFF\"},\"showarrow\":false,\"text\":\"0\",\"x\":\"Veggie\",\"xref\":\"x\",\"y\":\"Turkey\",\"yref\":\"y\"},{\"font\":{\"color\":\"#FFFFFF\"},\"showarrow\":false,\"text\":\"0\",\"x\":\"Lamb\",\"xref\":\"x\",\"y\":\"Turkey\",\"yref\":\"y\"},{\"font\":{\"color\":\"#FFFFFF\"},\"showarrow\":false,\"text\":\"1\",\"x\":\"Beef\",\"xref\":\"x\",\"y\":\"Turkey\",\"yref\":\"y\"},{\"font\":{\"color\":\"#FFFFFF\"},\"showarrow\":false,\"text\":\"0\",\"x\":\"Ham\",\"xref\":\"x\",\"y\":\"Turkey\",\"yref\":\"y\"},{\"font\":{\"color\":\"#FFFFFF\"},\"showarrow\":false,\"text\":\"0\",\"x\":\"Pepperoni\",\"xref\":\"x\",\"y\":\"Turkey\",\"yref\":\"y\"},{\"font\":{\"color\":\"#FFFFFF\"},\"showarrow\":false,\"text\":\"536\",\"x\":\"Turkey\",\"xref\":\"x\",\"y\":\"Turkey\",\"yref\":\"y\"},{\"font\":{\"color\":\"#FFFFFF\"},\"showarrow\":false,\"text\":\"0\",\"x\":\"Supplies\",\"xref\":\"x\",\"y\":\"Turkey\",\"yref\":\"y\"},{\"font\":{\"color\":\"#FFFFFF\"},\"showarrow\":false,\"text\":\"0\",\"x\":\"Bacon\",\"xref\":\"x\",\"y\":\"Turkey\",\"yref\":\"y\"},{\"font\":{\"color\":\"#FFFFFF\"},\"showarrow\":false,\"text\":\"0\",\"x\":\"Pork\",\"xref\":\"x\",\"y\":\"Turkey\",\"yref\":\"y\"},{\"font\":{\"color\":\"#FFFFFF\"},\"showarrow\":false,\"text\":\"0\",\"x\":\"Egg\",\"xref\":\"x\",\"y\":\"Turkey\",\"yref\":\"y\"},{\"font\":{\"color\":\"#FFFFFF\"},\"showarrow\":false,\"text\":\"0\",\"x\":\"Cheese\",\"xref\":\"x\",\"y\":\"Supplies\",\"yref\":\"y\"},{\"font\":{\"color\":\"#FFFFFF\"},\"showarrow\":false,\"text\":\"81\",\"x\":\"AO\",\"xref\":\"x\",\"y\":\"Supplies\",\"yref\":\"y\"},{\"font\":{\"color\":\"#FFFFFF\"},\"showarrow\":false,\"text\":\"0\",\"x\":\"Sausage\",\"xref\":\"x\",\"y\":\"Supplies\",\"yref\":\"y\"},{\"font\":{\"color\":\"#FFFFFF\"},\"showarrow\":false,\"text\":\"2\",\"x\":\"Seafood\",\"xref\":\"x\",\"y\":\"Supplies\",\"yref\":\"y\"},{\"font\":{\"color\":\"#FFFFFF\"},\"showarrow\":false,\"text\":\"0\",\"x\":\"Fish\",\"xref\":\"x\",\"y\":\"Supplies\",\"yref\":\"y\"},{\"font\":{\"color\":\"#FFFFFF\"},\"showarrow\":false,\"text\":\"0\",\"x\":\"Meatball\",\"xref\":\"x\",\"y\":\"Supplies\",\"yref\":\"y\"},{\"font\":{\"color\":\"#FFFFFF\"},\"showarrow\":false,\"text\":\"0\",\"x\":\"Chicken\",\"xref\":\"x\",\"y\":\"Supplies\",\"yref\":\"y\"},{\"font\":{\"color\":\"#FFFFFF\"},\"showarrow\":false,\"text\":\"1\",\"x\":\"Veggie\",\"xref\":\"x\",\"y\":\"Supplies\",\"yref\":\"y\"},{\"font\":{\"color\":\"#FFFFFF\"},\"showarrow\":false,\"text\":\"0\",\"x\":\"Lamb\",\"xref\":\"x\",\"y\":\"Supplies\",\"yref\":\"y\"},{\"font\":{\"color\":\"#FFFFFF\"},\"showarrow\":false,\"text\":\"0\",\"x\":\"Beef\",\"xref\":\"x\",\"y\":\"Supplies\",\"yref\":\"y\"},{\"font\":{\"color\":\"#FFFFFF\"},\"showarrow\":false,\"text\":\"0\",\"x\":\"Ham\",\"xref\":\"x\",\"y\":\"Supplies\",\"yref\":\"y\"},{\"font\":{\"color\":\"#FFFFFF\"},\"showarrow\":false,\"text\":\"0\",\"x\":\"Pepperoni\",\"xref\":\"x\",\"y\":\"Supplies\",\"yref\":\"y\"},{\"font\":{\"color\":\"#FFFFFF\"},\"showarrow\":false,\"text\":\"0\",\"x\":\"Turkey\",\"xref\":\"x\",\"y\":\"Supplies\",\"yref\":\"y\"},{\"font\":{\"color\":\"#FFFFFF\"},\"showarrow\":false,\"text\":\"321\",\"x\":\"Supplies\",\"xref\":\"x\",\"y\":\"Supplies\",\"yref\":\"y\"},{\"font\":{\"color\":\"#FFFFFF\"},\"showarrow\":false,\"text\":\"0\",\"x\":\"Bacon\",\"xref\":\"x\",\"y\":\"Supplies\",\"yref\":\"y\"},{\"font\":{\"color\":\"#FFFFFF\"},\"showarrow\":false,\"text\":\"0\",\"x\":\"Pork\",\"xref\":\"x\",\"y\":\"Supplies\",\"yref\":\"y\"},{\"font\":{\"color\":\"#FFFFFF\"},\"showarrow\":false,\"text\":\"0\",\"x\":\"Egg\",\"xref\":\"x\",\"y\":\"Supplies\",\"yref\":\"y\"},{\"font\":{\"color\":\"#FFFFFF\"},\"showarrow\":false,\"text\":\"2\",\"x\":\"Cheese\",\"xref\":\"x\",\"y\":\"Bacon\",\"yref\":\"y\"},{\"font\":{\"color\":\"#FFFFFF\"},\"showarrow\":false,\"text\":\"0\",\"x\":\"AO\",\"xref\":\"x\",\"y\":\"Bacon\",\"yref\":\"y\"},{\"font\":{\"color\":\"#FFFFFF\"},\"showarrow\":false,\"text\":\"0\",\"x\":\"Sausage\",\"xref\":\"x\",\"y\":\"Bacon\",\"yref\":\"y\"},{\"font\":{\"color\":\"#FFFFFF\"},\"showarrow\":false,\"text\":\"1\",\"x\":\"Seafood\",\"xref\":\"x\",\"y\":\"Bacon\",\"yref\":\"y\"},{\"font\":{\"color\":\"#FFFFFF\"},\"showarrow\":false,\"text\":\"0\",\"x\":\"Fish\",\"xref\":\"x\",\"y\":\"Bacon\",\"yref\":\"y\"},{\"font\":{\"color\":\"#FFFFFF\"},\"showarrow\":false,\"text\":\"0\",\"x\":\"Meatball\",\"xref\":\"x\",\"y\":\"Bacon\",\"yref\":\"y\"},{\"font\":{\"color\":\"#FFFFFF\"},\"showarrow\":false,\"text\":\"0\",\"x\":\"Chicken\",\"xref\":\"x\",\"y\":\"Bacon\",\"yref\":\"y\"},{\"font\":{\"color\":\"#FFFFFF\"},\"showarrow\":false,\"text\":\"0\",\"x\":\"Veggie\",\"xref\":\"x\",\"y\":\"Bacon\",\"yref\":\"y\"},{\"font\":{\"color\":\"#FFFFFF\"},\"showarrow\":false,\"text\":\"0\",\"x\":\"Lamb\",\"xref\":\"x\",\"y\":\"Bacon\",\"yref\":\"y\"},{\"font\":{\"color\":\"#FFFFFF\"},\"showarrow\":false,\"text\":\"1\",\"x\":\"Beef\",\"xref\":\"x\",\"y\":\"Bacon\",\"yref\":\"y\"},{\"font\":{\"color\":\"#FFFFFF\"},\"showarrow\":false,\"text\":\"0\",\"x\":\"Ham\",\"xref\":\"x\",\"y\":\"Bacon\",\"yref\":\"y\"},{\"font\":{\"color\":\"#FFFFFF\"},\"showarrow\":false,\"text\":\"0\",\"x\":\"Pepperoni\",\"xref\":\"x\",\"y\":\"Bacon\",\"yref\":\"y\"},{\"font\":{\"color\":\"#FFFFFF\"},\"showarrow\":false,\"text\":\"0\",\"x\":\"Turkey\",\"xref\":\"x\",\"y\":\"Bacon\",\"yref\":\"y\"},{\"font\":{\"color\":\"#FFFFFF\"},\"showarrow\":false,\"text\":\"0\",\"x\":\"Supplies\",\"xref\":\"x\",\"y\":\"Bacon\",\"yref\":\"y\"},{\"font\":{\"color\":\"#FFFFFF\"},\"showarrow\":false,\"text\":\"47\",\"x\":\"Bacon\",\"xref\":\"x\",\"y\":\"Bacon\",\"yref\":\"y\"},{\"font\":{\"color\":\"#FFFFFF\"},\"showarrow\":false,\"text\":\"0\",\"x\":\"Pork\",\"xref\":\"x\",\"y\":\"Bacon\",\"yref\":\"y\"},{\"font\":{\"color\":\"#FFFFFF\"},\"showarrow\":false,\"text\":\"0\",\"x\":\"Egg\",\"xref\":\"x\",\"y\":\"Bacon\",\"yref\":\"y\"},{\"font\":{\"color\":\"#FFFFFF\"},\"showarrow\":false,\"text\":\"0\",\"x\":\"Cheese\",\"xref\":\"x\",\"y\":\"Pork\",\"yref\":\"y\"},{\"font\":{\"color\":\"#FFFFFF\"},\"showarrow\":false,\"text\":\"2\",\"x\":\"AO\",\"xref\":\"x\",\"y\":\"Pork\",\"yref\":\"y\"},{\"font\":{\"color\":\"#FFFFFF\"},\"showarrow\":false,\"text\":\"0\",\"x\":\"Sausage\",\"xref\":\"x\",\"y\":\"Pork\",\"yref\":\"y\"},{\"font\":{\"color\":\"#FFFFFF\"},\"showarrow\":false,\"text\":\"0\",\"x\":\"Seafood\",\"xref\":\"x\",\"y\":\"Pork\",\"yref\":\"y\"},{\"font\":{\"color\":\"#FFFFFF\"},\"showarrow\":false,\"text\":\"0\",\"x\":\"Fish\",\"xref\":\"x\",\"y\":\"Pork\",\"yref\":\"y\"},{\"font\":{\"color\":\"#FFFFFF\"},\"showarrow\":false,\"text\":\"0\",\"x\":\"Meatball\",\"xref\":\"x\",\"y\":\"Pork\",\"yref\":\"y\"},{\"font\":{\"color\":\"#FFFFFF\"},\"showarrow\":false,\"text\":\"0\",\"x\":\"Chicken\",\"xref\":\"x\",\"y\":\"Pork\",\"yref\":\"y\"},{\"font\":{\"color\":\"#FFFFFF\"},\"showarrow\":false,\"text\":\"0\",\"x\":\"Veggie\",\"xref\":\"x\",\"y\":\"Pork\",\"yref\":\"y\"},{\"font\":{\"color\":\"#FFFFFF\"},\"showarrow\":false,\"text\":\"0\",\"x\":\"Lamb\",\"xref\":\"x\",\"y\":\"Pork\",\"yref\":\"y\"},{\"font\":{\"color\":\"#FFFFFF\"},\"showarrow\":false,\"text\":\"2\",\"x\":\"Beef\",\"xref\":\"x\",\"y\":\"Pork\",\"yref\":\"y\"},{\"font\":{\"color\":\"#FFFFFF\"},\"showarrow\":false,\"text\":\"0\",\"x\":\"Ham\",\"xref\":\"x\",\"y\":\"Pork\",\"yref\":\"y\"},{\"font\":{\"color\":\"#FFFFFF\"},\"showarrow\":false,\"text\":\"0\",\"x\":\"Pepperoni\",\"xref\":\"x\",\"y\":\"Pork\",\"yref\":\"y\"},{\"font\":{\"color\":\"#FFFFFF\"},\"showarrow\":false,\"text\":\"0\",\"x\":\"Turkey\",\"xref\":\"x\",\"y\":\"Pork\",\"yref\":\"y\"},{\"font\":{\"color\":\"#FFFFFF\"},\"showarrow\":false,\"text\":\"0\",\"x\":\"Supplies\",\"xref\":\"x\",\"y\":\"Pork\",\"yref\":\"y\"},{\"font\":{\"color\":\"#FFFFFF\"},\"showarrow\":false,\"text\":\"0\",\"x\":\"Bacon\",\"xref\":\"x\",\"y\":\"Pork\",\"yref\":\"y\"},{\"font\":{\"color\":\"#FFFFFF\"},\"showarrow\":false,\"text\":\"167\",\"x\":\"Pork\",\"xref\":\"x\",\"y\":\"Pork\",\"yref\":\"y\"},{\"font\":{\"color\":\"#FFFFFF\"},\"showarrow\":false,\"text\":\"0\",\"x\":\"Egg\",\"xref\":\"x\",\"y\":\"Pork\",\"yref\":\"y\"},{\"font\":{\"color\":\"#FFFFFF\"},\"showarrow\":false,\"text\":\"0\",\"x\":\"Cheese\",\"xref\":\"x\",\"y\":\"Egg\",\"yref\":\"y\"},{\"font\":{\"color\":\"#FFFFFF\"},\"showarrow\":false,\"text\":\"3\",\"x\":\"AO\",\"xref\":\"x\",\"y\":\"Egg\",\"yref\":\"y\"},{\"font\":{\"color\":\"#FFFFFF\"},\"showarrow\":false,\"text\":\"0\",\"x\":\"Sausage\",\"xref\":\"x\",\"y\":\"Egg\",\"yref\":\"y\"},{\"font\":{\"color\":\"#FFFFFF\"},\"showarrow\":false,\"text\":\"0\",\"x\":\"Seafood\",\"xref\":\"x\",\"y\":\"Egg\",\"yref\":\"y\"},{\"font\":{\"color\":\"#FFFFFF\"},\"showarrow\":false,\"text\":\"0\",\"x\":\"Fish\",\"xref\":\"x\",\"y\":\"Egg\",\"yref\":\"y\"},{\"font\":{\"color\":\"#FFFFFF\"},\"showarrow\":false,\"text\":\"0\",\"x\":\"Meatball\",\"xref\":\"x\",\"y\":\"Egg\",\"yref\":\"y\"},{\"font\":{\"color\":\"#FFFFFF\"},\"showarrow\":false,\"text\":\"0\",\"x\":\"Chicken\",\"xref\":\"x\",\"y\":\"Egg\",\"yref\":\"y\"},{\"font\":{\"color\":\"#FFFFFF\"},\"showarrow\":false,\"text\":\"0\",\"x\":\"Veggie\",\"xref\":\"x\",\"y\":\"Egg\",\"yref\":\"y\"},{\"font\":{\"color\":\"#FFFFFF\"},\"showarrow\":false,\"text\":\"0\",\"x\":\"Lamb\",\"xref\":\"x\",\"y\":\"Egg\",\"yref\":\"y\"},{\"font\":{\"color\":\"#FFFFFF\"},\"showarrow\":false,\"text\":\"0\",\"x\":\"Beef\",\"xref\":\"x\",\"y\":\"Egg\",\"yref\":\"y\"},{\"font\":{\"color\":\"#FFFFFF\"},\"showarrow\":false,\"text\":\"0\",\"x\":\"Ham\",\"xref\":\"x\",\"y\":\"Egg\",\"yref\":\"y\"},{\"font\":{\"color\":\"#FFFFFF\"},\"showarrow\":false,\"text\":\"0\",\"x\":\"Pepperoni\",\"xref\":\"x\",\"y\":\"Egg\",\"yref\":\"y\"},{\"font\":{\"color\":\"#FFFFFF\"},\"showarrow\":false,\"text\":\"0\",\"x\":\"Turkey\",\"xref\":\"x\",\"y\":\"Egg\",\"yref\":\"y\"},{\"font\":{\"color\":\"#FFFFFF\"},\"showarrow\":false,\"text\":\"0\",\"x\":\"Supplies\",\"xref\":\"x\",\"y\":\"Egg\",\"yref\":\"y\"},{\"font\":{\"color\":\"#FFFFFF\"},\"showarrow\":false,\"text\":\"0\",\"x\":\"Bacon\",\"xref\":\"x\",\"y\":\"Egg\",\"yref\":\"y\"},{\"font\":{\"color\":\"#FFFFFF\"},\"showarrow\":false,\"text\":\"0\",\"x\":\"Pork\",\"xref\":\"x\",\"y\":\"Egg\",\"yref\":\"y\"},{\"font\":{\"color\":\"#FFFFFF\"},\"showarrow\":false,\"text\":\"42\",\"x\":\"Egg\",\"xref\":\"x\",\"y\":\"Egg\",\"yref\":\"y\"}],\"xaxis\":{\"dtick\":1,\"gridcolor\":\"rgb(0, 0, 0)\",\"side\":\"top\",\"ticks\":\"\",\"categoryorder\":\"category ascending\"},\"yaxis\":{\"dtick\":1,\"ticks\":\"\",\"ticksuffix\":\"  \",\"categoryorder\":\"category descending\"},\"template\":{\"data\":{\"histogram2dcontour\":[{\"type\":\"histogram2dcontour\",\"colorbar\":{\"outlinewidth\":0,\"ticks\":\"\"},\"colorscale\":[[0.0,\"#0d0887\"],[0.1111111111111111,\"#46039f\"],[0.2222222222222222,\"#7201a8\"],[0.3333333333333333,\"#9c179e\"],[0.4444444444444444,\"#bd3786\"],[0.5555555555555556,\"#d8576b\"],[0.6666666666666666,\"#ed7953\"],[0.7777777777777778,\"#fb9f3a\"],[0.8888888888888888,\"#fdca26\"],[1.0,\"#f0f921\"]]}],\"choropleth\":[{\"type\":\"choropleth\",\"colorbar\":{\"outlinewidth\":0,\"ticks\":\"\"}}],\"histogram2d\":[{\"type\":\"histogram2d\",\"colorbar\":{\"outlinewidth\":0,\"ticks\":\"\"},\"colorscale\":[[0.0,\"#0d0887\"],[0.1111111111111111,\"#46039f\"],[0.2222222222222222,\"#7201a8\"],[0.3333333333333333,\"#9c179e\"],[0.4444444444444444,\"#bd3786\"],[0.5555555555555556,\"#d8576b\"],[0.6666666666666666,\"#ed7953\"],[0.7777777777777778,\"#fb9f3a\"],[0.8888888888888888,\"#fdca26\"],[1.0,\"#f0f921\"]]}],\"heatmap\":[{\"type\":\"heatmap\",\"colorbar\":{\"outlinewidth\":0,\"ticks\":\"\"},\"colorscale\":[[0.0,\"#0d0887\"],[0.1111111111111111,\"#46039f\"],[0.2222222222222222,\"#7201a8\"],[0.3333333333333333,\"#9c179e\"],[0.4444444444444444,\"#bd3786\"],[0.5555555555555556,\"#d8576b\"],[0.6666666666666666,\"#ed7953\"],[0.7777777777777778,\"#fb9f3a\"],[0.8888888888888888,\"#fdca26\"],[1.0,\"#f0f921\"]]}],\"heatmapgl\":[{\"type\":\"heatmapgl\",\"colorbar\":{\"outlinewidth\":0,\"ticks\":\"\"},\"colorscale\":[[0.0,\"#0d0887\"],[0.1111111111111111,\"#46039f\"],[0.2222222222222222,\"#7201a8\"],[0.3333333333333333,\"#9c179e\"],[0.4444444444444444,\"#bd3786\"],[0.5555555555555556,\"#d8576b\"],[0.6666666666666666,\"#ed7953\"],[0.7777777777777778,\"#fb9f3a\"],[0.8888888888888888,\"#fdca26\"],[1.0,\"#f0f921\"]]}],\"contourcarpet\":[{\"type\":\"contourcarpet\",\"colorbar\":{\"outlinewidth\":0,\"ticks\":\"\"}}],\"contour\":[{\"type\":\"contour\",\"colorbar\":{\"outlinewidth\":0,\"ticks\":\"\"},\"colorscale\":[[0.0,\"#0d0887\"],[0.1111111111111111,\"#46039f\"],[0.2222222222222222,\"#7201a8\"],[0.3333333333333333,\"#9c179e\"],[0.4444444444444444,\"#bd3786\"],[0.5555555555555556,\"#d8576b\"],[0.6666666666666666,\"#ed7953\"],[0.7777777777777778,\"#fb9f3a\"],[0.8888888888888888,\"#fdca26\"],[1.0,\"#f0f921\"]]}],\"surface\":[{\"type\":\"surface\",\"colorbar\":{\"outlinewidth\":0,\"ticks\":\"\"},\"colorscale\":[[0.0,\"#0d0887\"],[0.1111111111111111,\"#46039f\"],[0.2222222222222222,\"#7201a8\"],[0.3333333333333333,\"#9c179e\"],[0.4444444444444444,\"#bd3786\"],[0.5555555555555556,\"#d8576b\"],[0.6666666666666666,\"#ed7953\"],[0.7777777777777778,\"#fb9f3a\"],[0.8888888888888888,\"#fdca26\"],[1.0,\"#f0f921\"]]}],\"mesh3d\":[{\"type\":\"mesh3d\",\"colorbar\":{\"outlinewidth\":0,\"ticks\":\"\"}}],\"scatter\":[{\"fillpattern\":{\"fillmode\":\"overlay\",\"size\":10,\"solidity\":0.2},\"type\":\"scatter\"}],\"parcoords\":[{\"type\":\"parcoords\",\"line\":{\"colorbar\":{\"outlinewidth\":0,\"ticks\":\"\"}}}],\"scatterpolargl\":[{\"type\":\"scatterpolargl\",\"marker\":{\"colorbar\":{\"outlinewidth\":0,\"ticks\":\"\"}}}],\"bar\":[{\"error_x\":{\"color\":\"#2a3f5f\"},\"error_y\":{\"color\":\"#2a3f5f\"},\"marker\":{\"line\":{\"color\":\"#E5ECF6\",\"width\":0.5},\"pattern\":{\"fillmode\":\"overlay\",\"size\":10,\"solidity\":0.2}},\"type\":\"bar\"}],\"scattergeo\":[{\"type\":\"scattergeo\",\"marker\":{\"colorbar\":{\"outlinewidth\":0,\"ticks\":\"\"}}}],\"scatterpolar\":[{\"type\":\"scatterpolar\",\"marker\":{\"colorbar\":{\"outlinewidth\":0,\"ticks\":\"\"}}}],\"histogram\":[{\"marker\":{\"pattern\":{\"fillmode\":\"overlay\",\"size\":10,\"solidity\":0.2}},\"type\":\"histogram\"}],\"scattergl\":[{\"type\":\"scattergl\",\"marker\":{\"colorbar\":{\"outlinewidth\":0,\"ticks\":\"\"}}}],\"scatter3d\":[{\"type\":\"scatter3d\",\"line\":{\"colorbar\":{\"outlinewidth\":0,\"ticks\":\"\"}},\"marker\":{\"colorbar\":{\"outlinewidth\":0,\"ticks\":\"\"}}}],\"scattermapbox\":[{\"type\":\"scattermapbox\",\"marker\":{\"colorbar\":{\"outlinewidth\":0,\"ticks\":\"\"}}}],\"scatterternary\":[{\"type\":\"scatterternary\",\"marker\":{\"colorbar\":{\"outlinewidth\":0,\"ticks\":\"\"}}}],\"scattercarpet\":[{\"type\":\"scattercarpet\",\"marker\":{\"colorbar\":{\"outlinewidth\":0,\"ticks\":\"\"}}}],\"carpet\":[{\"aaxis\":{\"endlinecolor\":\"#2a3f5f\",\"gridcolor\":\"white\",\"linecolor\":\"white\",\"minorgridcolor\":\"white\",\"startlinecolor\":\"#2a3f5f\"},\"baxis\":{\"endlinecolor\":\"#2a3f5f\",\"gridcolor\":\"white\",\"linecolor\":\"white\",\"minorgridcolor\":\"white\",\"startlinecolor\":\"#2a3f5f\"},\"type\":\"carpet\"}],\"table\":[{\"cells\":{\"fill\":{\"color\":\"#EBF0F8\"},\"line\":{\"color\":\"white\"}},\"header\":{\"fill\":{\"color\":\"#C8D4E3\"},\"line\":{\"color\":\"white\"}},\"type\":\"table\"}],\"barpolar\":[{\"marker\":{\"line\":{\"color\":\"#E5ECF6\",\"width\":0.5},\"pattern\":{\"fillmode\":\"overlay\",\"size\":10,\"solidity\":0.2}},\"type\":\"barpolar\"}],\"pie\":[{\"automargin\":true,\"type\":\"pie\"}]},\"layout\":{\"autotypenumbers\":\"strict\",\"colorway\":[\"#636efa\",\"#EF553B\",\"#00cc96\",\"#ab63fa\",\"#FFA15A\",\"#19d3f3\",\"#FF6692\",\"#B6E880\",\"#FF97FF\",\"#FECB52\"],\"font\":{\"color\":\"#2a3f5f\"},\"hovermode\":\"closest\",\"hoverlabel\":{\"align\":\"left\"},\"paper_bgcolor\":\"white\",\"plot_bgcolor\":\"#E5ECF6\",\"polar\":{\"bgcolor\":\"#E5ECF6\",\"angularaxis\":{\"gridcolor\":\"white\",\"linecolor\":\"white\",\"ticks\":\"\"},\"radialaxis\":{\"gridcolor\":\"white\",\"linecolor\":\"white\",\"ticks\":\"\"}},\"ternary\":{\"bgcolor\":\"#E5ECF6\",\"aaxis\":{\"gridcolor\":\"white\",\"linecolor\":\"white\",\"ticks\":\"\"},\"baxis\":{\"gridcolor\":\"white\",\"linecolor\":\"white\",\"ticks\":\"\"},\"caxis\":{\"gridcolor\":\"white\",\"linecolor\":\"white\",\"ticks\":\"\"}},\"coloraxis\":{\"colorbar\":{\"outlinewidth\":0,\"ticks\":\"\"}},\"colorscale\":{\"sequential\":[[0.0,\"#0d0887\"],[0.1111111111111111,\"#46039f\"],[0.2222222222222222,\"#7201a8\"],[0.3333333333333333,\"#9c179e\"],[0.4444444444444444,\"#bd3786\"],[0.5555555555555556,\"#d8576b\"],[0.6666666666666666,\"#ed7953\"],[0.7777777777777778,\"#fb9f3a\"],[0.8888888888888888,\"#fdca26\"],[1.0,\"#f0f921\"]],\"sequentialminus\":[[0.0,\"#0d0887\"],[0.1111111111111111,\"#46039f\"],[0.2222222222222222,\"#7201a8\"],[0.3333333333333333,\"#9c179e\"],[0.4444444444444444,\"#bd3786\"],[0.5555555555555556,\"#d8576b\"],[0.6666666666666666,\"#ed7953\"],[0.7777777777777778,\"#fb9f3a\"],[0.8888888888888888,\"#fdca26\"],[1.0,\"#f0f921\"]],\"diverging\":[[0,\"#8e0152\"],[0.1,\"#c51b7d\"],[0.2,\"#de77ae\"],[0.3,\"#f1b6da\"],[0.4,\"#fde0ef\"],[0.5,\"#f7f7f7\"],[0.6,\"#e6f5d0\"],[0.7,\"#b8e186\"],[0.8,\"#7fbc41\"],[0.9,\"#4d9221\"],[1,\"#276419\"]]},\"xaxis\":{\"gridcolor\":\"white\",\"linecolor\":\"white\",\"ticks\":\"\",\"title\":{\"standoff\":15},\"zerolinecolor\":\"white\",\"automargin\":true,\"zerolinewidth\":2},\"yaxis\":{\"gridcolor\":\"white\",\"linecolor\":\"white\",\"ticks\":\"\",\"title\":{\"standoff\":15},\"zerolinecolor\":\"white\",\"automargin\":true,\"zerolinewidth\":2},\"scene\":{\"xaxis\":{\"backgroundcolor\":\"#E5ECF6\",\"gridcolor\":\"white\",\"linecolor\":\"white\",\"showbackground\":true,\"ticks\":\"\",\"zerolinecolor\":\"white\",\"gridwidth\":2},\"yaxis\":{\"backgroundcolor\":\"#E5ECF6\",\"gridcolor\":\"white\",\"linecolor\":\"white\",\"showbackground\":true,\"ticks\":\"\",\"zerolinecolor\":\"white\",\"gridwidth\":2},\"zaxis\":{\"backgroundcolor\":\"#E5ECF6\",\"gridcolor\":\"white\",\"linecolor\":\"white\",\"showbackground\":true,\"ticks\":\"\",\"zerolinecolor\":\"white\",\"gridwidth\":2}},\"shapedefaults\":{\"line\":{\"color\":\"#2a3f5f\"}},\"annotationdefaults\":{\"arrowcolor\":\"#2a3f5f\",\"arrowhead\":0,\"arrowwidth\":1},\"geo\":{\"bgcolor\":\"white\",\"landcolor\":\"#E5ECF6\",\"subunitcolor\":\"white\",\"showland\":true,\"showlakes\":true,\"lakecolor\":\"white\"},\"title\":{\"x\":0.05},\"mapbox\":{\"style\":\"light\"}}}},                        {\"responsive\": true}                    ).then(function(){\n",
       "                            \n",
       "var gd = document.getElementById('da9ecddb-6ca8-429f-adf3-fdce07e78d59');\n",
       "var x = new MutationObserver(function (mutations, observer) {{\n",
       "        var display = window.getComputedStyle(gd).display;\n",
       "        if (!display || display === 'none') {{\n",
       "            console.log([gd, 'removed!']);\n",
       "            Plotly.purge(gd);\n",
       "            observer.disconnect();\n",
       "        }}\n",
       "}});\n",
       "\n",
       "// Listen for the removal of the full notebook cells\n",
       "var notebookContainer = gd.closest('#notebook-container');\n",
       "if (notebookContainer) {{\n",
       "    x.observe(notebookContainer, {childList: true});\n",
       "}}\n",
       "\n",
       "// Listen for the clearing of the current output cell\n",
       "var outputEl = gd.closest('.output');\n",
       "if (outputEl) {{\n",
       "    x.observe(outputEl, {childList: true});\n",
       "}}\n",
       "\n",
       "                        })                };                });            </script>        </div>"
      ]
     },
     "metadata": {},
     "output_type": "display_data"
    }
   ],
   "source": [
    "labels = list(test_results['label'].unique())\n",
    "confusion_matrix = confusion_matrix(test_results['label'],test_results['prediction'], labels= labels)\n",
    "\n",
    "fig = ff.create_annotated_heatmap(confusion_matrix)\n",
    "fig = ff.create_annotated_heatmap(confusion_matrix, x=labels, y=labels)\n",
    "\n",
    "fig.update_layout(yaxis = dict(categoryorder = 'category descending'))\n",
    "fig.update_layout(xaxis = dict(categoryorder = 'category ascending'))\n",
    "fig.show()\n",
    "\n",
    "# Multiclass confusion matrix plot\n",
    "# Note: horizontal is predicted class, vertical is true class"
   ]
  },
  {
   "cell_type": "code",
   "execution_count": 109,
   "id": "c0dc558b",
   "metadata": {},
   "outputs": [
    {
     "data": {
      "application/vnd.plotly.v1+json": {
       "config": {
        "plotlyServerURL": "https://plot.ly"
       },
       "data": [
        {
         "hovertemplate": "variable=Cheese<br>index=%{x}<br>value=%{y}<extra></extra>",
         "legendgroup": "Cheese",
         "line": {
          "color": "#636efa",
          "dash": "solid"
         },
         "marker": {
          "symbol": "circle"
         },
         "mode": "lines",
         "name": "Cheese",
         "orientation": "v",
         "showlegend": true,
         "type": "scatter",
         "x": [
          0,
          1,
          2,
          3,
          4,
          5,
          6
         ],
         "xaxis": "x",
         "y": [
          0.9691780821917807,
          0.9738058551617874,
          0.9679595278246207,
          0.9679595278246207,
          0.9679595278246207,
          0.9679595278246207,
          0.9679595278246207
         ],
         "yaxis": "y"
        },
        {
         "hovertemplate": "variable=AO<br>index=%{x}<br>value=%{y}<extra></extra>",
         "legendgroup": "AO",
         "line": {
          "color": "#EF553B",
          "dash": "solid"
         },
         "marker": {
          "symbol": "circle"
         },
         "mode": "lines",
         "name": "AO",
         "orientation": "v",
         "showlegend": true,
         "type": "scatter",
         "x": [
          0,
          1,
          2,
          3,
          4,
          5,
          6
         ],
         "xaxis": "x",
         "y": [
          0.9600489196901755,
          0.9676156583629894,
          0.9505985963946608,
          0.9505985963946608,
          0.9505985963946608,
          0.9505985963946608,
          0.9505985963946608
         ],
         "yaxis": "y"
        },
        {
         "hovertemplate": "variable=Sausage<br>index=%{x}<br>value=%{y}<extra></extra>",
         "legendgroup": "Sausage",
         "line": {
          "color": "#00cc96",
          "dash": "solid"
         },
         "marker": {
          "symbol": "circle"
         },
         "mode": "lines",
         "name": "Sausage",
         "orientation": "v",
         "showlegend": true,
         "type": "scatter",
         "x": [
          0,
          1,
          2,
          3,
          4,
          5,
          6
         ],
         "xaxis": "x",
         "y": [
          0.9794520547945206,
          0.9806451612903225,
          0.9733333333333333,
          0.9733333333333333,
          0.9733333333333333,
          0.9733333333333333,
          0.9733333333333333
         ],
         "yaxis": "y"
        },
        {
         "hovertemplate": "variable=Seafood<br>index=%{x}<br>value=%{y}<extra></extra>",
         "legendgroup": "Seafood",
         "line": {
          "color": "#ab63fa",
          "dash": "solid"
         },
         "marker": {
          "symbol": "circle"
         },
         "mode": "lines",
         "name": "Seafood",
         "orientation": "v",
         "showlegend": true,
         "type": "scatter",
         "x": [
          0,
          1,
          2,
          3,
          4,
          5,
          6
         ],
         "xaxis": "x",
         "y": [
          0.9573033707865168,
          0.9693251533742331,
          0.949748743718593,
          0.949748743718593,
          0.949748743718593,
          0.949748743718593,
          0.949748743718593
         ],
         "yaxis": "y"
        },
        {
         "hovertemplate": "variable=Fish<br>index=%{x}<br>value=%{y}<extra></extra>",
         "legendgroup": "Fish",
         "line": {
          "color": "#FFA15A",
          "dash": "solid"
         },
         "marker": {
          "symbol": "circle"
         },
         "mode": "lines",
         "name": "Fish",
         "orientation": "v",
         "showlegend": true,
         "type": "scatter",
         "x": [
          0,
          1,
          2,
          3,
          4,
          5,
          6
         ],
         "xaxis": "x",
         "y": [
          0.9781477627471383,
          0.9834146341463414,
          0.9787234042553192,
          0.9787234042553192,
          0.9787234042553192,
          0.9787234042553192,
          0.9787234042553192
         ],
         "yaxis": "y"
        },
        {
         "hovertemplate": "variable=Meatball<br>index=%{x}<br>value=%{y}<extra></extra>",
         "legendgroup": "Meatball",
         "line": {
          "color": "#19d3f3",
          "dash": "solid"
         },
         "marker": {
          "symbol": "circle"
         },
         "mode": "lines",
         "name": "Meatball",
         "orientation": "v",
         "showlegend": true,
         "type": "scatter",
         "x": [
          0,
          1,
          2,
          3,
          4,
          5,
          6
         ],
         "xaxis": "x",
         "y": [
          0.9642857142857143,
          0.9913043478260869,
          0.98989898989899,
          0.98989898989899,
          0.98989898989899,
          0.98989898989899,
          0.98989898989899
         ],
         "yaxis": "y"
        },
        {
         "hovertemplate": "variable=Chicken<br>index=%{x}<br>value=%{y}<extra></extra>",
         "legendgroup": "Chicken",
         "line": {
          "color": "#FF6692",
          "dash": "solid"
         },
         "marker": {
          "symbol": "circle"
         },
         "mode": "lines",
         "name": "Chicken",
         "orientation": "v",
         "showlegend": true,
         "type": "scatter",
         "x": [
          0,
          1,
          2,
          3,
          4,
          5,
          6
         ],
         "xaxis": "x",
         "y": [
          0.995897759545598,
          0.994778785380599,
          0.9907502569373073,
          0.9907502569373073,
          0.9907502569373073,
          0.9907502569373073,
          0.9907502569373073
         ],
         "yaxis": "y"
        },
        {
         "hovertemplate": "variable=Veggie<br>index=%{x}<br>value=%{y}<extra></extra>",
         "legendgroup": "Veggie",
         "line": {
          "color": "#B6E880",
          "dash": "solid"
         },
         "marker": {
          "symbol": "circle"
         },
         "mode": "lines",
         "name": "Veggie",
         "orientation": "v",
         "showlegend": true,
         "type": "scatter",
         "x": [
          0,
          1,
          2,
          3,
          4,
          5,
          6
         ],
         "xaxis": "x",
         "y": [
          0.951345163136806,
          0.95995995995996,
          0.9458288190682557,
          0.9458288190682557,
          0.9458288190682557,
          0.9458288190682557,
          0.9458288190682557
         ],
         "yaxis": "y"
        },
        {
         "hovertemplate": "variable=Lamb<br>index=%{x}<br>value=%{y}<extra></extra>",
         "legendgroup": "Lamb",
         "line": {
          "color": "#FF97FF",
          "dash": "solid"
         },
         "marker": {
          "symbol": "circle"
         },
         "mode": "lines",
         "name": "Lamb",
         "orientation": "v",
         "showlegend": true,
         "type": "scatter",
         "x": [
          0,
          1,
          2,
          3,
          4,
          5,
          6
         ],
         "xaxis": "x",
         "y": [
          1,
          1,
          1,
          1,
          1,
          1,
          1
         ],
         "yaxis": "y"
        },
        {
         "hovertemplate": "variable=Beef<br>index=%{x}<br>value=%{y}<extra></extra>",
         "legendgroup": "Beef",
         "line": {
          "color": "#FECB52",
          "dash": "solid"
         },
         "marker": {
          "symbol": "circle"
         },
         "mode": "lines",
         "name": "Beef",
         "orientation": "v",
         "showlegend": true,
         "type": "scatter",
         "x": [
          0,
          1,
          2,
          3,
          4,
          5,
          6
         ],
         "xaxis": "x",
         "y": [
          0.9728571428571429,
          0.9802673456397198,
          0.9614197530864197,
          0.9614197530864197,
          0.9614197530864197,
          0.9614197530864197,
          0.9614197530864197
         ],
         "yaxis": "y"
        },
        {
         "hovertemplate": "variable=Ham<br>index=%{x}<br>value=%{y}<extra></extra>",
         "legendgroup": "Ham",
         "line": {
          "color": "#636efa",
          "dash": "solid"
         },
         "marker": {
          "symbol": "circle"
         },
         "mode": "lines",
         "name": "Ham",
         "orientation": "v",
         "showlegend": true,
         "type": "scatter",
         "x": [
          0,
          1,
          2,
          3,
          4,
          5,
          6
         ],
         "xaxis": "x",
         "y": [
          0.9911816578483246,
          0.9949916527545909,
          0.9983844911147012,
          0.9983844911147012,
          0.9983844911147012,
          0.9983844911147012,
          0.9983844911147012
         ],
         "yaxis": "y"
        },
        {
         "hovertemplate": "variable=Pepperoni<br>index=%{x}<br>value=%{y}<extra></extra>",
         "legendgroup": "Pepperoni",
         "line": {
          "color": "#EF553B",
          "dash": "solid"
         },
         "marker": {
          "symbol": "circle"
         },
         "mode": "lines",
         "name": "Pepperoni",
         "orientation": "v",
         "showlegend": true,
         "type": "scatter",
         "x": [
          0,
          1,
          2,
          3,
          4,
          5,
          6
         ],
         "xaxis": "x",
         "y": [
          1,
          0.975609756097561,
          0.975609756097561,
          0.975609756097561,
          0.975609756097561,
          0.975609756097561,
          0.975609756097561
         ],
         "yaxis": "y"
        },
        {
         "hovertemplate": "variable=Turkey<br>index=%{x}<br>value=%{y}<extra></extra>",
         "legendgroup": "Turkey",
         "line": {
          "color": "#00cc96",
          "dash": "solid"
         },
         "marker": {
          "symbol": "circle"
         },
         "mode": "lines",
         "name": "Turkey",
         "orientation": "v",
         "showlegend": true,
         "type": "scatter",
         "x": [
          0,
          1,
          2,
          3,
          4,
          5,
          6
         ],
         "xaxis": "x",
         "y": [
          0.9973427812223206,
          1,
          0.9972093023255814,
          0.9972093023255814,
          0.9972093023255814,
          0.9972093023255814,
          0.9972093023255814
         ],
         "yaxis": "y"
        },
        {
         "hovertemplate": "variable=Supplies<br>index=%{x}<br>value=%{y}<extra></extra>",
         "legendgroup": "Supplies",
         "line": {
          "color": "#ab63fa",
          "dash": "solid"
         },
         "marker": {
          "symbol": "circle"
         },
         "mode": "lines",
         "name": "Supplies",
         "orientation": "v",
         "showlegend": true,
         "type": "scatter",
         "x": [
          0,
          1,
          2,
          3,
          4,
          5,
          6
         ],
         "xaxis": "x",
         "y": [
          0.8446866485013624,
          0.8695652173913043,
          0.781021897810219,
          0.781021897810219,
          0.781021897810219,
          0.781021897810219,
          0.781021897810219
         ],
         "yaxis": "y"
        },
        {
         "hovertemplate": "variable=Bacon<br>index=%{x}<br>value=%{y}<extra></extra>",
         "legendgroup": "Bacon",
         "line": {
          "color": "#FFA15A",
          "dash": "solid"
         },
         "marker": {
          "symbol": "circle"
         },
         "mode": "lines",
         "name": "Bacon",
         "orientation": "v",
         "showlegend": true,
         "type": "scatter",
         "x": [
          0,
          1,
          2,
          3,
          4,
          5,
          6
         ],
         "xaxis": "x",
         "y": [
          0.9347826086956522,
          0.959349593495935,
          0.9215686274509803,
          0.9215686274509803,
          0.9215686274509803,
          0.9215686274509803,
          0.9215686274509803
         ],
         "yaxis": "y"
        },
        {
         "hovertemplate": "variable=Pork<br>index=%{x}<br>value=%{y}<extra></extra>",
         "legendgroup": "Pork",
         "line": {
          "color": "#19d3f3",
          "dash": "solid"
         },
         "marker": {
          "symbol": "circle"
         },
         "mode": "lines",
         "name": "Pork",
         "orientation": "v",
         "showlegend": true,
         "type": "scatter",
         "x": [
          0,
          1,
          2,
          3,
          4,
          5,
          6
         ],
         "xaxis": "x",
         "y": [
          0.9653465346534654,
          0.9712918660287081,
          0.9515669515669516,
          0.9515669515669516,
          0.9515669515669516,
          0.9515669515669516,
          0.9515669515669516
         ],
         "yaxis": "y"
        },
        {
         "hovertemplate": "variable=Egg<br>index=%{x}<br>value=%{y}<extra></extra>",
         "legendgroup": "Egg",
         "line": {
          "color": "#FF6692",
          "dash": "solid"
         },
         "marker": {
          "symbol": "circle"
         },
         "mode": "lines",
         "name": "Egg",
         "orientation": "v",
         "showlegend": true,
         "type": "scatter",
         "x": [
          0,
          1,
          2,
          3,
          4,
          5,
          6
         ],
         "xaxis": "x",
         "y": [
          0.98989898989899,
          0.9549549549549549,
          0.9130434782608695,
          0.9130434782608695,
          0.9130434782608695,
          0.9130434782608695,
          0.9130434782608695
         ],
         "yaxis": "y"
        }
       ],
       "layout": {
        "legend": {
         "title": {
          "text": "variable"
         },
         "tracegroupgap": 0
        },
        "margin": {
         "t": 60
        },
        "template": {
         "data": {
          "bar": [
           {
            "error_x": {
             "color": "#2a3f5f"
            },
            "error_y": {
             "color": "#2a3f5f"
            },
            "marker": {
             "line": {
              "color": "#E5ECF6",
              "width": 0.5
             },
             "pattern": {
              "fillmode": "overlay",
              "size": 10,
              "solidity": 0.2
             }
            },
            "type": "bar"
           }
          ],
          "barpolar": [
           {
            "marker": {
             "line": {
              "color": "#E5ECF6",
              "width": 0.5
             },
             "pattern": {
              "fillmode": "overlay",
              "size": 10,
              "solidity": 0.2
             }
            },
            "type": "barpolar"
           }
          ],
          "carpet": [
           {
            "aaxis": {
             "endlinecolor": "#2a3f5f",
             "gridcolor": "white",
             "linecolor": "white",
             "minorgridcolor": "white",
             "startlinecolor": "#2a3f5f"
            },
            "baxis": {
             "endlinecolor": "#2a3f5f",
             "gridcolor": "white",
             "linecolor": "white",
             "minorgridcolor": "white",
             "startlinecolor": "#2a3f5f"
            },
            "type": "carpet"
           }
          ],
          "choropleth": [
           {
            "colorbar": {
             "outlinewidth": 0,
             "ticks": ""
            },
            "type": "choropleth"
           }
          ],
          "contour": [
           {
            "colorbar": {
             "outlinewidth": 0,
             "ticks": ""
            },
            "colorscale": [
             [
              0,
              "#0d0887"
             ],
             [
              0.1111111111111111,
              "#46039f"
             ],
             [
              0.2222222222222222,
              "#7201a8"
             ],
             [
              0.3333333333333333,
              "#9c179e"
             ],
             [
              0.4444444444444444,
              "#bd3786"
             ],
             [
              0.5555555555555556,
              "#d8576b"
             ],
             [
              0.6666666666666666,
              "#ed7953"
             ],
             [
              0.7777777777777778,
              "#fb9f3a"
             ],
             [
              0.8888888888888888,
              "#fdca26"
             ],
             [
              1,
              "#f0f921"
             ]
            ],
            "type": "contour"
           }
          ],
          "contourcarpet": [
           {
            "colorbar": {
             "outlinewidth": 0,
             "ticks": ""
            },
            "type": "contourcarpet"
           }
          ],
          "heatmap": [
           {
            "colorbar": {
             "outlinewidth": 0,
             "ticks": ""
            },
            "colorscale": [
             [
              0,
              "#0d0887"
             ],
             [
              0.1111111111111111,
              "#46039f"
             ],
             [
              0.2222222222222222,
              "#7201a8"
             ],
             [
              0.3333333333333333,
              "#9c179e"
             ],
             [
              0.4444444444444444,
              "#bd3786"
             ],
             [
              0.5555555555555556,
              "#d8576b"
             ],
             [
              0.6666666666666666,
              "#ed7953"
             ],
             [
              0.7777777777777778,
              "#fb9f3a"
             ],
             [
              0.8888888888888888,
              "#fdca26"
             ],
             [
              1,
              "#f0f921"
             ]
            ],
            "type": "heatmap"
           }
          ],
          "heatmapgl": [
           {
            "colorbar": {
             "outlinewidth": 0,
             "ticks": ""
            },
            "colorscale": [
             [
              0,
              "#0d0887"
             ],
             [
              0.1111111111111111,
              "#46039f"
             ],
             [
              0.2222222222222222,
              "#7201a8"
             ],
             [
              0.3333333333333333,
              "#9c179e"
             ],
             [
              0.4444444444444444,
              "#bd3786"
             ],
             [
              0.5555555555555556,
              "#d8576b"
             ],
             [
              0.6666666666666666,
              "#ed7953"
             ],
             [
              0.7777777777777778,
              "#fb9f3a"
             ],
             [
              0.8888888888888888,
              "#fdca26"
             ],
             [
              1,
              "#f0f921"
             ]
            ],
            "type": "heatmapgl"
           }
          ],
          "histogram": [
           {
            "marker": {
             "pattern": {
              "fillmode": "overlay",
              "size": 10,
              "solidity": 0.2
             }
            },
            "type": "histogram"
           }
          ],
          "histogram2d": [
           {
            "colorbar": {
             "outlinewidth": 0,
             "ticks": ""
            },
            "colorscale": [
             [
              0,
              "#0d0887"
             ],
             [
              0.1111111111111111,
              "#46039f"
             ],
             [
              0.2222222222222222,
              "#7201a8"
             ],
             [
              0.3333333333333333,
              "#9c179e"
             ],
             [
              0.4444444444444444,
              "#bd3786"
             ],
             [
              0.5555555555555556,
              "#d8576b"
             ],
             [
              0.6666666666666666,
              "#ed7953"
             ],
             [
              0.7777777777777778,
              "#fb9f3a"
             ],
             [
              0.8888888888888888,
              "#fdca26"
             ],
             [
              1,
              "#f0f921"
             ]
            ],
            "type": "histogram2d"
           }
          ],
          "histogram2dcontour": [
           {
            "colorbar": {
             "outlinewidth": 0,
             "ticks": ""
            },
            "colorscale": [
             [
              0,
              "#0d0887"
             ],
             [
              0.1111111111111111,
              "#46039f"
             ],
             [
              0.2222222222222222,
              "#7201a8"
             ],
             [
              0.3333333333333333,
              "#9c179e"
             ],
             [
              0.4444444444444444,
              "#bd3786"
             ],
             [
              0.5555555555555556,
              "#d8576b"
             ],
             [
              0.6666666666666666,
              "#ed7953"
             ],
             [
              0.7777777777777778,
              "#fb9f3a"
             ],
             [
              0.8888888888888888,
              "#fdca26"
             ],
             [
              1,
              "#f0f921"
             ]
            ],
            "type": "histogram2dcontour"
           }
          ],
          "mesh3d": [
           {
            "colorbar": {
             "outlinewidth": 0,
             "ticks": ""
            },
            "type": "mesh3d"
           }
          ],
          "parcoords": [
           {
            "line": {
             "colorbar": {
              "outlinewidth": 0,
              "ticks": ""
             }
            },
            "type": "parcoords"
           }
          ],
          "pie": [
           {
            "automargin": true,
            "type": "pie"
           }
          ],
          "scatter": [
           {
            "fillpattern": {
             "fillmode": "overlay",
             "size": 10,
             "solidity": 0.2
            },
            "type": "scatter"
           }
          ],
          "scatter3d": [
           {
            "line": {
             "colorbar": {
              "outlinewidth": 0,
              "ticks": ""
             }
            },
            "marker": {
             "colorbar": {
              "outlinewidth": 0,
              "ticks": ""
             }
            },
            "type": "scatter3d"
           }
          ],
          "scattercarpet": [
           {
            "marker": {
             "colorbar": {
              "outlinewidth": 0,
              "ticks": ""
             }
            },
            "type": "scattercarpet"
           }
          ],
          "scattergeo": [
           {
            "marker": {
             "colorbar": {
              "outlinewidth": 0,
              "ticks": ""
             }
            },
            "type": "scattergeo"
           }
          ],
          "scattergl": [
           {
            "marker": {
             "colorbar": {
              "outlinewidth": 0,
              "ticks": ""
             }
            },
            "type": "scattergl"
           }
          ],
          "scattermapbox": [
           {
            "marker": {
             "colorbar": {
              "outlinewidth": 0,
              "ticks": ""
             }
            },
            "type": "scattermapbox"
           }
          ],
          "scatterpolar": [
           {
            "marker": {
             "colorbar": {
              "outlinewidth": 0,
              "ticks": ""
             }
            },
            "type": "scatterpolar"
           }
          ],
          "scatterpolargl": [
           {
            "marker": {
             "colorbar": {
              "outlinewidth": 0,
              "ticks": ""
             }
            },
            "type": "scatterpolargl"
           }
          ],
          "scatterternary": [
           {
            "marker": {
             "colorbar": {
              "outlinewidth": 0,
              "ticks": ""
             }
            },
            "type": "scatterternary"
           }
          ],
          "surface": [
           {
            "colorbar": {
             "outlinewidth": 0,
             "ticks": ""
            },
            "colorscale": [
             [
              0,
              "#0d0887"
             ],
             [
              0.1111111111111111,
              "#46039f"
             ],
             [
              0.2222222222222222,
              "#7201a8"
             ],
             [
              0.3333333333333333,
              "#9c179e"
             ],
             [
              0.4444444444444444,
              "#bd3786"
             ],
             [
              0.5555555555555556,
              "#d8576b"
             ],
             [
              0.6666666666666666,
              "#ed7953"
             ],
             [
              0.7777777777777778,
              "#fb9f3a"
             ],
             [
              0.8888888888888888,
              "#fdca26"
             ],
             [
              1,
              "#f0f921"
             ]
            ],
            "type": "surface"
           }
          ],
          "table": [
           {
            "cells": {
             "fill": {
              "color": "#EBF0F8"
             },
             "line": {
              "color": "white"
             }
            },
            "header": {
             "fill": {
              "color": "#C8D4E3"
             },
             "line": {
              "color": "white"
             }
            },
            "type": "table"
           }
          ]
         },
         "layout": {
          "annotationdefaults": {
           "arrowcolor": "#2a3f5f",
           "arrowhead": 0,
           "arrowwidth": 1
          },
          "autotypenumbers": "strict",
          "coloraxis": {
           "colorbar": {
            "outlinewidth": 0,
            "ticks": ""
           }
          },
          "colorscale": {
           "diverging": [
            [
             0,
             "#8e0152"
            ],
            [
             0.1,
             "#c51b7d"
            ],
            [
             0.2,
             "#de77ae"
            ],
            [
             0.3,
             "#f1b6da"
            ],
            [
             0.4,
             "#fde0ef"
            ],
            [
             0.5,
             "#f7f7f7"
            ],
            [
             0.6,
             "#e6f5d0"
            ],
            [
             0.7,
             "#b8e186"
            ],
            [
             0.8,
             "#7fbc41"
            ],
            [
             0.9,
             "#4d9221"
            ],
            [
             1,
             "#276419"
            ]
           ],
           "sequential": [
            [
             0,
             "#0d0887"
            ],
            [
             0.1111111111111111,
             "#46039f"
            ],
            [
             0.2222222222222222,
             "#7201a8"
            ],
            [
             0.3333333333333333,
             "#9c179e"
            ],
            [
             0.4444444444444444,
             "#bd3786"
            ],
            [
             0.5555555555555556,
             "#d8576b"
            ],
            [
             0.6666666666666666,
             "#ed7953"
            ],
            [
             0.7777777777777778,
             "#fb9f3a"
            ],
            [
             0.8888888888888888,
             "#fdca26"
            ],
            [
             1,
             "#f0f921"
            ]
           ],
           "sequentialminus": [
            [
             0,
             "#0d0887"
            ],
            [
             0.1111111111111111,
             "#46039f"
            ],
            [
             0.2222222222222222,
             "#7201a8"
            ],
            [
             0.3333333333333333,
             "#9c179e"
            ],
            [
             0.4444444444444444,
             "#bd3786"
            ],
            [
             0.5555555555555556,
             "#d8576b"
            ],
            [
             0.6666666666666666,
             "#ed7953"
            ],
            [
             0.7777777777777778,
             "#fb9f3a"
            ],
            [
             0.8888888888888888,
             "#fdca26"
            ],
            [
             1,
             "#f0f921"
            ]
           ]
          },
          "colorway": [
           "#636efa",
           "#EF553B",
           "#00cc96",
           "#ab63fa",
           "#FFA15A",
           "#19d3f3",
           "#FF6692",
           "#B6E880",
           "#FF97FF",
           "#FECB52"
          ],
          "font": {
           "color": "#2a3f5f"
          },
          "geo": {
           "bgcolor": "white",
           "lakecolor": "white",
           "landcolor": "#E5ECF6",
           "showlakes": true,
           "showland": true,
           "subunitcolor": "white"
          },
          "hoverlabel": {
           "align": "left"
          },
          "hovermode": "closest",
          "mapbox": {
           "style": "light"
          },
          "paper_bgcolor": "white",
          "plot_bgcolor": "#E5ECF6",
          "polar": {
           "angularaxis": {
            "gridcolor": "white",
            "linecolor": "white",
            "ticks": ""
           },
           "bgcolor": "#E5ECF6",
           "radialaxis": {
            "gridcolor": "white",
            "linecolor": "white",
            "ticks": ""
           }
          },
          "scene": {
           "xaxis": {
            "backgroundcolor": "#E5ECF6",
            "gridcolor": "white",
            "gridwidth": 2,
            "linecolor": "white",
            "showbackground": true,
            "ticks": "",
            "zerolinecolor": "white"
           },
           "yaxis": {
            "backgroundcolor": "#E5ECF6",
            "gridcolor": "white",
            "gridwidth": 2,
            "linecolor": "white",
            "showbackground": true,
            "ticks": "",
            "zerolinecolor": "white"
           },
           "zaxis": {
            "backgroundcolor": "#E5ECF6",
            "gridcolor": "white",
            "gridwidth": 2,
            "linecolor": "white",
            "showbackground": true,
            "ticks": "",
            "zerolinecolor": "white"
           }
          },
          "shapedefaults": {
           "line": {
            "color": "#2a3f5f"
           }
          },
          "ternary": {
           "aaxis": {
            "gridcolor": "white",
            "linecolor": "white",
            "ticks": ""
           },
           "baxis": {
            "gridcolor": "white",
            "linecolor": "white",
            "ticks": ""
           },
           "bgcolor": "#E5ECF6",
           "caxis": {
            "gridcolor": "white",
            "linecolor": "white",
            "ticks": ""
           }
          },
          "title": {
           "x": 0.05
          },
          "xaxis": {
           "automargin": true,
           "gridcolor": "white",
           "linecolor": "white",
           "ticks": "",
           "title": {
            "standoff": 15
           },
           "zerolinecolor": "white",
           "zerolinewidth": 2
          },
          "yaxis": {
           "automargin": true,
           "gridcolor": "white",
           "linecolor": "white",
           "ticks": "",
           "title": {
            "standoff": 15
           },
           "zerolinecolor": "white",
           "zerolinewidth": 2
          }
         }
        },
        "xaxis": {
         "anchor": "y",
         "domain": [
          0,
          1
         ],
         "title": {
          "text": "index"
         }
        },
        "yaxis": {
         "anchor": "x",
         "domain": [
          0,
          1
         ],
         "title": {
          "text": "value"
         }
        }
       }
      },
      "text/html": [
       "<div>                            <div id=\"bc3459c5-c8c0-47e2-ac27-dc5784c23460\" class=\"plotly-graph-div\" style=\"height:525px; width:100%;\"></div>            <script type=\"text/javascript\">                require([\"plotly\"], function(Plotly) {                    window.PLOTLYENV=window.PLOTLYENV || {};                                    if (document.getElementById(\"bc3459c5-c8c0-47e2-ac27-dc5784c23460\")) {                    Plotly.newPlot(                        \"bc3459c5-c8c0-47e2-ac27-dc5784c23460\",                        [{\"hovertemplate\":\"variable=Cheese<br>index=%{x}<br>value=%{y}<extra></extra>\",\"legendgroup\":\"Cheese\",\"line\":{\"color\":\"#636efa\",\"dash\":\"solid\"},\"marker\":{\"symbol\":\"circle\"},\"mode\":\"lines\",\"name\":\"Cheese\",\"orientation\":\"v\",\"showlegend\":true,\"x\":[0,1,2,3,4,5,6],\"xaxis\":\"x\",\"y\":[0.9691780821917807,0.9738058551617874,0.9679595278246207,0.9679595278246207,0.9679595278246207,0.9679595278246207,0.9679595278246207],\"yaxis\":\"y\",\"type\":\"scatter\"},{\"hovertemplate\":\"variable=AO<br>index=%{x}<br>value=%{y}<extra></extra>\",\"legendgroup\":\"AO\",\"line\":{\"color\":\"#EF553B\",\"dash\":\"solid\"},\"marker\":{\"symbol\":\"circle\"},\"mode\":\"lines\",\"name\":\"AO\",\"orientation\":\"v\",\"showlegend\":true,\"x\":[0,1,2,3,4,5,6],\"xaxis\":\"x\",\"y\":[0.9600489196901755,0.9676156583629894,0.9505985963946608,0.9505985963946608,0.9505985963946608,0.9505985963946608,0.9505985963946608],\"yaxis\":\"y\",\"type\":\"scatter\"},{\"hovertemplate\":\"variable=Sausage<br>index=%{x}<br>value=%{y}<extra></extra>\",\"legendgroup\":\"Sausage\",\"line\":{\"color\":\"#00cc96\",\"dash\":\"solid\"},\"marker\":{\"symbol\":\"circle\"},\"mode\":\"lines\",\"name\":\"Sausage\",\"orientation\":\"v\",\"showlegend\":true,\"x\":[0,1,2,3,4,5,6],\"xaxis\":\"x\",\"y\":[0.9794520547945206,0.9806451612903225,0.9733333333333333,0.9733333333333333,0.9733333333333333,0.9733333333333333,0.9733333333333333],\"yaxis\":\"y\",\"type\":\"scatter\"},{\"hovertemplate\":\"variable=Seafood<br>index=%{x}<br>value=%{y}<extra></extra>\",\"legendgroup\":\"Seafood\",\"line\":{\"color\":\"#ab63fa\",\"dash\":\"solid\"},\"marker\":{\"symbol\":\"circle\"},\"mode\":\"lines\",\"name\":\"Seafood\",\"orientation\":\"v\",\"showlegend\":true,\"x\":[0,1,2,3,4,5,6],\"xaxis\":\"x\",\"y\":[0.9573033707865168,0.9693251533742331,0.949748743718593,0.949748743718593,0.949748743718593,0.949748743718593,0.949748743718593],\"yaxis\":\"y\",\"type\":\"scatter\"},{\"hovertemplate\":\"variable=Fish<br>index=%{x}<br>value=%{y}<extra></extra>\",\"legendgroup\":\"Fish\",\"line\":{\"color\":\"#FFA15A\",\"dash\":\"solid\"},\"marker\":{\"symbol\":\"circle\"},\"mode\":\"lines\",\"name\":\"Fish\",\"orientation\":\"v\",\"showlegend\":true,\"x\":[0,1,2,3,4,5,6],\"xaxis\":\"x\",\"y\":[0.9781477627471383,0.9834146341463414,0.9787234042553192,0.9787234042553192,0.9787234042553192,0.9787234042553192,0.9787234042553192],\"yaxis\":\"y\",\"type\":\"scatter\"},{\"hovertemplate\":\"variable=Meatball<br>index=%{x}<br>value=%{y}<extra></extra>\",\"legendgroup\":\"Meatball\",\"line\":{\"color\":\"#19d3f3\",\"dash\":\"solid\"},\"marker\":{\"symbol\":\"circle\"},\"mode\":\"lines\",\"name\":\"Meatball\",\"orientation\":\"v\",\"showlegend\":true,\"x\":[0,1,2,3,4,5,6],\"xaxis\":\"x\",\"y\":[0.9642857142857143,0.9913043478260869,0.98989898989899,0.98989898989899,0.98989898989899,0.98989898989899,0.98989898989899],\"yaxis\":\"y\",\"type\":\"scatter\"},{\"hovertemplate\":\"variable=Chicken<br>index=%{x}<br>value=%{y}<extra></extra>\",\"legendgroup\":\"Chicken\",\"line\":{\"color\":\"#FF6692\",\"dash\":\"solid\"},\"marker\":{\"symbol\":\"circle\"},\"mode\":\"lines\",\"name\":\"Chicken\",\"orientation\":\"v\",\"showlegend\":true,\"x\":[0,1,2,3,4,5,6],\"xaxis\":\"x\",\"y\":[0.995897759545598,0.994778785380599,0.9907502569373073,0.9907502569373073,0.9907502569373073,0.9907502569373073,0.9907502569373073],\"yaxis\":\"y\",\"type\":\"scatter\"},{\"hovertemplate\":\"variable=Veggie<br>index=%{x}<br>value=%{y}<extra></extra>\",\"legendgroup\":\"Veggie\",\"line\":{\"color\":\"#B6E880\",\"dash\":\"solid\"},\"marker\":{\"symbol\":\"circle\"},\"mode\":\"lines\",\"name\":\"Veggie\",\"orientation\":\"v\",\"showlegend\":true,\"x\":[0,1,2,3,4,5,6],\"xaxis\":\"x\",\"y\":[0.951345163136806,0.95995995995996,0.9458288190682557,0.9458288190682557,0.9458288190682557,0.9458288190682557,0.9458288190682557],\"yaxis\":\"y\",\"type\":\"scatter\"},{\"hovertemplate\":\"variable=Lamb<br>index=%{x}<br>value=%{y}<extra></extra>\",\"legendgroup\":\"Lamb\",\"line\":{\"color\":\"#FF97FF\",\"dash\":\"solid\"},\"marker\":{\"symbol\":\"circle\"},\"mode\":\"lines\",\"name\":\"Lamb\",\"orientation\":\"v\",\"showlegend\":true,\"x\":[0,1,2,3,4,5,6],\"xaxis\":\"x\",\"y\":[1.0,1.0,1.0,1.0,1.0,1.0,1.0],\"yaxis\":\"y\",\"type\":\"scatter\"},{\"hovertemplate\":\"variable=Beef<br>index=%{x}<br>value=%{y}<extra></extra>\",\"legendgroup\":\"Beef\",\"line\":{\"color\":\"#FECB52\",\"dash\":\"solid\"},\"marker\":{\"symbol\":\"circle\"},\"mode\":\"lines\",\"name\":\"Beef\",\"orientation\":\"v\",\"showlegend\":true,\"x\":[0,1,2,3,4,5,6],\"xaxis\":\"x\",\"y\":[0.9728571428571429,0.9802673456397198,0.9614197530864197,0.9614197530864197,0.9614197530864197,0.9614197530864197,0.9614197530864197],\"yaxis\":\"y\",\"type\":\"scatter\"},{\"hovertemplate\":\"variable=Ham<br>index=%{x}<br>value=%{y}<extra></extra>\",\"legendgroup\":\"Ham\",\"line\":{\"color\":\"#636efa\",\"dash\":\"solid\"},\"marker\":{\"symbol\":\"circle\"},\"mode\":\"lines\",\"name\":\"Ham\",\"orientation\":\"v\",\"showlegend\":true,\"x\":[0,1,2,3,4,5,6],\"xaxis\":\"x\",\"y\":[0.9911816578483246,0.9949916527545909,0.9983844911147012,0.9983844911147012,0.9983844911147012,0.9983844911147012,0.9983844911147012],\"yaxis\":\"y\",\"type\":\"scatter\"},{\"hovertemplate\":\"variable=Pepperoni<br>index=%{x}<br>value=%{y}<extra></extra>\",\"legendgroup\":\"Pepperoni\",\"line\":{\"color\":\"#EF553B\",\"dash\":\"solid\"},\"marker\":{\"symbol\":\"circle\"},\"mode\":\"lines\",\"name\":\"Pepperoni\",\"orientation\":\"v\",\"showlegend\":true,\"x\":[0,1,2,3,4,5,6],\"xaxis\":\"x\",\"y\":[1.0,0.975609756097561,0.975609756097561,0.975609756097561,0.975609756097561,0.975609756097561,0.975609756097561],\"yaxis\":\"y\",\"type\":\"scatter\"},{\"hovertemplate\":\"variable=Turkey<br>index=%{x}<br>value=%{y}<extra></extra>\",\"legendgroup\":\"Turkey\",\"line\":{\"color\":\"#00cc96\",\"dash\":\"solid\"},\"marker\":{\"symbol\":\"circle\"},\"mode\":\"lines\",\"name\":\"Turkey\",\"orientation\":\"v\",\"showlegend\":true,\"x\":[0,1,2,3,4,5,6],\"xaxis\":\"x\",\"y\":[0.9973427812223206,1.0,0.9972093023255814,0.9972093023255814,0.9972093023255814,0.9972093023255814,0.9972093023255814],\"yaxis\":\"y\",\"type\":\"scatter\"},{\"hovertemplate\":\"variable=Supplies<br>index=%{x}<br>value=%{y}<extra></extra>\",\"legendgroup\":\"Supplies\",\"line\":{\"color\":\"#ab63fa\",\"dash\":\"solid\"},\"marker\":{\"symbol\":\"circle\"},\"mode\":\"lines\",\"name\":\"Supplies\",\"orientation\":\"v\",\"showlegend\":true,\"x\":[0,1,2,3,4,5,6],\"xaxis\":\"x\",\"y\":[0.8446866485013624,0.8695652173913043,0.781021897810219,0.781021897810219,0.781021897810219,0.781021897810219,0.781021897810219],\"yaxis\":\"y\",\"type\":\"scatter\"},{\"hovertemplate\":\"variable=Bacon<br>index=%{x}<br>value=%{y}<extra></extra>\",\"legendgroup\":\"Bacon\",\"line\":{\"color\":\"#FFA15A\",\"dash\":\"solid\"},\"marker\":{\"symbol\":\"circle\"},\"mode\":\"lines\",\"name\":\"Bacon\",\"orientation\":\"v\",\"showlegend\":true,\"x\":[0,1,2,3,4,5,6],\"xaxis\":\"x\",\"y\":[0.9347826086956522,0.959349593495935,0.9215686274509803,0.9215686274509803,0.9215686274509803,0.9215686274509803,0.9215686274509803],\"yaxis\":\"y\",\"type\":\"scatter\"},{\"hovertemplate\":\"variable=Pork<br>index=%{x}<br>value=%{y}<extra></extra>\",\"legendgroup\":\"Pork\",\"line\":{\"color\":\"#19d3f3\",\"dash\":\"solid\"},\"marker\":{\"symbol\":\"circle\"},\"mode\":\"lines\",\"name\":\"Pork\",\"orientation\":\"v\",\"showlegend\":true,\"x\":[0,1,2,3,4,5,6],\"xaxis\":\"x\",\"y\":[0.9653465346534654,0.9712918660287081,0.9515669515669516,0.9515669515669516,0.9515669515669516,0.9515669515669516,0.9515669515669516],\"yaxis\":\"y\",\"type\":\"scatter\"},{\"hovertemplate\":\"variable=Egg<br>index=%{x}<br>value=%{y}<extra></extra>\",\"legendgroup\":\"Egg\",\"line\":{\"color\":\"#FF6692\",\"dash\":\"solid\"},\"marker\":{\"symbol\":\"circle\"},\"mode\":\"lines\",\"name\":\"Egg\",\"orientation\":\"v\",\"showlegend\":true,\"x\":[0,1,2,3,4,5,6],\"xaxis\":\"x\",\"y\":[0.98989898989899,0.9549549549549549,0.9130434782608695,0.9130434782608695,0.9130434782608695,0.9130434782608695,0.9130434782608695],\"yaxis\":\"y\",\"type\":\"scatter\"}],                        {\"template\":{\"data\":{\"histogram2dcontour\":[{\"type\":\"histogram2dcontour\",\"colorbar\":{\"outlinewidth\":0,\"ticks\":\"\"},\"colorscale\":[[0.0,\"#0d0887\"],[0.1111111111111111,\"#46039f\"],[0.2222222222222222,\"#7201a8\"],[0.3333333333333333,\"#9c179e\"],[0.4444444444444444,\"#bd3786\"],[0.5555555555555556,\"#d8576b\"],[0.6666666666666666,\"#ed7953\"],[0.7777777777777778,\"#fb9f3a\"],[0.8888888888888888,\"#fdca26\"],[1.0,\"#f0f921\"]]}],\"choropleth\":[{\"type\":\"choropleth\",\"colorbar\":{\"outlinewidth\":0,\"ticks\":\"\"}}],\"histogram2d\":[{\"type\":\"histogram2d\",\"colorbar\":{\"outlinewidth\":0,\"ticks\":\"\"},\"colorscale\":[[0.0,\"#0d0887\"],[0.1111111111111111,\"#46039f\"],[0.2222222222222222,\"#7201a8\"],[0.3333333333333333,\"#9c179e\"],[0.4444444444444444,\"#bd3786\"],[0.5555555555555556,\"#d8576b\"],[0.6666666666666666,\"#ed7953\"],[0.7777777777777778,\"#fb9f3a\"],[0.8888888888888888,\"#fdca26\"],[1.0,\"#f0f921\"]]}],\"heatmap\":[{\"type\":\"heatmap\",\"colorbar\":{\"outlinewidth\":0,\"ticks\":\"\"},\"colorscale\":[[0.0,\"#0d0887\"],[0.1111111111111111,\"#46039f\"],[0.2222222222222222,\"#7201a8\"],[0.3333333333333333,\"#9c179e\"],[0.4444444444444444,\"#bd3786\"],[0.5555555555555556,\"#d8576b\"],[0.6666666666666666,\"#ed7953\"],[0.7777777777777778,\"#fb9f3a\"],[0.8888888888888888,\"#fdca26\"],[1.0,\"#f0f921\"]]}],\"heatmapgl\":[{\"type\":\"heatmapgl\",\"colorbar\":{\"outlinewidth\":0,\"ticks\":\"\"},\"colorscale\":[[0.0,\"#0d0887\"],[0.1111111111111111,\"#46039f\"],[0.2222222222222222,\"#7201a8\"],[0.3333333333333333,\"#9c179e\"],[0.4444444444444444,\"#bd3786\"],[0.5555555555555556,\"#d8576b\"],[0.6666666666666666,\"#ed7953\"],[0.7777777777777778,\"#fb9f3a\"],[0.8888888888888888,\"#fdca26\"],[1.0,\"#f0f921\"]]}],\"contourcarpet\":[{\"type\":\"contourcarpet\",\"colorbar\":{\"outlinewidth\":0,\"ticks\":\"\"}}],\"contour\":[{\"type\":\"contour\",\"colorbar\":{\"outlinewidth\":0,\"ticks\":\"\"},\"colorscale\":[[0.0,\"#0d0887\"],[0.1111111111111111,\"#46039f\"],[0.2222222222222222,\"#7201a8\"],[0.3333333333333333,\"#9c179e\"],[0.4444444444444444,\"#bd3786\"],[0.5555555555555556,\"#d8576b\"],[0.6666666666666666,\"#ed7953\"],[0.7777777777777778,\"#fb9f3a\"],[0.8888888888888888,\"#fdca26\"],[1.0,\"#f0f921\"]]}],\"surface\":[{\"type\":\"surface\",\"colorbar\":{\"outlinewidth\":0,\"ticks\":\"\"},\"colorscale\":[[0.0,\"#0d0887\"],[0.1111111111111111,\"#46039f\"],[0.2222222222222222,\"#7201a8\"],[0.3333333333333333,\"#9c179e\"],[0.4444444444444444,\"#bd3786\"],[0.5555555555555556,\"#d8576b\"],[0.6666666666666666,\"#ed7953\"],[0.7777777777777778,\"#fb9f3a\"],[0.8888888888888888,\"#fdca26\"],[1.0,\"#f0f921\"]]}],\"mesh3d\":[{\"type\":\"mesh3d\",\"colorbar\":{\"outlinewidth\":0,\"ticks\":\"\"}}],\"scatter\":[{\"fillpattern\":{\"fillmode\":\"overlay\",\"size\":10,\"solidity\":0.2},\"type\":\"scatter\"}],\"parcoords\":[{\"type\":\"parcoords\",\"line\":{\"colorbar\":{\"outlinewidth\":0,\"ticks\":\"\"}}}],\"scatterpolargl\":[{\"type\":\"scatterpolargl\",\"marker\":{\"colorbar\":{\"outlinewidth\":0,\"ticks\":\"\"}}}],\"bar\":[{\"error_x\":{\"color\":\"#2a3f5f\"},\"error_y\":{\"color\":\"#2a3f5f\"},\"marker\":{\"line\":{\"color\":\"#E5ECF6\",\"width\":0.5},\"pattern\":{\"fillmode\":\"overlay\",\"size\":10,\"solidity\":0.2}},\"type\":\"bar\"}],\"scattergeo\":[{\"type\":\"scattergeo\",\"marker\":{\"colorbar\":{\"outlinewidth\":0,\"ticks\":\"\"}}}],\"scatterpolar\":[{\"type\":\"scatterpolar\",\"marker\":{\"colorbar\":{\"outlinewidth\":0,\"ticks\":\"\"}}}],\"histogram\":[{\"marker\":{\"pattern\":{\"fillmode\":\"overlay\",\"size\":10,\"solidity\":0.2}},\"type\":\"histogram\"}],\"scattergl\":[{\"type\":\"scattergl\",\"marker\":{\"colorbar\":{\"outlinewidth\":0,\"ticks\":\"\"}}}],\"scatter3d\":[{\"type\":\"scatter3d\",\"line\":{\"colorbar\":{\"outlinewidth\":0,\"ticks\":\"\"}},\"marker\":{\"colorbar\":{\"outlinewidth\":0,\"ticks\":\"\"}}}],\"scattermapbox\":[{\"type\":\"scattermapbox\",\"marker\":{\"colorbar\":{\"outlinewidth\":0,\"ticks\":\"\"}}}],\"scatterternary\":[{\"type\":\"scatterternary\",\"marker\":{\"colorbar\":{\"outlinewidth\":0,\"ticks\":\"\"}}}],\"scattercarpet\":[{\"type\":\"scattercarpet\",\"marker\":{\"colorbar\":{\"outlinewidth\":0,\"ticks\":\"\"}}}],\"carpet\":[{\"aaxis\":{\"endlinecolor\":\"#2a3f5f\",\"gridcolor\":\"white\",\"linecolor\":\"white\",\"minorgridcolor\":\"white\",\"startlinecolor\":\"#2a3f5f\"},\"baxis\":{\"endlinecolor\":\"#2a3f5f\",\"gridcolor\":\"white\",\"linecolor\":\"white\",\"minorgridcolor\":\"white\",\"startlinecolor\":\"#2a3f5f\"},\"type\":\"carpet\"}],\"table\":[{\"cells\":{\"fill\":{\"color\":\"#EBF0F8\"},\"line\":{\"color\":\"white\"}},\"header\":{\"fill\":{\"color\":\"#C8D4E3\"},\"line\":{\"color\":\"white\"}},\"type\":\"table\"}],\"barpolar\":[{\"marker\":{\"line\":{\"color\":\"#E5ECF6\",\"width\":0.5},\"pattern\":{\"fillmode\":\"overlay\",\"size\":10,\"solidity\":0.2}},\"type\":\"barpolar\"}],\"pie\":[{\"automargin\":true,\"type\":\"pie\"}]},\"layout\":{\"autotypenumbers\":\"strict\",\"colorway\":[\"#636efa\",\"#EF553B\",\"#00cc96\",\"#ab63fa\",\"#FFA15A\",\"#19d3f3\",\"#FF6692\",\"#B6E880\",\"#FF97FF\",\"#FECB52\"],\"font\":{\"color\":\"#2a3f5f\"},\"hovermode\":\"closest\",\"hoverlabel\":{\"align\":\"left\"},\"paper_bgcolor\":\"white\",\"plot_bgcolor\":\"#E5ECF6\",\"polar\":{\"bgcolor\":\"#E5ECF6\",\"angularaxis\":{\"gridcolor\":\"white\",\"linecolor\":\"white\",\"ticks\":\"\"},\"radialaxis\":{\"gridcolor\":\"white\",\"linecolor\":\"white\",\"ticks\":\"\"}},\"ternary\":{\"bgcolor\":\"#E5ECF6\",\"aaxis\":{\"gridcolor\":\"white\",\"linecolor\":\"white\",\"ticks\":\"\"},\"baxis\":{\"gridcolor\":\"white\",\"linecolor\":\"white\",\"ticks\":\"\"},\"caxis\":{\"gridcolor\":\"white\",\"linecolor\":\"white\",\"ticks\":\"\"}},\"coloraxis\":{\"colorbar\":{\"outlinewidth\":0,\"ticks\":\"\"}},\"colorscale\":{\"sequential\":[[0.0,\"#0d0887\"],[0.1111111111111111,\"#46039f\"],[0.2222222222222222,\"#7201a8\"],[0.3333333333333333,\"#9c179e\"],[0.4444444444444444,\"#bd3786\"],[0.5555555555555556,\"#d8576b\"],[0.6666666666666666,\"#ed7953\"],[0.7777777777777778,\"#fb9f3a\"],[0.8888888888888888,\"#fdca26\"],[1.0,\"#f0f921\"]],\"sequentialminus\":[[0.0,\"#0d0887\"],[0.1111111111111111,\"#46039f\"],[0.2222222222222222,\"#7201a8\"],[0.3333333333333333,\"#9c179e\"],[0.4444444444444444,\"#bd3786\"],[0.5555555555555556,\"#d8576b\"],[0.6666666666666666,\"#ed7953\"],[0.7777777777777778,\"#fb9f3a\"],[0.8888888888888888,\"#fdca26\"],[1.0,\"#f0f921\"]],\"diverging\":[[0,\"#8e0152\"],[0.1,\"#c51b7d\"],[0.2,\"#de77ae\"],[0.3,\"#f1b6da\"],[0.4,\"#fde0ef\"],[0.5,\"#f7f7f7\"],[0.6,\"#e6f5d0\"],[0.7,\"#b8e186\"],[0.8,\"#7fbc41\"],[0.9,\"#4d9221\"],[1,\"#276419\"]]},\"xaxis\":{\"gridcolor\":\"white\",\"linecolor\":\"white\",\"ticks\":\"\",\"title\":{\"standoff\":15},\"zerolinecolor\":\"white\",\"automargin\":true,\"zerolinewidth\":2},\"yaxis\":{\"gridcolor\":\"white\",\"linecolor\":\"white\",\"ticks\":\"\",\"title\":{\"standoff\":15},\"zerolinecolor\":\"white\",\"automargin\":true,\"zerolinewidth\":2},\"scene\":{\"xaxis\":{\"backgroundcolor\":\"#E5ECF6\",\"gridcolor\":\"white\",\"linecolor\":\"white\",\"showbackground\":true,\"ticks\":\"\",\"zerolinecolor\":\"white\",\"gridwidth\":2},\"yaxis\":{\"backgroundcolor\":\"#E5ECF6\",\"gridcolor\":\"white\",\"linecolor\":\"white\",\"showbackground\":true,\"ticks\":\"\",\"zerolinecolor\":\"white\",\"gridwidth\":2},\"zaxis\":{\"backgroundcolor\":\"#E5ECF6\",\"gridcolor\":\"white\",\"linecolor\":\"white\",\"showbackground\":true,\"ticks\":\"\",\"zerolinecolor\":\"white\",\"gridwidth\":2}},\"shapedefaults\":{\"line\":{\"color\":\"#2a3f5f\"}},\"annotationdefaults\":{\"arrowcolor\":\"#2a3f5f\",\"arrowhead\":0,\"arrowwidth\":1},\"geo\":{\"bgcolor\":\"white\",\"landcolor\":\"#E5ECF6\",\"subunitcolor\":\"white\",\"showland\":true,\"showlakes\":true,\"lakecolor\":\"white\"},\"title\":{\"x\":0.05},\"mapbox\":{\"style\":\"light\"}}},\"xaxis\":{\"anchor\":\"y\",\"domain\":[0.0,1.0],\"title\":{\"text\":\"index\"}},\"yaxis\":{\"anchor\":\"x\",\"domain\":[0.0,1.0],\"title\":{\"text\":\"value\"}},\"legend\":{\"title\":{\"text\":\"variable\"},\"tracegroupgap\":0},\"margin\":{\"t\":60}},                        {\"responsive\": true}                    ).then(function(){\n",
       "                            \n",
       "var gd = document.getElementById('bc3459c5-c8c0-47e2-ac27-dc5784c23460');\n",
       "var x = new MutationObserver(function (mutations, observer) {{\n",
       "        var display = window.getComputedStyle(gd).display;\n",
       "        if (!display || display === 'none') {{\n",
       "            console.log([gd, 'removed!']);\n",
       "            Plotly.purge(gd);\n",
       "            observer.disconnect();\n",
       "        }}\n",
       "}});\n",
       "\n",
       "// Listen for the removal of the full notebook cells\n",
       "var notebookContainer = gd.closest('#notebook-container');\n",
       "if (notebookContainer) {{\n",
       "    x.observe(notebookContainer, {childList: true});\n",
       "}}\n",
       "\n",
       "// Listen for the clearing of the current output cell\n",
       "var outputEl = gd.closest('.output');\n",
       "if (outputEl) {{\n",
       "    x.observe(outputEl, {childList: true});\n",
       "}}\n",
       "\n",
       "                        })                };                });            </script>        </div>"
      ]
     },
     "metadata": {},
     "output_type": "display_data"
    }
   ],
   "source": [
    "import plotly.express as px\n",
    "\n",
    "vals= f1_score(test_results['label'],test_results['prediction'], labels= labels, average=None)\n",
    "df_current_perf = pd.DataFrame(vals.reshape(1,len(labels)), columns = labels)\n",
    "df_current_perf['n_samples'] = test_results.shape[0]\n",
    "\n",
    "df_historical_perf = pd.concat([pd.DataFrame(params['model_performance']), df_current_perf]).fillna(0).reset_index(drop=True)\n",
    "\n",
    "\n",
    "if df_historical_perf.shape[0]>1:\n",
    "    fig = px.line(df_historical_perf, x=df_historical_perf.index, y=labels)\n",
    "    fig.show()\n",
    "\n",
    "# Calculate the f1 score, compare it against historical data and plot it"
   ]
  },
  {
   "cell_type": "code",
   "execution_count": 110,
   "id": "fdf84571",
   "metadata": {},
   "outputs": [],
   "source": [
    "# Write out model results for next time.\n",
    "params['model_performance']= df_historical_perf.to_dict()\n",
    "\n",
    "with open(\"input_params.hjson\", \"w\") as outfile:\n",
    "    outfile.write(json.dumps(params, indent=3))"
   ]
  },
  {
   "attachments": {},
   "cell_type": "markdown",
   "id": "92d49bfb",
   "metadata": {},
   "source": [
    "### Section 3:\n",
    "\n",
    "After we see our performance gains, let's generate more training samples to continuously improve our model."
   ]
  },
  {
   "cell_type": "code",
   "execution_count": 111,
   "id": "0898e903",
   "metadata": {},
   "outputs": [
    {
     "name": "stdout",
     "output_type": "stream",
     "text": [
      "under-represented class name: # of samples to add\n",
      "{}\n"
     ]
    }
   ],
   "source": [
    "## Setup collection methods to increase our training samples\n",
    "\n",
    "additional_training_dict = {}\n",
    "n_additional=20\n",
    "min_per_class=5\n",
    "\n",
    "# First, let's check if there are any classes that are under represented (n<5)\n",
    "\n",
    "cm = confusion_matrix.sum(axis=1)\n",
    "\n",
    "additional_training_dict['under_represented_classes'] = {}\n",
    "for i,j in zip(cm.tolist(), labels):\n",
    "    if i < min_per_class:\n",
    "        additional_training_dict['under_represented_classes'][j] = min_per_class-i\n",
    "\n",
    "print('under-represented class name: # of samples to add')\n",
    "print(additional_training_dict['under_represented_classes'])"
   ]
  },
  {
   "cell_type": "code",
   "execution_count": 112,
   "id": "00a76743",
   "metadata": {},
   "outputs": [
    {
     "name": "stdout",
     "output_type": "stream",
     "text": [
      "misclassified_class_name: number of samples to add\n",
      "{'Cheese': 0, 'AO': 10, 'Sausage': 0, 'Seafood': 0, 'Fish': 0, 'Meatball': 0, 'Chicken': 0, 'Veggie': 1, 'Beef': 1, 'Ham': 0, 'Pepperoni': 0, 'Turkey': 0, 'Supplies': 4, 'Bacon': 0, 'Pork': 0, 'Egg': 0}\n"
     ]
    }
   ],
   "source": [
    "# Then, lets assign 20 new items based on how many were misclassified\n",
    "\n",
    "cm_misclassified = confusion_matrix.copy()\n",
    "for i in range(cm_misclassified.shape[0]):\n",
    "    cm_misclassified[i,i]=0\n",
    "cm_misclassified = cm_misclassified.sum(axis=1)/cm_misclassified.sum()\n",
    "\n",
    "additional_training_dict['misclassified'] = {}\n",
    "for i, j in zip(cm_misclassified, labels):\n",
    "    if i>0:\n",
    "        additional_training_dict['misclassified'][j]=int(i*n_additional)\n",
    "\n",
    "print('misclassified_class_name: number of samples to add')\n",
    "print(additional_training_dict['misclassified'])"
   ]
  },
  {
   "cell_type": "code",
   "execution_count": 113,
   "id": "ed08d688",
   "metadata": {},
   "outputs": [
    {
     "name": "stderr",
     "output_type": "stream",
     "text": [
      "/tmp/ipykernel_2467672/947652359.py:37: FutureWarning:\n",
      "\n",
      "In a future version of pandas all arguments of DataFrame.drop except for the argument 'labels' will be keyword-only.\n",
      "\n"
     ]
    },
    {
     "data": {
      "text/html": [
       "<div>\n",
       "<style scoped>\n",
       "    .dataframe tbody tr th:only-of-type {\n",
       "        vertical-align: middle;\n",
       "    }\n",
       "\n",
       "    .dataframe tbody tr th {\n",
       "        vertical-align: top;\n",
       "    }\n",
       "\n",
       "    .dataframe thead th {\n",
       "        text-align: right;\n",
       "    }\n",
       "</style>\n",
       "<table border=\"1\" class=\"dataframe\">\n",
       "  <thead>\n",
       "    <tr style=\"text-align: right;\">\n",
       "      <th></th>\n",
       "      <th>item_for_selection</th>\n",
       "      <th>sales_amt_gross</th>\n",
       "    </tr>\n",
       "  </thead>\n",
       "  <tbody>\n",
       "    <tr>\n",
       "      <th>0</th>\n",
       "      <td></td>\n",
       "      <td>0.00</td>\n",
       "    </tr>\n",
       "    <tr>\n",
       "      <th>1</th>\n",
       "      <td>0  ounce</td>\n",
       "      <td>0.00</td>\n",
       "    </tr>\n",
       "    <tr>\n",
       "      <th>2</th>\n",
       "      <td>0  pound</td>\n",
       "      <td>0.00</td>\n",
       "    </tr>\n",
       "    <tr>\n",
       "      <th>3</th>\n",
       "      <td>0  pound lbs</td>\n",
       "      <td>0.00</td>\n",
       "    </tr>\n",
       "    <tr>\n",
       "      <th>4</th>\n",
       "      <td>0  pounds</td>\n",
       "      <td>0.00</td>\n",
       "    </tr>\n",
       "    <tr>\n",
       "      <th>...</th>\n",
       "      <td>...</td>\n",
       "      <td>...</td>\n",
       "    </tr>\n",
       "    <tr>\n",
       "      <th>421179</th>\n",
       "      <td>“so sous me”  cookbook series  doc schneider  ...</td>\n",
       "      <td>54.25</td>\n",
       "    </tr>\n",
       "    <tr>\n",
       "      <th>421180</th>\n",
       "      <td>“stop food waste day”</td>\n",
       "      <td>241.11</td>\n",
       "    </tr>\n",
       "    <tr>\n",
       "      <th>421181</th>\n",
       "      <td>•\\ttofu vegetable stir fry over rice</td>\n",
       "      <td>0.00</td>\n",
       "    </tr>\n",
       "    <tr>\n",
       "      <th>421182</th>\n",
       "      <td>○\\tegg allergy</td>\n",
       "      <td>0.00</td>\n",
       "    </tr>\n",
       "    <tr>\n",
       "      <th>421183</th>\n",
       "      <td>🇧🇦 bosnian steak   potato pita 🇧🇦</td>\n",
       "      <td>35.80</td>\n",
       "    </tr>\n",
       "  </tbody>\n",
       "</table>\n",
       "<p>421184 rows × 2 columns</p>\n",
       "</div>"
      ],
      "text/plain": [
       "                                       item_for_selection  sales_amt_gross\n",
       "0                                                                     0.00\n",
       "1                                                0  ounce             0.00\n",
       "2                                                0  pound             0.00\n",
       "3                                            0  pound lbs             0.00\n",
       "4                                               0  pounds             0.00\n",
       "...                                                   ...              ...\n",
       "421179  “so sous me”  cookbook series  doc schneider  ...            54.25\n",
       "421180                              “stop food waste day”           241.11\n",
       "421181               •\\ttofu vegetable stir fry over rice             0.00\n",
       "421182                                     ○\\tegg allergy             0.00\n",
       "421183                  🇧🇦 bosnian steak   potato pita 🇧🇦            35.80\n",
       "\n",
       "[421184 rows x 2 columns]"
      ]
     },
     "execution_count": 113,
     "metadata": {},
     "output_type": "execute_result"
    }
   ],
   "source": [
    "import string\n",
    "from pandas.api.types import is_numeric_dtype\n",
    "\n",
    "## Lets generate a df of remaining items with suggested labels to select from\n",
    "\n",
    "# This is the same as the function in 00\n",
    "def preprocess_item_name(df, itemname_col):\n",
    "    '''\n",
    "    Add in any preprocessing your dataset needs in this step\n",
    "    \n",
    "    Other notes:\n",
    "    item_input will be used for inference\n",
    "    item_for_selection will be used for train and test set selection\n",
    "\n",
    "    '''\n",
    "\n",
    "    # # item_input is used for inference, for now we'll feed the model the input exactly as it's given to us.\n",
    "    # # You can do some processing to item_input if you find that it breaks the model.\n",
    "    # df['item_input'] = df[itemname_col]\n",
    "\n",
    "    # item_for_selection is setting up a groupby later on which is looking to group variations of the same item.\n",
    "    # Remove any special characters present in your item name here.\n",
    "    translator = str.maketrans(string.punctuation, ' '*len(string.punctuation)) # Replace punctuation with ' '\n",
    "    df['item_for_selection']= df[itemname_col].fillna('').str.translate(translator).str.lower().str.strip()\n",
    "\n",
    "    #### Add in any preprocessing required here #####\n",
    "\n",
    "    return df\n",
    "\n",
    "def group_by_unique_items(df_r, params):\n",
    "    # Get the relevant subset of columns\n",
    "    df_selection_pool = df_r[['item_for_selection', params['core']['spend_col']]]\n",
    "\n",
    "    # group by item_for_selection to remove duplicate items.\n",
    "    funcs = {col:'sum' if is_numeric_dtype(df_selection_pool[col])\n",
    "                                else 'first'\n",
    "                    for col in df_selection_pool.drop('item_for_selection', 1).columns}\n",
    "    df_selection_pool = df_selection_pool.groupby('item_for_selection').agg(funcs).reset_index()\n",
    "    return df_selection_pool\n",
    "\n",
    "df_remaining = pd.read_csv(f\"classifier/{model_params['model_name']}/data/{model_params['model_name']}_remaining_items.csv\")\n",
    "df_r= preprocess_item_name(df_remaining, params['core']['itemname_col'])\n",
    "df_selection_pool = group_by_unique_items(df_r, params)\n",
    "\n",
    "df_selection_pool\n"
   ]
  },
  {
   "cell_type": "code",
   "execution_count": 118,
   "id": "b1a4c426",
   "metadata": {},
   "outputs": [],
   "source": [
    "def add_predictions_to_remaining_items(results, params, df_selection_pool):\n",
    "    results_pp = results.copy(deep=True)\n",
    "    results_pp = preprocess_item_name(results_pp, params['core']['itemname_col'])\n",
    "    results_merged = results_pp.merge(df_selection_pool['item_for_selection'], how='left', on='item_for_selection', indicator=True)\n",
    "    df_joined = results_merged.loc[results_merged['_merge']=='both']\n",
    "    df_joined.drop(['_merge'], axis=1, inplace=True)\n",
    "    return df_joined\n",
    "\n",
    "df_joined = add_predictions_to_remaining_items(results, params, df_selection_pool)"
   ]
  },
  {
   "cell_type": "code",
   "execution_count": 119,
   "id": "d43c05a8",
   "metadata": {},
   "outputs": [
    {
     "data": {
      "text/html": [
       "<div>\n",
       "<style scoped>\n",
       "    .dataframe tbody tr th:only-of-type {\n",
       "        vertical-align: middle;\n",
       "    }\n",
       "\n",
       "    .dataframe tbody tr th {\n",
       "        vertical-align: top;\n",
       "    }\n",
       "\n",
       "    .dataframe thead th {\n",
       "        text-align: right;\n",
       "    }\n",
       "</style>\n",
       "<table border=\"1\" class=\"dataframe\">\n",
       "  <thead>\n",
       "    <tr style=\"text-align: right;\">\n",
       "      <th></th>\n",
       "      <th>index</th>\n",
       "      <th>tier_1</th>\n",
       "      <th>tier_2</th>\n",
       "      <th>tier_3</th>\n",
       "      <th>tier_4</th>\n",
       "      <th>lineitem_name</th>\n",
       "      <th>sales_amt_gross</th>\n",
       "      <th>label</th>\n",
       "      <th>prediction</th>\n",
       "      <th>rounded_confidence</th>\n",
       "      <th>item_for_selection</th>\n",
       "      <th>which_set</th>\n",
       "    </tr>\n",
       "  </thead>\n",
       "  <tbody>\n",
       "    <tr>\n",
       "      <th>0</th>\n",
       "      <td>235845</td>\n",
       "      <td>Food</td>\n",
       "      <td>Breakfast</td>\n",
       "      <td>Griddle</td>\n",
       "      <td>Pancakes</td>\n",
       "      <td>Blueberry corn pancakes with chi</td>\n",
       "      <td>65.94</td>\n",
       "      <td>NaN</td>\n",
       "      <td>AO</td>\n",
       "      <td>0.4</td>\n",
       "      <td>blueberry corn pancakes with chi</td>\n",
       "      <td>train</td>\n",
       "    </tr>\n",
       "    <tr>\n",
       "      <th>1</th>\n",
       "      <td>274228</td>\n",
       "      <td>Food</td>\n",
       "      <td>Breakfast</td>\n",
       "      <td>Breakfast Side</td>\n",
       "      <td>Hash Browns</td>\n",
       "      <td>BFK - Supreme Hasbrowns</td>\n",
       "      <td>237.25</td>\n",
       "      <td>NaN</td>\n",
       "      <td>AO</td>\n",
       "      <td>0.4</td>\n",
       "      <td>bfk   supreme hasbrowns</td>\n",
       "      <td>train</td>\n",
       "    </tr>\n",
       "    <tr>\n",
       "      <th>2</th>\n",
       "      <td>44954</td>\n",
       "      <td>Food</td>\n",
       "      <td>Breakfast</td>\n",
       "      <td>Breakfast Side</td>\n",
       "      <td>Hash Browns</td>\n",
       "      <td>GA - BK - Hashbrown Potatoes</td>\n",
       "      <td>3860.52</td>\n",
       "      <td>NaN</td>\n",
       "      <td>AO</td>\n",
       "      <td>0.4</td>\n",
       "      <td>ga   bk   hashbrown potatoes</td>\n",
       "      <td>train</td>\n",
       "    </tr>\n",
       "    <tr>\n",
       "      <th>3</th>\n",
       "      <td>241688</td>\n",
       "      <td>Food</td>\n",
       "      <td>Entree</td>\n",
       "      <td>Other Entree</td>\n",
       "      <td>Other Entree</td>\n",
       "      <td>Cranberry Molassess Lacquered Gr</td>\n",
       "      <td>179.10</td>\n",
       "      <td>NaN</td>\n",
       "      <td>AO</td>\n",
       "      <td>0.4</td>\n",
       "      <td>cranberry molassess lacquered gr</td>\n",
       "      <td>train</td>\n",
       "    </tr>\n",
       "    <tr>\n",
       "      <th>4</th>\n",
       "      <td>154123</td>\n",
       "      <td>Food</td>\n",
       "      <td>Breakfast</td>\n",
       "      <td>Oatmeal/Cereal</td>\n",
       "      <td>Cereal</td>\n",
       "      <td>Cereal Cup Raisin Bran Crunch</td>\n",
       "      <td>805.92</td>\n",
       "      <td>NaN</td>\n",
       "      <td>AO</td>\n",
       "      <td>0.4</td>\n",
       "      <td>cereal cup raisin bran crunch</td>\n",
       "      <td>train</td>\n",
       "    </tr>\n",
       "    <tr>\n",
       "      <th>5</th>\n",
       "      <td>380098</td>\n",
       "      <td>Food</td>\n",
       "      <td>Entree</td>\n",
       "      <td>Other Entree</td>\n",
       "      <td>Lunch Special</td>\n",
       "      <td>Porchetta Special</td>\n",
       "      <td>38.00</td>\n",
       "      <td>NaN</td>\n",
       "      <td>AO</td>\n",
       "      <td>0.4</td>\n",
       "      <td>porchetta special</td>\n",
       "      <td>train</td>\n",
       "    </tr>\n",
       "    <tr>\n",
       "      <th>6</th>\n",
       "      <td>273552</td>\n",
       "      <td>Food</td>\n",
       "      <td>Entree</td>\n",
       "      <td>Other Entree</td>\n",
       "      <td>Prepackaged Meals</td>\n",
       "      <td>Meal Fresh N Ready Trian</td>\n",
       "      <td>99.75</td>\n",
       "      <td>NaN</td>\n",
       "      <td>AO</td>\n",
       "      <td>0.4</td>\n",
       "      <td>meal fresh n ready trian</td>\n",
       "      <td>train</td>\n",
       "    </tr>\n",
       "    <tr>\n",
       "      <th>7</th>\n",
       "      <td>438533</td>\n",
       "      <td>Food</td>\n",
       "      <td>Entree</td>\n",
       "      <td>Misc Protein Entree</td>\n",
       "      <td>Misc Protein Entree</td>\n",
       "      <td>Grill Special: Habanero Peach Ch</td>\n",
       "      <td>84.00</td>\n",
       "      <td>NaN</td>\n",
       "      <td>AO</td>\n",
       "      <td>0.4</td>\n",
       "      <td>grill special  habanero peach ch</td>\n",
       "      <td>train</td>\n",
       "    </tr>\n",
       "    <tr>\n",
       "      <th>8</th>\n",
       "      <td>308400</td>\n",
       "      <td>Food</td>\n",
       "      <td>Entree</td>\n",
       "      <td>Misc Protein Entree</td>\n",
       "      <td>Misc Protein Entree</td>\n",
       "      <td>Boars Head Ichiban Teriy</td>\n",
       "      <td>365.39</td>\n",
       "      <td>NaN</td>\n",
       "      <td>AO</td>\n",
       "      <td>0.4</td>\n",
       "      <td>boars head ichiban teriy</td>\n",
       "      <td>train</td>\n",
       "    </tr>\n",
       "    <tr>\n",
       "      <th>9</th>\n",
       "      <td>155064</td>\n",
       "      <td>Food</td>\n",
       "      <td>Entree</td>\n",
       "      <td>Misc Protein Entree</td>\n",
       "      <td>Misc Protein Entree</td>\n",
       "      <td>BBQ Tticket</td>\n",
       "      <td>4221.54</td>\n",
       "      <td>NaN</td>\n",
       "      <td>AO</td>\n",
       "      <td>0.4</td>\n",
       "      <td>bbq tticket</td>\n",
       "      <td>train</td>\n",
       "    </tr>\n",
       "    <tr>\n",
       "      <th>10</th>\n",
       "      <td>220555</td>\n",
       "      <td>Food</td>\n",
       "      <td>Entree</td>\n",
       "      <td>Salad</td>\n",
       "      <td>Salad</td>\n",
       "      <td>Kachumbari Salad</td>\n",
       "      <td>80.00</td>\n",
       "      <td>NaN</td>\n",
       "      <td>Veggie</td>\n",
       "      <td>0.3</td>\n",
       "      <td>kachumbari salad</td>\n",
       "      <td>train</td>\n",
       "    </tr>\n",
       "    <tr>\n",
       "      <th>11</th>\n",
       "      <td>150879</td>\n",
       "      <td>Food</td>\n",
       "      <td>Entree</td>\n",
       "      <td>Noodle/Grain Bowl</td>\n",
       "      <td>Noodle/Grain Bowl</td>\n",
       "      <td>Namul Dubu Bap</td>\n",
       "      <td>23940.00</td>\n",
       "      <td>NaN</td>\n",
       "      <td>Beef</td>\n",
       "      <td>0.4</td>\n",
       "      <td>namul dubu bap</td>\n",
       "      <td>train</td>\n",
       "    </tr>\n",
       "    <tr>\n",
       "      <th>12</th>\n",
       "      <td>192529</td>\n",
       "      <td>Food</td>\n",
       "      <td>Entree</td>\n",
       "      <td>Weighed/Build Your Own</td>\n",
       "      <td>Weighed/Build Your Own</td>\n",
       "      <td>4.70 Pound</td>\n",
       "      <td>0.00</td>\n",
       "      <td>NaN</td>\n",
       "      <td>Supplies</td>\n",
       "      <td>0.5</td>\n",
       "      <td>4 70 pound</td>\n",
       "      <td>train</td>\n",
       "    </tr>\n",
       "    <tr>\n",
       "      <th>13</th>\n",
       "      <td>242296</td>\n",
       "      <td>Food</td>\n",
       "      <td>Entree</td>\n",
       "      <td>Weighed/Build Your Own</td>\n",
       "      <td>Weighed/Build Your Own</td>\n",
       "      <td>0.258 Pound</td>\n",
       "      <td>0.00</td>\n",
       "      <td>NaN</td>\n",
       "      <td>Supplies</td>\n",
       "      <td>0.5</td>\n",
       "      <td>0 258 pound</td>\n",
       "      <td>train</td>\n",
       "    </tr>\n",
       "    <tr>\n",
       "      <th>14</th>\n",
       "      <td>164000</td>\n",
       "      <td>Food</td>\n",
       "      <td>Entree</td>\n",
       "      <td>Weighed/Build Your Own</td>\n",
       "      <td>Weighed/Build Your Own</td>\n",
       "      <td>Sp Up Large Boat</td>\n",
       "      <td>407.18</td>\n",
       "      <td>NaN</td>\n",
       "      <td>Supplies</td>\n",
       "      <td>0.5</td>\n",
       "      <td>sp up large boat</td>\n",
       "      <td>train</td>\n",
       "    </tr>\n",
       "    <tr>\n",
       "      <th>15</th>\n",
       "      <td>384985</td>\n",
       "      <td>Food</td>\n",
       "      <td>Entree</td>\n",
       "      <td>Salad</td>\n",
       "      <td>Salad</td>\n",
       "      <td>Large Caesar salad without dressing</td>\n",
       "      <td>5.99</td>\n",
       "      <td>NaN</td>\n",
       "      <td>Supplies</td>\n",
       "      <td>0.5</td>\n",
       "      <td>large caesar salad without dressing</td>\n",
       "      <td>train</td>\n",
       "    </tr>\n",
       "  </tbody>\n",
       "</table>\n",
       "</div>"
      ],
      "text/plain": [
       "     index tier_1     tier_2                  tier_3                  tier_4  \\\n",
       "0   235845   Food  Breakfast                 Griddle                Pancakes   \n",
       "1   274228   Food  Breakfast          Breakfast Side             Hash Browns   \n",
       "2    44954   Food  Breakfast          Breakfast Side             Hash Browns   \n",
       "3   241688   Food     Entree            Other Entree            Other Entree   \n",
       "4   154123   Food  Breakfast          Oatmeal/Cereal                  Cereal   \n",
       "5   380098   Food     Entree            Other Entree           Lunch Special   \n",
       "6   273552   Food     Entree            Other Entree       Prepackaged Meals   \n",
       "7   438533   Food     Entree     Misc Protein Entree     Misc Protein Entree   \n",
       "8   308400   Food     Entree     Misc Protein Entree     Misc Protein Entree   \n",
       "9   155064   Food     Entree     Misc Protein Entree     Misc Protein Entree   \n",
       "10  220555   Food     Entree                   Salad                   Salad   \n",
       "11  150879   Food     Entree       Noodle/Grain Bowl       Noodle/Grain Bowl   \n",
       "12  192529   Food     Entree  Weighed/Build Your Own  Weighed/Build Your Own   \n",
       "13  242296   Food     Entree  Weighed/Build Your Own  Weighed/Build Your Own   \n",
       "14  164000   Food     Entree  Weighed/Build Your Own  Weighed/Build Your Own   \n",
       "15  384985   Food     Entree                   Salad                   Salad   \n",
       "\n",
       "                          lineitem_name  sales_amt_gross  label prediction  \\\n",
       "0      Blueberry corn pancakes with chi            65.94    NaN         AO   \n",
       "1               BFK - Supreme Hasbrowns           237.25    NaN         AO   \n",
       "2          GA - BK - Hashbrown Potatoes          3860.52    NaN         AO   \n",
       "3      Cranberry Molassess Lacquered Gr           179.10    NaN         AO   \n",
       "4         Cereal Cup Raisin Bran Crunch           805.92    NaN         AO   \n",
       "5                     Porchetta Special            38.00    NaN         AO   \n",
       "6              Meal Fresh N Ready Trian            99.75    NaN         AO   \n",
       "7      Grill Special: Habanero Peach Ch            84.00    NaN         AO   \n",
       "8              Boars Head Ichiban Teriy           365.39    NaN         AO   \n",
       "9                           BBQ Tticket          4221.54    NaN         AO   \n",
       "10                     Kachumbari Salad            80.00    NaN     Veggie   \n",
       "11                       Namul Dubu Bap         23940.00    NaN       Beef   \n",
       "12                           4.70 Pound             0.00    NaN   Supplies   \n",
       "13                          0.258 Pound             0.00    NaN   Supplies   \n",
       "14                     Sp Up Large Boat           407.18    NaN   Supplies   \n",
       "15  Large Caesar salad without dressing             5.99    NaN   Supplies   \n",
       "\n",
       "    rounded_confidence                   item_for_selection which_set  \n",
       "0                  0.4     blueberry corn pancakes with chi     train  \n",
       "1                  0.4              bfk   supreme hasbrowns     train  \n",
       "2                  0.4         ga   bk   hashbrown potatoes     train  \n",
       "3                  0.4     cranberry molassess lacquered gr     train  \n",
       "4                  0.4        cereal cup raisin bran crunch     train  \n",
       "5                  0.4                    porchetta special     train  \n",
       "6                  0.4             meal fresh n ready trian     train  \n",
       "7                  0.4     grill special  habanero peach ch     train  \n",
       "8                  0.4             boars head ichiban teriy     train  \n",
       "9                  0.4                          bbq tticket     train  \n",
       "10                 0.3                     kachumbari salad     train  \n",
       "11                 0.4                       namul dubu bap     train  \n",
       "12                 0.5                           4 70 pound     train  \n",
       "13                 0.5                          0 258 pound     train  \n",
       "14                 0.5                     sp up large boat     train  \n",
       "15                 0.5  large caesar salad without dressing     train  "
      ]
     },
     "execution_count": 119,
     "metadata": {},
     "output_type": "execute_result"
    }
   ],
   "source": [
    "# Generate the labelling set and write it out\n",
    "\n",
    "def sample_items_from_df(additional_training_dict, df_joined):\n",
    "    samples_to_merge = []\n",
    "\n",
    "    # Generate our samples\n",
    "    for key in additional_training_dict.keys():\n",
    "        for k,v in additional_training_dict[key].items():\n",
    "            # Sample from the remaining items, and then remove it from the pool so it can't be sampled again\n",
    "            df_additional_samples = df_joined[df_joined['prediction']==k].sort_values(by='rounded_confidence').head(v)\n",
    "            df_joined = df_joined.merge(df_additional_samples['item_for_selection'], how='left', indicator=True)\n",
    "            df_joined = df_joined.loc[df_joined['_merge'] == 'left_only']\n",
    "            df_joined.drop(['_merge'], axis=1, inplace=True)\n",
    "\n",
    "            # Label sample based on why we're sampling it\n",
    "            if key=='under_represented_classes':\n",
    "                df_additional_samples['which_set'] = 'test'\n",
    "            else:\n",
    "                df_additional_samples['which_set'] = 'train'\n",
    "            samples_to_merge.append(df_additional_samples)\n",
    "\n",
    "    df_out = pd.concat(samples_to_merge).reset_index()\n",
    "    df_out_r = df_out.copy(deep=True)\n",
    "    cols = list(results)\n",
    "    cols = cols+ ['which_set']\n",
    "    df_out = df_out[cols]\n",
    "\n",
    "    additional_sample_files = glob.glob(f\"classifier/{model_params['model_name']}/data/additional_params*.csv\")\n",
    "    additional_sample_files = [i for i in additional_sample_files if 'labelled' not in i] # Remove the file names with \"labelled\" in it\n",
    "    if len(additional_sample_files) == 0:\n",
    "        df_out.to_csv(f\"classifier/{model_params['model_name']}/data/additional_params_1.csv\", index=False)\n",
    "    else:\n",
    "        n = int(re.split('[./_]', sorted(additional_sample_files)[-1])[-2])+1\n",
    "        df_out.to_csv(f\"classifier/{model_params['model_name']}/data/additional_params_{str(n)}.csv\", index=False)\n",
    "    \n",
    "    return df_out_r\n",
    "\n",
    "df_out_r = sample_items_from_df(additional_training_dict, df_joined)\n",
    "\n",
    "# These are the selected items for additional labelling\n",
    "df_out_r"
   ]
  },
  {
   "cell_type": "code",
   "execution_count": 120,
   "id": "066df697",
   "metadata": {},
   "outputs": [
    {
     "data": {
      "text/html": [
       "<div>\n",
       "<style scoped>\n",
       "    .dataframe tbody tr th:only-of-type {\n",
       "        vertical-align: middle;\n",
       "    }\n",
       "\n",
       "    .dataframe tbody tr th {\n",
       "        vertical-align: top;\n",
       "    }\n",
       "\n",
       "    .dataframe thead th {\n",
       "        text-align: right;\n",
       "    }\n",
       "</style>\n",
       "<table border=\"1\" class=\"dataframe\">\n",
       "  <thead>\n",
       "    <tr style=\"text-align: right;\">\n",
       "      <th></th>\n",
       "      <th>tier_1</th>\n",
       "      <th>tier_2</th>\n",
       "      <th>tier_3</th>\n",
       "      <th>tier_4</th>\n",
       "      <th>lineitem_name</th>\n",
       "      <th>sales_amt_gross</th>\n",
       "      <th>label</th>\n",
       "    </tr>\n",
       "  </thead>\n",
       "  <tbody>\n",
       "    <tr>\n",
       "      <th>0</th>\n",
       "      <td>Food</td>\n",
       "      <td>Breakfast</td>\n",
       "      <td>Breakfast Side</td>\n",
       "      <td>Grits</td>\n",
       "      <td>Grits Large</td>\n",
       "      <td>78552.240000</td>\n",
       "      <td>NaN</td>\n",
       "    </tr>\n",
       "    <tr>\n",
       "      <th>1</th>\n",
       "      <td>Food</td>\n",
       "      <td>Entree</td>\n",
       "      <td>Weighed/Build Your Own</td>\n",
       "      <td>Weighed/Build Your Own</td>\n",
       "      <td>Large Boat</td>\n",
       "      <td>190793.963333</td>\n",
       "      <td>NaN</td>\n",
       "    </tr>\n",
       "    <tr>\n",
       "      <th>2</th>\n",
       "      <td>Food</td>\n",
       "      <td>Entree</td>\n",
       "      <td>Sandwich/Wrap</td>\n",
       "      <td>Sandwich/Wrap</td>\n",
       "      <td>Kitchen Fresh 1137 Italian Focaccia (7.7oz)</td>\n",
       "      <td>84461.820000</td>\n",
       "      <td>NaN</td>\n",
       "    </tr>\n",
       "    <tr>\n",
       "      <th>3</th>\n",
       "      <td>Food</td>\n",
       "      <td>Entree</td>\n",
       "      <td>Noodle/Grain Bowl</td>\n",
       "      <td>Noodle/Grain Bowl</td>\n",
       "      <td>Adobo Chicken Bowl</td>\n",
       "      <td>236852.690000</td>\n",
       "      <td>NaN</td>\n",
       "    </tr>\n",
       "    <tr>\n",
       "      <th>4</th>\n",
       "      <td>Food</td>\n",
       "      <td>Breakfast</td>\n",
       "      <td>Oatmeal/Cereal</td>\n",
       "      <td>Oatmeal</td>\n",
       "      <td>8oz Steel Cut Oatmeal (1</td>\n",
       "      <td>125298.810000</td>\n",
       "      <td>NaN</td>\n",
       "    </tr>\n",
       "    <tr>\n",
       "      <th>...</th>\n",
       "      <td>...</td>\n",
       "      <td>...</td>\n",
       "      <td>...</td>\n",
       "      <td>...</td>\n",
       "      <td>...</td>\n",
       "      <td>...</td>\n",
       "      <td>...</td>\n",
       "    </tr>\n",
       "    <tr>\n",
       "      <th>457606</th>\n",
       "      <td>Food</td>\n",
       "      <td>Entree</td>\n",
       "      <td>Burger</td>\n",
       "      <td>Burger</td>\n",
       "      <td>Spicy Pepperjack Burger</td>\n",
       "      <td>5.490000</td>\n",
       "      <td>NaN</td>\n",
       "    </tr>\n",
       "    <tr>\n",
       "      <th>457607</th>\n",
       "      <td>Food</td>\n",
       "      <td>Entree</td>\n",
       "      <td>Other Entree</td>\n",
       "      <td>Other Entree</td>\n",
       "      <td>Charlotte SP White Egg Salad (6oz)</td>\n",
       "      <td>2.990000</td>\n",
       "      <td>NaN</td>\n",
       "    </tr>\n",
       "    <tr>\n",
       "      <th>457608</th>\n",
       "      <td>Food</td>\n",
       "      <td>Breakfast</td>\n",
       "      <td>Griddle</td>\n",
       "      <td>Waffles</td>\n",
       "      <td>Crisper and Waffle Combo</td>\n",
       "      <td>11.890000</td>\n",
       "      <td>NaN</td>\n",
       "    </tr>\n",
       "    <tr>\n",
       "      <th>457609</th>\n",
       "      <td>Food</td>\n",
       "      <td>Breakfast</td>\n",
       "      <td>Breakfast Sandwiches</td>\n",
       "      <td>Breakfast Sandwich/Wrap</td>\n",
       "      <td>BFK - FIT Applewood Bacon Egg &amp; Cheddar Flatbread</td>\n",
       "      <td>0.000000</td>\n",
       "      <td>NaN</td>\n",
       "    </tr>\n",
       "    <tr>\n",
       "      <th>457610</th>\n",
       "      <td>Food</td>\n",
       "      <td>Entree</td>\n",
       "      <td>Salad</td>\n",
       "      <td>Salad</td>\n",
       "      <td>Freekah&amp; Delicata Squash&amp; Pomegranate &amp; Pumpki...</td>\n",
       "      <td>10.250000</td>\n",
       "      <td>NaN</td>\n",
       "    </tr>\n",
       "  </tbody>\n",
       "</table>\n",
       "<p>457594 rows × 7 columns</p>\n",
       "</div>"
      ],
      "text/plain": [
       "       tier_1     tier_2                  tier_3                   tier_4  \\\n",
       "0        Food  Breakfast          Breakfast Side                    Grits   \n",
       "1        Food     Entree  Weighed/Build Your Own   Weighed/Build Your Own   \n",
       "2        Food     Entree           Sandwich/Wrap            Sandwich/Wrap   \n",
       "3        Food     Entree       Noodle/Grain Bowl        Noodle/Grain Bowl   \n",
       "4        Food  Breakfast          Oatmeal/Cereal                  Oatmeal   \n",
       "...       ...        ...                     ...                      ...   \n",
       "457606   Food     Entree                  Burger                   Burger   \n",
       "457607   Food     Entree            Other Entree             Other Entree   \n",
       "457608   Food  Breakfast                 Griddle                  Waffles   \n",
       "457609   Food  Breakfast    Breakfast Sandwiches  Breakfast Sandwich/Wrap   \n",
       "457610   Food     Entree                   Salad                    Salad   \n",
       "\n",
       "                                            lineitem_name  sales_amt_gross  \\\n",
       "0                                             Grits Large     78552.240000   \n",
       "1                                              Large Boat    190793.963333   \n",
       "2             Kitchen Fresh 1137 Italian Focaccia (7.7oz)     84461.820000   \n",
       "3                                      Adobo Chicken Bowl    236852.690000   \n",
       "4                                8oz Steel Cut Oatmeal (1    125298.810000   \n",
       "...                                                   ...              ...   \n",
       "457606                            Spicy Pepperjack Burger         5.490000   \n",
       "457607                 Charlotte SP White Egg Salad (6oz)         2.990000   \n",
       "457608                           Crisper and Waffle Combo        11.890000   \n",
       "457609  BFK - FIT Applewood Bacon Egg & Cheddar Flatbread         0.000000   \n",
       "457610  Freekah& Delicata Squash& Pomegranate & Pumpki...        10.250000   \n",
       "\n",
       "        label  \n",
       "0         NaN  \n",
       "1         NaN  \n",
       "2         NaN  \n",
       "3         NaN  \n",
       "4         NaN  \n",
       "...       ...  \n",
       "457606    NaN  \n",
       "457607    NaN  \n",
       "457608    NaN  \n",
       "457609    NaN  \n",
       "457610    NaN  \n",
       "\n",
       "[457594 rows x 7 columns]"
      ]
     },
     "execution_count": 120,
     "metadata": {},
     "output_type": "execute_result"
    }
   ],
   "source": [
    "# Finally, remove the selected items from the set of remainining and write out\n",
    "\n",
    "df_remaining_out = df_joined.merge(df_out_r['item_for_selection'], how='left', on='item_for_selection',indicator=True)\n",
    "df_remaining_out = df_remaining_out.loc[df_remaining_out['_merge'] == 'left_only']\n",
    "\n",
    "cols_out = [c for c in df_remaining_out if c not in ['_merge', 'rounded_confidence', 'prediction', 'item_for_selection']]\n",
    "\n",
    "df_remaining_out[cols_out].to_csv(f\"{model_params['model_type']}/{model_params['model_name']}/data/{model_params['model_name']}_remaining_items.csv\",index = False)\n",
    "df_remaining_out[cols_out]"
   ]
  },
  {
   "attachments": {},
   "cell_type": "markdown",
   "id": "f2ed7104",
   "metadata": {},
   "source": [
    "### Write out results\n",
    "Let's write out the model predictions on our train, test and full dataset."
   ]
  },
  {
   "attachments": {},
   "cell_type": "markdown",
   "id": "b24074ef",
   "metadata": {},
   "source": [
    "### Conclusion\n",
    "\n",
    "If you find the performance of your model acceptable, you can end it here. If you want to continue improving your model, find the additional_params_n.csv file and:\n",
    "1. fill in the 'label' column. \n",
    "2. Remove the 'prediction' and 'rounded_confidence' columns\n",
    "3. Save the file as additional_params_n_labelled.csv\n",
    "4. Rerun this notebook"
   ]
  },
  {
   "cell_type": "code",
   "execution_count": null,
   "id": "67dbaf29",
   "metadata": {},
   "outputs": [
    {
     "data": {
      "text/plain": [
       "(8174, 17)"
      ]
     },
     "execution_count": 33,
     "metadata": {},
     "output_type": "execute_result"
    }
   ],
   "source": [
    "df_remaining_out.shape #13733"
   ]
  },
  {
   "attachments": {},
   "cell_type": "markdown",
   "id": "8263f985",
   "metadata": {},
   "source": [
    "#### Tests"
   ]
  },
  {
   "cell_type": "code",
   "execution_count": null,
   "id": "4b7b567b",
   "metadata": {},
   "outputs": [],
   "source": [
    "## Join df_joined and df_remaining_out\n"
   ]
  }
 ],
 "metadata": {
  "kernelspec": {
   "display_name": "shared-sandbox",
   "language": "python",
   "name": "shared-sandbox"
  },
  "language_info": {
   "codemirror_mode": {
    "name": "ipython",
    "version": 3
   },
   "file_extension": ".py",
   "mimetype": "text/x-python",
   "name": "python",
   "nbconvert_exporter": "python",
   "pygments_lexer": "ipython3",
   "version": "3.8.10"
  },
  "vscode": {
   "interpreter": {
    "hash": "924cd68eab2f58ba959bdd6744e09bf0c48be24b286ae7351e60b0ee07a34664"
   }
  }
 },
 "nbformat": 4,
 "nbformat_minor": 5
}
